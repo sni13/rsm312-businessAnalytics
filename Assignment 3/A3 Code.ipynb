{
 "cells": [
  {
   "cell_type": "code",
   "execution_count": null,
   "metadata": {},
   "outputs": [],
   "source": [
    "import pandas as pd\n",
    "import matplotlib.pyplot as plt"
   ]
  },
  {
   "attachments": {},
   "cell_type": "markdown",
   "metadata": {},
   "source": [
    "### Reading in the data"
   ]
  },
  {
   "cell_type": "code",
   "execution_count": 54,
   "metadata": {},
   "outputs": [],
   "source": [
    "OECD_GDP = pd.read_csv('OECD_GDP.csv')\n",
    "OECD_Trade = pd.read_csv('OECD_Trade.csv')"
   ]
  },
  {
   "attachments": {},
   "cell_type": "markdown",
   "metadata": {},
   "source": [
    "### Inspecting the data"
   ]
  },
  {
   "cell_type": "code",
   "execution_count": 55,
   "metadata": {},
   "outputs": [
    {
     "name": "stdout",
     "output_type": "stream",
     "text": [
      "<class 'pandas.core.frame.DataFrame'>\n",
      "RangeIndex: 345 entries, 0 to 344\n",
      "Data columns (total 17 columns):\n",
      " #   Column                 Non-Null Count  Dtype  \n",
      "---  ------                 --------------  -----  \n",
      " 0   LOCATION               345 non-null    object \n",
      " 1   Country                345 non-null    object \n",
      " 2   TRANSACT               345 non-null    object \n",
      " 3   Transaction            345 non-null    object \n",
      " 4   MEASURE                345 non-null    object \n",
      " 5   Measure                345 non-null    object \n",
      " 6   TIME                   345 non-null    int64  \n",
      " 7   Year                   345 non-null    int64  \n",
      " 8   Unit Code              345 non-null    object \n",
      " 9   Unit                   345 non-null    object \n",
      " 10  PowerCode Code         345 non-null    int64  \n",
      " 11  PowerCode              345 non-null    object \n",
      " 12  Reference Period Code  0 non-null      float64\n",
      " 13  Reference Period       0 non-null      float64\n",
      " 14  Value                  345 non-null    float64\n",
      " 15  Flag Codes             23 non-null     object \n",
      " 16  Flags                  23 non-null     object \n",
      "dtypes: float64(3), int64(3), object(11)\n",
      "memory usage: 45.9+ KB\n"
     ]
    }
   ],
   "source": [
    "OECD_GDP.info()"
   ]
  },
  {
   "cell_type": "code",
   "execution_count": 56,
   "metadata": {},
   "outputs": [
    {
     "data": {
      "text/html": [
       "<div>\n",
       "<style scoped>\n",
       "    .dataframe tbody tr th:only-of-type {\n",
       "        vertical-align: middle;\n",
       "    }\n",
       "\n",
       "    .dataframe tbody tr th {\n",
       "        vertical-align: top;\n",
       "    }\n",
       "\n",
       "    .dataframe thead th {\n",
       "        text-align: right;\n",
       "    }\n",
       "</style>\n",
       "<table border=\"1\" class=\"dataframe\">\n",
       "  <thead>\n",
       "    <tr style=\"text-align: right;\">\n",
       "      <th></th>\n",
       "      <th>LOCATION</th>\n",
       "      <th>Country</th>\n",
       "      <th>TRANSACT</th>\n",
       "      <th>Transaction</th>\n",
       "      <th>MEASURE</th>\n",
       "      <th>Measure</th>\n",
       "      <th>TIME</th>\n",
       "      <th>Year</th>\n",
       "      <th>Unit Code</th>\n",
       "      <th>Unit</th>\n",
       "      <th>PowerCode Code</th>\n",
       "      <th>PowerCode</th>\n",
       "      <th>Reference Period Code</th>\n",
       "      <th>Reference Period</th>\n",
       "      <th>Value</th>\n",
       "      <th>Flag Codes</th>\n",
       "      <th>Flags</th>\n",
       "    </tr>\n",
       "  </thead>\n",
       "  <tbody>\n",
       "    <tr>\n",
       "      <th>0</th>\n",
       "      <td>AUS</td>\n",
       "      <td>Australia</td>\n",
       "      <td>B1_GA</td>\n",
       "      <td>Gross domestic product (output approach)</td>\n",
       "      <td>CXC</td>\n",
       "      <td>Current prices, current exchange rates</td>\n",
       "      <td>2010</td>\n",
       "      <td>2010</td>\n",
       "      <td>USD</td>\n",
       "      <td>US Dollar</td>\n",
       "      <td>6</td>\n",
       "      <td>Millions</td>\n",
       "      <td>NaN</td>\n",
       "      <td>NaN</td>\n",
       "      <td>1.299463e+06</td>\n",
       "      <td>NaN</td>\n",
       "      <td>NaN</td>\n",
       "    </tr>\n",
       "    <tr>\n",
       "      <th>1</th>\n",
       "      <td>AUS</td>\n",
       "      <td>Australia</td>\n",
       "      <td>B1_GA</td>\n",
       "      <td>Gross domestic product (output approach)</td>\n",
       "      <td>CXC</td>\n",
       "      <td>Current prices, current exchange rates</td>\n",
       "      <td>2011</td>\n",
       "      <td>2011</td>\n",
       "      <td>USD</td>\n",
       "      <td>US Dollar</td>\n",
       "      <td>6</td>\n",
       "      <td>Millions</td>\n",
       "      <td>NaN</td>\n",
       "      <td>NaN</td>\n",
       "      <td>1.546689e+06</td>\n",
       "      <td>NaN</td>\n",
       "      <td>NaN</td>\n",
       "    </tr>\n",
       "    <tr>\n",
       "      <th>2</th>\n",
       "      <td>AUS</td>\n",
       "      <td>Australia</td>\n",
       "      <td>B1_GA</td>\n",
       "      <td>Gross domestic product (output approach)</td>\n",
       "      <td>CXC</td>\n",
       "      <td>Current prices, current exchange rates</td>\n",
       "      <td>2012</td>\n",
       "      <td>2012</td>\n",
       "      <td>USD</td>\n",
       "      <td>US Dollar</td>\n",
       "      <td>6</td>\n",
       "      <td>Millions</td>\n",
       "      <td>NaN</td>\n",
       "      <td>NaN</td>\n",
       "      <td>1.590708e+06</td>\n",
       "      <td>NaN</td>\n",
       "      <td>NaN</td>\n",
       "    </tr>\n",
       "    <tr>\n",
       "      <th>3</th>\n",
       "      <td>AUS</td>\n",
       "      <td>Australia</td>\n",
       "      <td>B1_GA</td>\n",
       "      <td>Gross domestic product (output approach)</td>\n",
       "      <td>CXC</td>\n",
       "      <td>Current prices, current exchange rates</td>\n",
       "      <td>2013</td>\n",
       "      <td>2013</td>\n",
       "      <td>USD</td>\n",
       "      <td>US Dollar</td>\n",
       "      <td>6</td>\n",
       "      <td>Millions</td>\n",
       "      <td>NaN</td>\n",
       "      <td>NaN</td>\n",
       "      <td>1.543216e+06</td>\n",
       "      <td>NaN</td>\n",
       "      <td>NaN</td>\n",
       "    </tr>\n",
       "    <tr>\n",
       "      <th>4</th>\n",
       "      <td>AUS</td>\n",
       "      <td>Australia</td>\n",
       "      <td>B1_GA</td>\n",
       "      <td>Gross domestic product (output approach)</td>\n",
       "      <td>CXC</td>\n",
       "      <td>Current prices, current exchange rates</td>\n",
       "      <td>2014</td>\n",
       "      <td>2014</td>\n",
       "      <td>USD</td>\n",
       "      <td>US Dollar</td>\n",
       "      <td>6</td>\n",
       "      <td>Millions</td>\n",
       "      <td>NaN</td>\n",
       "      <td>NaN</td>\n",
       "      <td>1.464256e+06</td>\n",
       "      <td>NaN</td>\n",
       "      <td>NaN</td>\n",
       "    </tr>\n",
       "  </tbody>\n",
       "</table>\n",
       "</div>"
      ],
      "text/plain": [
       "  LOCATION    Country TRANSACT                               Transaction  \\\n",
       "0      AUS  Australia    B1_GA  Gross domestic product (output approach)   \n",
       "1      AUS  Australia    B1_GA  Gross domestic product (output approach)   \n",
       "2      AUS  Australia    B1_GA  Gross domestic product (output approach)   \n",
       "3      AUS  Australia    B1_GA  Gross domestic product (output approach)   \n",
       "4      AUS  Australia    B1_GA  Gross domestic product (output approach)   \n",
       "\n",
       "  MEASURE                                 Measure  TIME  Year Unit Code  \\\n",
       "0     CXC  Current prices, current exchange rates  2010  2010       USD   \n",
       "1     CXC  Current prices, current exchange rates  2011  2011       USD   \n",
       "2     CXC  Current prices, current exchange rates  2012  2012       USD   \n",
       "3     CXC  Current prices, current exchange rates  2013  2013       USD   \n",
       "4     CXC  Current prices, current exchange rates  2014  2014       USD   \n",
       "\n",
       "        Unit  PowerCode Code PowerCode  Reference Period Code  \\\n",
       "0  US Dollar               6  Millions                    NaN   \n",
       "1  US Dollar               6  Millions                    NaN   \n",
       "2  US Dollar               6  Millions                    NaN   \n",
       "3  US Dollar               6  Millions                    NaN   \n",
       "4  US Dollar               6  Millions                    NaN   \n",
       "\n",
       "   Reference Period         Value Flag Codes Flags  \n",
       "0               NaN  1.299463e+06        NaN   NaN  \n",
       "1               NaN  1.546689e+06        NaN   NaN  \n",
       "2               NaN  1.590708e+06        NaN   NaN  \n",
       "3               NaN  1.543216e+06        NaN   NaN  \n",
       "4               NaN  1.464256e+06        NaN   NaN  "
      ]
     },
     "execution_count": 56,
     "metadata": {},
     "output_type": "execute_result"
    }
   ],
   "source": [
    "OECD_GDP.head()"
   ]
  },
  {
   "cell_type": "code",
   "execution_count": 57,
   "metadata": {},
   "outputs": [
    {
     "name": "stdout",
     "output_type": "stream",
     "text": [
      "<class 'pandas.core.frame.DataFrame'>\n",
      "RangeIndex: 29222 entries, 0 to 29221\n",
      "Data columns (total 19 columns):\n",
      " #   Column                 Non-Null Count  Dtype  \n",
      "---  ------                 --------------  -----  \n",
      " 0   LOCATION               29222 non-null  object \n",
      " 1   Reporter country       29222 non-null  object \n",
      " 2   FLOW                   29222 non-null  object \n",
      " 3   Flow                   29222 non-null  object \n",
      " 4   PARTNER                29222 non-null  object \n",
      " 5   Partner country        29222 non-null  object \n",
      " 6   FREQUENCY              29222 non-null  object \n",
      " 7   Frequency              29222 non-null  object \n",
      " 8   TIME                   29222 non-null  int64  \n",
      " 9   Time                   29222 non-null  int64  \n",
      " 10  Unit Code              29222 non-null  object \n",
      " 11  Unit                   29222 non-null  object \n",
      " 12  PowerCode Code         29222 non-null  int64  \n",
      " 13  PowerCode              29222 non-null  object \n",
      " 14  Reference Period Code  0 non-null      float64\n",
      " 15  Reference Period       0 non-null      float64\n",
      " 16  Value                  29222 non-null  int64  \n",
      " 17  Flag Codes             0 non-null      float64\n",
      " 18  Flags                  0 non-null      float64\n",
      "dtypes: float64(4), int64(4), object(11)\n",
      "memory usage: 4.2+ MB\n"
     ]
    }
   ],
   "source": [
    "OECD_Trade.info()"
   ]
  },
  {
   "cell_type": "code",
   "execution_count": 58,
   "metadata": {},
   "outputs": [
    {
     "data": {
      "text/html": [
       "<div>\n",
       "<style scoped>\n",
       "    .dataframe tbody tr th:only-of-type {\n",
       "        vertical-align: middle;\n",
       "    }\n",
       "\n",
       "    .dataframe tbody tr th {\n",
       "        vertical-align: top;\n",
       "    }\n",
       "\n",
       "    .dataframe thead th {\n",
       "        text-align: right;\n",
       "    }\n",
       "</style>\n",
       "<table border=\"1\" class=\"dataframe\">\n",
       "  <thead>\n",
       "    <tr style=\"text-align: right;\">\n",
       "      <th></th>\n",
       "      <th>LOCATION</th>\n",
       "      <th>Reporter country</th>\n",
       "      <th>FLOW</th>\n",
       "      <th>Flow</th>\n",
       "      <th>PARTNER</th>\n",
       "      <th>Partner country</th>\n",
       "      <th>FREQUENCY</th>\n",
       "      <th>Frequency</th>\n",
       "      <th>TIME</th>\n",
       "      <th>Time</th>\n",
       "      <th>Unit Code</th>\n",
       "      <th>Unit</th>\n",
       "      <th>PowerCode Code</th>\n",
       "      <th>PowerCode</th>\n",
       "      <th>Reference Period Code</th>\n",
       "      <th>Reference Period</th>\n",
       "      <th>Value</th>\n",
       "      <th>Flag Codes</th>\n",
       "      <th>Flags</th>\n",
       "    </tr>\n",
       "  </thead>\n",
       "  <tbody>\n",
       "    <tr>\n",
       "      <th>0</th>\n",
       "      <td>AUS</td>\n",
       "      <td>Australia</td>\n",
       "      <td>EXP</td>\n",
       "      <td>Exports</td>\n",
       "      <td>AUT</td>\n",
       "      <td>Austria</td>\n",
       "      <td>A</td>\n",
       "      <td>Annual</td>\n",
       "      <td>2011</td>\n",
       "      <td>2011</td>\n",
       "      <td>USD</td>\n",
       "      <td>US Dollar</td>\n",
       "      <td>0</td>\n",
       "      <td>Units</td>\n",
       "      <td>NaN</td>\n",
       "      <td>NaN</td>\n",
       "      <td>73144918</td>\n",
       "      <td>NaN</td>\n",
       "      <td>NaN</td>\n",
       "    </tr>\n",
       "    <tr>\n",
       "      <th>1</th>\n",
       "      <td>AUS</td>\n",
       "      <td>Australia</td>\n",
       "      <td>EXP</td>\n",
       "      <td>Exports</td>\n",
       "      <td>AUT</td>\n",
       "      <td>Austria</td>\n",
       "      <td>A</td>\n",
       "      <td>Annual</td>\n",
       "      <td>2012</td>\n",
       "      <td>2012</td>\n",
       "      <td>USD</td>\n",
       "      <td>US Dollar</td>\n",
       "      <td>0</td>\n",
       "      <td>Units</td>\n",
       "      <td>NaN</td>\n",
       "      <td>NaN</td>\n",
       "      <td>71483059</td>\n",
       "      <td>NaN</td>\n",
       "      <td>NaN</td>\n",
       "    </tr>\n",
       "    <tr>\n",
       "      <th>2</th>\n",
       "      <td>AUS</td>\n",
       "      <td>Australia</td>\n",
       "      <td>EXP</td>\n",
       "      <td>Exports</td>\n",
       "      <td>AUT</td>\n",
       "      <td>Austria</td>\n",
       "      <td>A</td>\n",
       "      <td>Annual</td>\n",
       "      <td>2013</td>\n",
       "      <td>2013</td>\n",
       "      <td>USD</td>\n",
       "      <td>US Dollar</td>\n",
       "      <td>0</td>\n",
       "      <td>Units</td>\n",
       "      <td>NaN</td>\n",
       "      <td>NaN</td>\n",
       "      <td>67897422</td>\n",
       "      <td>NaN</td>\n",
       "      <td>NaN</td>\n",
       "    </tr>\n",
       "    <tr>\n",
       "      <th>3</th>\n",
       "      <td>AUS</td>\n",
       "      <td>Australia</td>\n",
       "      <td>EXP</td>\n",
       "      <td>Exports</td>\n",
       "      <td>AUT</td>\n",
       "      <td>Austria</td>\n",
       "      <td>A</td>\n",
       "      <td>Annual</td>\n",
       "      <td>2014</td>\n",
       "      <td>2014</td>\n",
       "      <td>USD</td>\n",
       "      <td>US Dollar</td>\n",
       "      <td>0</td>\n",
       "      <td>Units</td>\n",
       "      <td>NaN</td>\n",
       "      <td>NaN</td>\n",
       "      <td>61114752</td>\n",
       "      <td>NaN</td>\n",
       "      <td>NaN</td>\n",
       "    </tr>\n",
       "    <tr>\n",
       "      <th>4</th>\n",
       "      <td>AUS</td>\n",
       "      <td>Australia</td>\n",
       "      <td>EXP</td>\n",
       "      <td>Exports</td>\n",
       "      <td>AUT</td>\n",
       "      <td>Austria</td>\n",
       "      <td>A</td>\n",
       "      <td>Annual</td>\n",
       "      <td>2015</td>\n",
       "      <td>2015</td>\n",
       "      <td>USD</td>\n",
       "      <td>US Dollar</td>\n",
       "      <td>0</td>\n",
       "      <td>Units</td>\n",
       "      <td>NaN</td>\n",
       "      <td>NaN</td>\n",
       "      <td>54730242</td>\n",
       "      <td>NaN</td>\n",
       "      <td>NaN</td>\n",
       "    </tr>\n",
       "    <tr>\n",
       "      <th>5</th>\n",
       "      <td>AUS</td>\n",
       "      <td>Australia</td>\n",
       "      <td>EXP</td>\n",
       "      <td>Exports</td>\n",
       "      <td>AUT</td>\n",
       "      <td>Austria</td>\n",
       "      <td>A</td>\n",
       "      <td>Annual</td>\n",
       "      <td>2016</td>\n",
       "      <td>2016</td>\n",
       "      <td>USD</td>\n",
       "      <td>US Dollar</td>\n",
       "      <td>0</td>\n",
       "      <td>Units</td>\n",
       "      <td>NaN</td>\n",
       "      <td>NaN</td>\n",
       "      <td>25706711</td>\n",
       "      <td>NaN</td>\n",
       "      <td>NaN</td>\n",
       "    </tr>\n",
       "    <tr>\n",
       "      <th>6</th>\n",
       "      <td>AUS</td>\n",
       "      <td>Australia</td>\n",
       "      <td>EXP</td>\n",
       "      <td>Exports</td>\n",
       "      <td>AUT</td>\n",
       "      <td>Austria</td>\n",
       "      <td>A</td>\n",
       "      <td>Annual</td>\n",
       "      <td>2017</td>\n",
       "      <td>2017</td>\n",
       "      <td>USD</td>\n",
       "      <td>US Dollar</td>\n",
       "      <td>0</td>\n",
       "      <td>Units</td>\n",
       "      <td>NaN</td>\n",
       "      <td>NaN</td>\n",
       "      <td>34765478</td>\n",
       "      <td>NaN</td>\n",
       "      <td>NaN</td>\n",
       "    </tr>\n",
       "    <tr>\n",
       "      <th>7</th>\n",
       "      <td>AUS</td>\n",
       "      <td>Australia</td>\n",
       "      <td>EXP</td>\n",
       "      <td>Exports</td>\n",
       "      <td>AUT</td>\n",
       "      <td>Austria</td>\n",
       "      <td>A</td>\n",
       "      <td>Annual</td>\n",
       "      <td>2018</td>\n",
       "      <td>2018</td>\n",
       "      <td>USD</td>\n",
       "      <td>US Dollar</td>\n",
       "      <td>0</td>\n",
       "      <td>Units</td>\n",
       "      <td>NaN</td>\n",
       "      <td>NaN</td>\n",
       "      <td>27169681</td>\n",
       "      <td>NaN</td>\n",
       "      <td>NaN</td>\n",
       "    </tr>\n",
       "    <tr>\n",
       "      <th>8</th>\n",
       "      <td>AUS</td>\n",
       "      <td>Australia</td>\n",
       "      <td>EXP</td>\n",
       "      <td>Exports</td>\n",
       "      <td>BEL</td>\n",
       "      <td>Belgium</td>\n",
       "      <td>A</td>\n",
       "      <td>Annual</td>\n",
       "      <td>2011</td>\n",
       "      <td>2011</td>\n",
       "      <td>USD</td>\n",
       "      <td>US Dollar</td>\n",
       "      <td>0</td>\n",
       "      <td>Units</td>\n",
       "      <td>NaN</td>\n",
       "      <td>NaN</td>\n",
       "      <td>1237897212</td>\n",
       "      <td>NaN</td>\n",
       "      <td>NaN</td>\n",
       "    </tr>\n",
       "    <tr>\n",
       "      <th>9</th>\n",
       "      <td>AUS</td>\n",
       "      <td>Australia</td>\n",
       "      <td>EXP</td>\n",
       "      <td>Exports</td>\n",
       "      <td>BEL</td>\n",
       "      <td>Belgium</td>\n",
       "      <td>A</td>\n",
       "      <td>Annual</td>\n",
       "      <td>2012</td>\n",
       "      <td>2012</td>\n",
       "      <td>USD</td>\n",
       "      <td>US Dollar</td>\n",
       "      <td>0</td>\n",
       "      <td>Units</td>\n",
       "      <td>NaN</td>\n",
       "      <td>NaN</td>\n",
       "      <td>1434062444</td>\n",
       "      <td>NaN</td>\n",
       "      <td>NaN</td>\n",
       "    </tr>\n",
       "  </tbody>\n",
       "</table>\n",
       "</div>"
      ],
      "text/plain": [
       "  LOCATION Reporter country FLOW     Flow PARTNER Partner country FREQUENCY  \\\n",
       "0      AUS        Australia  EXP  Exports     AUT         Austria         A   \n",
       "1      AUS        Australia  EXP  Exports     AUT         Austria         A   \n",
       "2      AUS        Australia  EXP  Exports     AUT         Austria         A   \n",
       "3      AUS        Australia  EXP  Exports     AUT         Austria         A   \n",
       "4      AUS        Australia  EXP  Exports     AUT         Austria         A   \n",
       "5      AUS        Australia  EXP  Exports     AUT         Austria         A   \n",
       "6      AUS        Australia  EXP  Exports     AUT         Austria         A   \n",
       "7      AUS        Australia  EXP  Exports     AUT         Austria         A   \n",
       "8      AUS        Australia  EXP  Exports     BEL         Belgium         A   \n",
       "9      AUS        Australia  EXP  Exports     BEL         Belgium         A   \n",
       "\n",
       "  Frequency  TIME  Time Unit Code       Unit  PowerCode Code PowerCode  \\\n",
       "0    Annual  2011  2011       USD  US Dollar               0     Units   \n",
       "1    Annual  2012  2012       USD  US Dollar               0     Units   \n",
       "2    Annual  2013  2013       USD  US Dollar               0     Units   \n",
       "3    Annual  2014  2014       USD  US Dollar               0     Units   \n",
       "4    Annual  2015  2015       USD  US Dollar               0     Units   \n",
       "5    Annual  2016  2016       USD  US Dollar               0     Units   \n",
       "6    Annual  2017  2017       USD  US Dollar               0     Units   \n",
       "7    Annual  2018  2018       USD  US Dollar               0     Units   \n",
       "8    Annual  2011  2011       USD  US Dollar               0     Units   \n",
       "9    Annual  2012  2012       USD  US Dollar               0     Units   \n",
       "\n",
       "   Reference Period Code  Reference Period       Value  Flag Codes  Flags  \n",
       "0                    NaN               NaN    73144918         NaN    NaN  \n",
       "1                    NaN               NaN    71483059         NaN    NaN  \n",
       "2                    NaN               NaN    67897422         NaN    NaN  \n",
       "3                    NaN               NaN    61114752         NaN    NaN  \n",
       "4                    NaN               NaN    54730242         NaN    NaN  \n",
       "5                    NaN               NaN    25706711         NaN    NaN  \n",
       "6                    NaN               NaN    34765478         NaN    NaN  \n",
       "7                    NaN               NaN    27169681         NaN    NaN  \n",
       "8                    NaN               NaN  1237897212         NaN    NaN  \n",
       "9                    NaN               NaN  1434062444         NaN    NaN  "
      ]
     },
     "execution_count": 58,
     "metadata": {},
     "output_type": "execute_result"
    }
   ],
   "source": [
    "OECD_Trade.head(10)"
   ]
  },
  {
   "cell_type": "code",
   "execution_count": 59,
   "metadata": {},
   "outputs": [
    {
     "data": {
      "text/plain": [
       "73144918"
      ]
     },
     "execution_count": 59,
     "metadata": {},
     "output_type": "execute_result"
    }
   ],
   "source": [
    "OECD_Trade[\"Value\"][0]"
   ]
  },
  {
   "cell_type": "code",
   "execution_count": 60,
   "metadata": {},
   "outputs": [
    {
     "data": {
      "text/plain": [
       "1299463.0764"
      ]
     },
     "execution_count": 60,
     "metadata": {},
     "output_type": "execute_result"
    }
   ],
   "source": [
    "OECD_GDP[\"Value\"][0]"
   ]
  },
  {
   "cell_type": "code",
   "execution_count": 61,
   "metadata": {},
   "outputs": [
    {
     "data": {
      "text/plain": [
       "array(['Exports', 'Imports'], dtype=object)"
      ]
     },
     "execution_count": 61,
     "metadata": {},
     "output_type": "execute_result"
    }
   ],
   "source": [
    "OECD_Trade[\"Flow\"].unique()"
   ]
  },
  {
   "cell_type": "code",
   "execution_count": 62,
   "metadata": {},
   "outputs": [
    {
     "data": {
      "text/plain": [
       "array(['Gross domestic product (output approach)'], dtype=object)"
      ]
     },
     "execution_count": 62,
     "metadata": {},
     "output_type": "execute_result"
    }
   ],
   "source": [
    "OECD_GDP[\"Transaction\"].unique()"
   ]
  },
  {
   "attachments": {},
   "cell_type": "markdown",
   "metadata": {},
   "source": [
    " OECD_GDP contains Panel data for each country for each year between 2010 to 2018. The value column represents GDP.\n",
    " - Almost every column is duplicated twice and thus will be removed\n",
    " - There are empty columns (Reference Period Code, Reference Period) and thus will be removed"
   ]
  },
  {
   "attachments": {},
   "cell_type": "markdown",
   "metadata": {},
   "source": [
    "OECD_Trade contains Panel data for each country for each year between 2010 to 2018. The value column either represents imports or exports -> depending on the \"flow\" indicator column\n",
    " - Almost every column is duplicated twice and thus will be removed\n",
    " - There are empty columns (Reference Period Code, Reference Period, Flags, Flag Codes) and thus will be removed"
   ]
  },
  {
   "attachments": {},
   "cell_type": "markdown",
   "metadata": {},
   "source": [
    "### Data Cleaning"
   ]
  },
  {
   "cell_type": "code",
   "execution_count": 63,
   "metadata": {},
   "outputs": [],
   "source": [
    "OECD_GDP = OECD_GDP.drop(['TRANSACT', 'MEASURE', 'TIME', 'Unit', 'PowerCode Code', 'Reference Period Code', 'Reference Period'], axis = 1)"
   ]
  },
  {
   "cell_type": "code",
   "execution_count": 64,
   "metadata": {},
   "outputs": [
    {
     "data": {
      "text/html": [
       "<div>\n",
       "<style scoped>\n",
       "    .dataframe tbody tr th:only-of-type {\n",
       "        vertical-align: middle;\n",
       "    }\n",
       "\n",
       "    .dataframe tbody tr th {\n",
       "        vertical-align: top;\n",
       "    }\n",
       "\n",
       "    .dataframe thead th {\n",
       "        text-align: right;\n",
       "    }\n",
       "</style>\n",
       "<table border=\"1\" class=\"dataframe\">\n",
       "  <thead>\n",
       "    <tr style=\"text-align: right;\">\n",
       "      <th></th>\n",
       "      <th>LOCATION</th>\n",
       "      <th>Country</th>\n",
       "      <th>Transaction</th>\n",
       "      <th>Measure</th>\n",
       "      <th>Year</th>\n",
       "      <th>Unit Code</th>\n",
       "      <th>PowerCode</th>\n",
       "      <th>Value</th>\n",
       "      <th>Flag Codes</th>\n",
       "      <th>Flags</th>\n",
       "    </tr>\n",
       "  </thead>\n",
       "  <tbody>\n",
       "    <tr>\n",
       "      <th>0</th>\n",
       "      <td>AUS</td>\n",
       "      <td>Australia</td>\n",
       "      <td>Gross domestic product (output approach)</td>\n",
       "      <td>Current prices, current exchange rates</td>\n",
       "      <td>2010</td>\n",
       "      <td>USD</td>\n",
       "      <td>Millions</td>\n",
       "      <td>1.299463e+06</td>\n",
       "      <td>NaN</td>\n",
       "      <td>NaN</td>\n",
       "    </tr>\n",
       "  </tbody>\n",
       "</table>\n",
       "</div>"
      ],
      "text/plain": [
       "  LOCATION    Country                               Transaction  \\\n",
       "0      AUS  Australia  Gross domestic product (output approach)   \n",
       "\n",
       "                                  Measure  Year Unit Code PowerCode  \\\n",
       "0  Current prices, current exchange rates  2010       USD  Millions   \n",
       "\n",
       "          Value Flag Codes Flags  \n",
       "0  1.299463e+06        NaN   NaN  "
      ]
     },
     "execution_count": 64,
     "metadata": {},
     "output_type": "execute_result"
    }
   ],
   "source": [
    "OECD_GDP.head(1)"
   ]
  },
  {
   "cell_type": "code",
   "execution_count": 65,
   "metadata": {},
   "outputs": [],
   "source": [
    "OECD_Trade = OECD_Trade.drop(['FLOW', 'FREQUENCY', 'TIME', 'Unit', 'PowerCode Code', 'Reference Period Code', 'Reference Period', 'Flag Codes', 'Flags'], axis = 1)"
   ]
  },
  {
   "cell_type": "code",
   "execution_count": 66,
   "metadata": {},
   "outputs": [
    {
     "data": {
      "text/html": [
       "<div>\n",
       "<style scoped>\n",
       "    .dataframe tbody tr th:only-of-type {\n",
       "        vertical-align: middle;\n",
       "    }\n",
       "\n",
       "    .dataframe tbody tr th {\n",
       "        vertical-align: top;\n",
       "    }\n",
       "\n",
       "    .dataframe thead th {\n",
       "        text-align: right;\n",
       "    }\n",
       "</style>\n",
       "<table border=\"1\" class=\"dataframe\">\n",
       "  <thead>\n",
       "    <tr style=\"text-align: right;\">\n",
       "      <th></th>\n",
       "      <th>LOCATION</th>\n",
       "      <th>Reporter country</th>\n",
       "      <th>Flow</th>\n",
       "      <th>PARTNER</th>\n",
       "      <th>Partner country</th>\n",
       "      <th>Frequency</th>\n",
       "      <th>Time</th>\n",
       "      <th>Unit Code</th>\n",
       "      <th>PowerCode</th>\n",
       "      <th>Value</th>\n",
       "    </tr>\n",
       "  </thead>\n",
       "  <tbody>\n",
       "    <tr>\n",
       "      <th>0</th>\n",
       "      <td>AUS</td>\n",
       "      <td>Australia</td>\n",
       "      <td>Exports</td>\n",
       "      <td>AUT</td>\n",
       "      <td>Austria</td>\n",
       "      <td>Annual</td>\n",
       "      <td>2011</td>\n",
       "      <td>USD</td>\n",
       "      <td>Units</td>\n",
       "      <td>73144918</td>\n",
       "    </tr>\n",
       "  </tbody>\n",
       "</table>\n",
       "</div>"
      ],
      "text/plain": [
       "  LOCATION Reporter country     Flow PARTNER Partner country Frequency  Time  \\\n",
       "0      AUS        Australia  Exports     AUT         Austria    Annual  2011   \n",
       "\n",
       "  Unit Code PowerCode     Value  \n",
       "0       USD     Units  73144918  "
      ]
     },
     "execution_count": 66,
     "metadata": {},
     "output_type": "execute_result"
    }
   ],
   "source": [
    "OECD_Trade.head(1)"
   ]
  },
  {
   "attachments": {},
   "cell_type": "markdown",
   "metadata": {},
   "source": [
    "### Task 2A"
   ]
  },
  {
   "attachments": {},
   "cell_type": "markdown",
   "metadata": {},
   "source": [
    "i. Create a line chart showing the total annual import and export of all countries combined for each year from 2010 to 2018.\n",
    "\n"
   ]
  },
  {
   "cell_type": "code",
   "execution_count": 67,
   "metadata": {},
   "outputs": [
    {
     "data": {
      "image/png": "[encoded data removed]",
      "text/plain": [
       "<Figure size 432x288 with 1 Axes>"
      ]
     },
     "metadata": {
      "needs_background": "light"
     },
     "output_type": "display_data"
    }
   ],
   "source": [
    "grouped = OECD_Trade.groupby(['Time', 'Flow'])['Value'].sum().reset_index()\n",
    "\n",
    "# Pivot the data to have separate columns for imports and exports\n",
    "pivoted = grouped.pivot(index='Time', columns='Flow', values='Value').reset_index()\n",
    "\n",
    "# Create a line chart of the data\n",
    "plt.plot(pivoted['Time'], pivoted['Exports'] / 1e12, label='Exports', marker = 'o')\n",
    "plt.plot(pivoted['Time'], pivoted['Imports'] / 1e12, label='Imports', marker = 'o')\n",
    "plt.legend()\n",
    "plt.xlabel('Year', fontweight='bold')\n",
    "plt.ylabel('Trillions of USD', fontweight='bold')\n",
    "plt.title('Total OECD Countries Annual Imports and Exports (2010-2018)', fontweight = 'bold')\n",
    "plt.legend(loc='center left', bbox_to_anchor=(1, 0.5))\n",
    "plt.show()"
   ]
  },
  {
   "attachments": {},
   "cell_type": "markdown",
   "metadata": {},
   "source": [
    "ii. Create a line chart showing the total net export of all countries combined for each year from 2010 to 2018."
   ]
  },
  {
   "cell_type": "code",
   "execution_count": 68,
   "metadata": {},
   "outputs": [
    {
     "data": {
      "text/html": [
       "<div>\n",
       "<style scoped>\n",
       "    .dataframe tbody tr th:only-of-type {\n",
       "        vertical-align: middle;\n",
       "    }\n",
       "\n",
       "    .dataframe tbody tr th {\n",
       "        vertical-align: top;\n",
       "    }\n",
       "\n",
       "    .dataframe thead th {\n",
       "        text-align: right;\n",
       "    }\n",
       "</style>\n",
       "<table border=\"1\" class=\"dataframe\">\n",
       "  <thead>\n",
       "    <tr style=\"text-align: right;\">\n",
       "      <th>Flow</th>\n",
       "      <th>Time</th>\n",
       "      <th>Exports</th>\n",
       "      <th>Imports</th>\n",
       "      <th>Net Exports</th>\n",
       "    </tr>\n",
       "  </thead>\n",
       "  <tbody>\n",
       "    <tr>\n",
       "      <th>4</th>\n",
       "      <td>2014</td>\n",
       "      <td>25545292755726</td>\n",
       "      <td>27376929764372</td>\n",
       "      <td>-1831637008646</td>\n",
       "    </tr>\n",
       "    <tr>\n",
       "      <th>5</th>\n",
       "      <td>2015</td>\n",
       "      <td>23912678214855</td>\n",
       "      <td>25136867579022</td>\n",
       "      <td>-1224189364167</td>\n",
       "    </tr>\n",
       "    <tr>\n",
       "      <th>6</th>\n",
       "      <td>2016</td>\n",
       "      <td>23655034950911</td>\n",
       "      <td>24389885094067</td>\n",
       "      <td>-734850143156</td>\n",
       "    </tr>\n",
       "    <tr>\n",
       "      <th>7</th>\n",
       "      <td>2017</td>\n",
       "      <td>22152875088532</td>\n",
       "      <td>24266686960221</td>\n",
       "      <td>-2113811871689</td>\n",
       "    </tr>\n",
       "    <tr>\n",
       "      <th>8</th>\n",
       "      <td>2018</td>\n",
       "      <td>17979256858277</td>\n",
       "      <td>21327638468782</td>\n",
       "      <td>-3348381610505</td>\n",
       "    </tr>\n",
       "  </tbody>\n",
       "</table>\n",
       "</div>"
      ],
      "text/plain": [
       "Flow  Time         Exports         Imports    Net Exports\n",
       "4     2014  25545292755726  27376929764372 -1831637008646\n",
       "5     2015  23912678214855  25136867579022 -1224189364167\n",
       "6     2016  23655034950911  24389885094067  -734850143156\n",
       "7     2017  22152875088532  24266686960221 -2113811871689\n",
       "8     2018  17979256858277  21327638468782 -3348381610505"
      ]
     },
     "execution_count": 68,
     "metadata": {},
     "output_type": "execute_result"
    }
   ],
   "source": [
    "pivoted['Net Exports'] = pivoted['Exports'] - pivoted['Imports']\n",
    "pivoted.tail()"
   ]
  },
  {
   "cell_type": "code",
   "execution_count": 69,
   "metadata": {},
   "outputs": [
    {
     "data": {
      "image/png": "[encoded data removed]",
      "text/plain": [
       "<Figure size 432x288 with 1 Axes>"
      ]
     },
     "metadata": {
      "needs_background": "light"
     },
     "output_type": "display_data"
    }
   ],
   "source": [
    "# Create a line chart of the data\n",
    "plt.plot(pivoted['Time'], pivoted['Net Exports'] / 1e12, label='Net Exports', marker = 'o', color = 'green')\n",
    "plt.legend()\n",
    "plt.xlabel('Year', fontweight = 'bold')\n",
    "plt.ylabel('Trillions of USD', fontweight = 'bold')\n",
    "plt.title('Total OECD Countries Net Exports (2010-2018)', fontweight = 'bold')\n",
    "plt.legend(loc='center left', bbox_to_anchor=(1, 0.5))\n",
    "plt.show()"
   ]
  },
  {
   "cell_type": "markdown",
   "metadata": {},
   "source": [
    "iii. Create a line chart showing the total GDP of all countries combined for each year from 2010 to 2018."
   ]
  },
  {
   "cell_type": "code",
   "execution_count": 70,
   "metadata": {},
   "outputs": [
    {
     "data": {
      "text/html": [
       "<div>\n",
       "<style scoped>\n",
       "    .dataframe tbody tr th:only-of-type {\n",
       "        vertical-align: middle;\n",
       "    }\n",
       "\n",
       "    .dataframe tbody tr th {\n",
       "        vertical-align: top;\n",
       "    }\n",
       "\n",
       "    .dataframe thead th {\n",
       "        text-align: right;\n",
       "    }\n",
       "</style>\n",
       "<table border=\"1\" class=\"dataframe\">\n",
       "  <thead>\n",
       "    <tr style=\"text-align: right;\">\n",
       "      <th></th>\n",
       "      <th>Year</th>\n",
       "      <th>Value</th>\n",
       "    </tr>\n",
       "  </thead>\n",
       "  <tbody>\n",
       "    <tr>\n",
       "      <th>0</th>\n",
       "      <td>2010</td>\n",
       "      <td>7.412913e+07</td>\n",
       "    </tr>\n",
       "    <tr>\n",
       "      <th>1</th>\n",
       "      <td>2011</td>\n",
       "      <td>8.147871e+07</td>\n",
       "    </tr>\n",
       "    <tr>\n",
       "      <th>2</th>\n",
       "      <td>2012</td>\n",
       "      <td>8.125387e+07</td>\n",
       "    </tr>\n",
       "    <tr>\n",
       "      <th>3</th>\n",
       "      <td>2013</td>\n",
       "      <td>8.371161e+07</td>\n",
       "    </tr>\n",
       "    <tr>\n",
       "      <th>4</th>\n",
       "      <td>2014</td>\n",
       "      <td>8.610551e+07</td>\n",
       "    </tr>\n",
       "    <tr>\n",
       "      <th>5</th>\n",
       "      <td>2015</td>\n",
       "      <td>8.034070e+07</td>\n",
       "    </tr>\n",
       "    <tr>\n",
       "      <th>6</th>\n",
       "      <td>2016</td>\n",
       "      <td>8.176637e+07</td>\n",
       "    </tr>\n",
       "    <tr>\n",
       "      <th>7</th>\n",
       "      <td>2017</td>\n",
       "      <td>8.265844e+07</td>\n",
       "    </tr>\n",
       "    <tr>\n",
       "      <th>8</th>\n",
       "      <td>2018</td>\n",
       "      <td>5.383794e+07</td>\n",
       "    </tr>\n",
       "  </tbody>\n",
       "</table>\n",
       "</div>"
      ],
      "text/plain": [
       "   Year         Value\n",
       "0  2010  7.412913e+07\n",
       "1  2011  8.147871e+07\n",
       "2  2012  8.125387e+07\n",
       "3  2013  8.371161e+07\n",
       "4  2014  8.610551e+07\n",
       "5  2015  8.034070e+07\n",
       "6  2016  8.176637e+07\n",
       "7  2017  8.265844e+07\n",
       "8  2018  5.383794e+07"
      ]
     },
     "execution_count": 70,
     "metadata": {},
     "output_type": "execute_result"
    }
   ],
   "source": [
    "grouped_GDP = OECD_GDP.groupby(['Year'])['Value'].sum().reset_index()\n",
    "grouped_GDP"
   ]
  },
  {
   "cell_type": "code",
   "execution_count": 71,
   "metadata": {},
   "outputs": [
    {
     "data": {
      "image/png": "[encoded data removed]",
      "text/plain": [
       "<Figure size 432x288 with 1 Axes>"
      ]
     },
     "metadata": {
      "needs_background": "light"
     },
     "output_type": "display_data"
    }
   ],
   "source": [
    "plt.plot(grouped_GDP['Year'], grouped_GDP['Value']  * 1_000_000 / 1e12, label='GDP', marker = 'o', color = 'purple')\n",
    "# Multiplying by 1 million to convert from millions to raw number then dividing by 1e12 to convert to trillions\n",
    "plt.legend()\n",
    "plt.xlabel('Year', fontweight = 'bold')\n",
    "plt.ylabel('Trillions of USD', fontweight = 'bold')\n",
    "plt.title('Total OECD Countries GDP (2010-2018)', fontweight = 'bold')\n",
    "plt.legend(loc='center left', bbox_to_anchor=(1, 0.5))\n",
    "plt.show()"
   ]
  },
  {
   "attachments": {},
   "cell_type": "markdown",
   "metadata": {},
   "source": [
    "iv. Do you detect any anomalies in the GDP chart? If so, what might be the cause?"
   ]
  },
  {
   "cell_type": "code",
   "execution_count": 72,
   "metadata": {},
   "outputs": [
    {
     "name": "stdout",
     "output_type": "stream",
     "text": [
      "['Australia' 'Austria' 'Belgium' 'Canada' 'Czech Republic' 'Denmark'\n",
      " 'Finland' 'France' 'Germany' 'Greece' 'Luxembourg' 'Mexico' 'Portugal'\n",
      " 'Spain' 'Sweden' 'Switzerland' 'United Kingdom' 'Estonia'\n",
      " \"China (People's Republic of)\" 'Chile' 'Slovak Republic' 'Ireland'\n",
      " 'Hungary' 'Poland' 'Indonesia' 'India' 'Korea' 'Japan' 'Slovenia'\n",
      " 'Iceland' 'Netherlands' 'Norway' 'Turkey' 'Italy' 'United States'\n",
      " 'European Union (28 countries)' 'Israel']\n"
     ]
    },
    {
     "data": {
      "text/plain": [
       "37"
      ]
     },
     "execution_count": 72,
     "metadata": {},
     "output_type": "execute_result"
    }
   ],
   "source": [
    "countries_2017 = OECD_GDP[OECD_GDP['Year'] == 2017]['Country'].unique()\n",
    "print(countries_2017)\n",
    "len(countries_2017)"
   ]
  },
  {
   "cell_type": "code",
   "execution_count": 73,
   "metadata": {},
   "outputs": [
    {
     "name": "stdout",
     "output_type": "stream",
     "text": [
      "['Austria' 'Belgium' 'Czech Republic' 'Denmark' 'Finland' 'France'\n",
      " 'Germany' 'Greece' 'Luxembourg' 'Portugal' 'Spain' 'Sweden' 'Switzerland'\n",
      " 'United Kingdom' 'Estonia' \"China (People's Republic of)\" 'Chile'\n",
      " 'Slovak Republic' 'Ireland' 'Hungary' 'Poland' 'Indonesia' 'Slovenia'\n",
      " 'Netherlands' 'Norway' 'Turkey' 'Italy' 'European Union (28 countries)']\n"
     ]
    },
    {
     "data": {
      "text/plain": [
       "28"
      ]
     },
     "execution_count": 73,
     "metadata": {},
     "output_type": "execute_result"
    }
   ],
   "source": [
    "countries_2018 = OECD_GDP[OECD_GDP['Year'] == 2018]['Country'].unique()\n",
    "print(countries_2018)\n",
    "len(countries_2018)"
   ]
  },
  {
   "cell_type": "code",
   "execution_count": 74,
   "metadata": {},
   "outputs": [
    {
     "name": "stdout",
     "output_type": "stream",
     "text": [
      "['Australia', 'Canada', 'Mexico', 'India', 'Korea', 'Japan', 'Iceland', 'United States', 'Israel']\n"
     ]
    }
   ],
   "source": [
    "countries_dropped = [country for country in countries_2017 if country not in countries_2018]\n",
    "print(countries_dropped)"
   ]
  },
  {
   "attachments": {},
   "cell_type": "markdown",
   "metadata": {},
   "source": [
    "There is an outlier in 2018, 9 countries were no longer in the OECD data after 2017"
   ]
  },
  {
   "attachments": {},
   "cell_type": "markdown",
   "metadata": {},
   "source": [
    "Task 2B\n",
    "i. Using the annual summaries you created in the previous part A of this task, create six scatterplots, pairwise, of the measures export, import, net export and GDP."
   ]
  },
  {
   "cell_type": "code",
   "execution_count": null,
   "metadata": {},
   "outputs": [
    {
     "ename": "",
     "evalue": "",
     "output_type": "error",
     "traceback": [
      "\u001b[1;31mRunning cells with 'c:\\Users\\vivie\\AppData\\Local\\Microsoft\\WindowsApps\\python3.11.exe' requires the ipykernel package.\n",
      "\u001b[1;31mRun the following command to install 'ipykernel' into the Python environment. \n",
      "\u001b[1;31mCommand: 'c:/Users/vivie/AppData/Local/Microsoft/WindowsApps/python3.11.exe -m pip install ipykernel -U --user --force-reinstall'"
     ]
    }
   ],
   "source": [
    "scatter_info=pivoted\n",
    "scatter_info['GDP']=grouped_GDP.loc[:,'Value']\n",
    "scatter_info"
   ]
  },
  {
   "cell_type": "code",
   "execution_count": null,
   "metadata": {},
   "outputs": [],
   "source": [
    "plt.scatter(scatter_info['Exports'],scatter_info['Imports'])\n",
    "plt.xlabel('Exports')\n",
    "plt.ylabel('Imports')\n",
    "plt.title('Exports and Imports relationship')"
   ]
  },
  {
   "cell_type": "code",
   "execution_count": null,
   "metadata": {},
   "outputs": [],
   "source": [
    "plt.scatter(scatter_info['Exports'],scatter_info['Net Exports'])\n",
    "plt.xlabel('Exports')\n",
    "plt.ylabel('Net Exports')\n",
    "plt.title('Exports and Net Exports relationship')"
   ]
  },
  {
   "cell_type": "code",
   "execution_count": null,
   "metadata": {},
   "outputs": [],
   "source": [
    "plt.scatter(scatter_info['Exports'],scatter_info['GDP'])\n",
    "plt.xlabel('Exports')\n",
    "plt.ylabel('GDP')\n",
    "plt.title('Exports and GDP relationship')"
   ]
  },
  {
   "cell_type": "code",
   "execution_count": null,
   "metadata": {},
   "outputs": [],
   "source": [
    "plt.scatter(scatter_info['Imports'],scatter_info['GDP'])\n",
    "plt.xlabel('Imports')\n",
    "plt.ylabel('GDP')\n",
    "plt.title('Imports and GDP relationship')"
   ]
  },
  {
   "cell_type": "code",
   "execution_count": null,
   "metadata": {},
   "outputs": [],
   "source": [
    "plt.scatter(scatter_info['Imports'],scatter_info['Net Exports'])\n",
    "plt.xlabel('Imports')\n",
    "plt.ylabel('Net Exports')\n",
    "plt.title('Imports and Net Exports relationship')"
   ]
  },
  {
   "cell_type": "code",
   "execution_count": null,
   "metadata": {},
   "outputs": [],
   "source": [
    "plt.scatter(scatter_info['GDP'],scatter_info['Net Exports'])\n",
    "plt.xlabel('GDP')\n",
    "plt.ylabel('Net Exports')\n",
    "plt.title('GDP and Net Exports relationship')"
   ]
  },
  {
   "cell_type": "code",
   "execution_count": null,
   "metadata": {},
   "outputs": [],
   "source": [
    "#in one table\n",
    "import seaborn as sns\n",
    "sns.pairplot(scatter_info[['Exports','Imports', 'Net Exports', 'GDP']], diag_kind='None')"
   ]
  }
 ],
 "metadata": {
  "kernelspec": {
   "display_name": "base",
   "language": "python",
   "name": "python3"
  },
  "language_info": {
   "codemirror_mode": {
    "name": "ipython",
    "version": 3
   },
   "file_extension": ".py",
   "mimetype": "text/x-python",
   "name": "python",
   "nbconvert_exporter": "python",
   "pygments_lexer": "ipython3",
   "version": "3.11.2"
  },
  "orig_nbformat": 4,
  "vscode": {
   "interpreter": {
    "hash": "a0f8ab873be75d6526919001760e7adb4f1dd3f319b1f826a72fff560a0ae244"
   }
  }
 },
 "nbformat": 4,
 "nbformat_minor": 2
}
