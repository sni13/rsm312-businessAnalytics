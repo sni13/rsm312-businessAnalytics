{
 "cells": [
  {
   "cell_type": "code",
   "execution_count": null,
   "metadata": {},
   "outputs": [],
   "source": [
    "import pandas as pd"
   ]
  },
  {
   "cell_type": "markdown",
   "metadata": {},
   "source": [
    "### Reading in the data"
   ]
  },
  {
   "cell_type": "code",
   "execution_count": null,
   "metadata": {},
   "outputs": [],
   "source": [
    "data_2014 = pd.read_csv('Analytics_mindset_case_studies_PCard_FY2014.csv')"
   ]
  },
  {
   "cell_type": "code",
   "execution_count": null,
   "metadata": {},
   "outputs": [
    {
     "name": "stderr",
     "output_type": "stream",
     "text": [
      "/Users/davidbianchin/opt/anaconda3/lib/python3.9/site-packages/IPython/core/interactiveshell.py:3444: DtypeWarning: Columns (7,8) have mixed types.Specify dtype option on import or set low_memory=False.\n",
      "  exec(code_obj, self.user_global_ns, self.user_ns)\n"
     ]
    }
   ],
   "source": [
    "data_2015 = pd.read_csv('Analytics_mindset_case_studies_PCard_FY2015.csv')"
   ]
  },
  {
   "attachments": {},
   "cell_type": "markdown",
   "metadata": {},
   "source": [
    "### Looking at the data"
   ]
  },
  {
   "cell_type": "code",
   "execution_count": null,
   "metadata": {},
   "outputs": [
    {
     "data": {
      "text/html": [
       "<div>\n",
       "<style scoped>\n",
       "    .dataframe tbody tr th:only-of-type {\n",
       "        vertical-align: middle;\n",
       "    }\n",
       "\n",
       "    .dataframe tbody tr th {\n",
       "        vertical-align: top;\n",
       "    }\n",
       "\n",
       "    .dataframe thead th {\n",
       "        text-align: right;\n",
       "    }\n",
       "</style>\n",
       "<table border=\"1\" class=\"dataframe\">\n",
       "  <thead>\n",
       "    <tr style=\"text-align: right;\">\n",
       "      <th></th>\n",
       "      <th>Agency Number</th>\n",
       "      <th>Agency Name</th>\n",
       "      <th>Cardholder Last Name</th>\n",
       "      <th>Cardholder First Initial</th>\n",
       "      <th>Description</th>\n",
       "      <th>Amount</th>\n",
       "      <th>Vendor</th>\n",
       "      <th>Transaction Date</th>\n",
       "      <th>Posted Date</th>\n",
       "      <th>Merchant Category Code (MCC)</th>\n",
       "    </tr>\n",
       "  </thead>\n",
       "  <tbody>\n",
       "    <tr>\n",
       "      <th>0</th>\n",
       "      <td>1000</td>\n",
       "      <td>OKLAHOMA STATE UNIVERSITY</td>\n",
       "      <td>Mason</td>\n",
       "      <td>C</td>\n",
       "      <td>GENERAL PURCHASE</td>\n",
       "      <td>890.00</td>\n",
       "      <td>NACAS</td>\n",
       "      <td>7/30/2013 0:00</td>\n",
       "      <td>7/31/2013 0:00</td>\n",
       "      <td>CHARITABLE AND SOCIAL SERVICE ORGANIZATIONS</td>\n",
       "    </tr>\n",
       "    <tr>\n",
       "      <th>1</th>\n",
       "      <td>1000</td>\n",
       "      <td>OKLAHOMA STATE UNIVERSITY</td>\n",
       "      <td>Mason</td>\n",
       "      <td>C</td>\n",
       "      <td>ROOM CHARGES</td>\n",
       "      <td>368.96</td>\n",
       "      <td>SHERATON HOTEL</td>\n",
       "      <td>7/30/2013 0:00</td>\n",
       "      <td>7/31/2013 0:00</td>\n",
       "      <td>SHERATON</td>\n",
       "    </tr>\n",
       "    <tr>\n",
       "      <th>2</th>\n",
       "      <td>1000</td>\n",
       "      <td>OKLAHOMA STATE UNIVERSITY</td>\n",
       "      <td>Massey</td>\n",
       "      <td>J</td>\n",
       "      <td>GENERAL PURCHASE</td>\n",
       "      <td>165.82</td>\n",
       "      <td>SEARS.COM 9300</td>\n",
       "      <td>7/29/2013 0:00</td>\n",
       "      <td>7/31/2013 0:00</td>\n",
       "      <td>DIRCT MARKETING/DIRCT MARKETERS--NOT ELSEWHERE...</td>\n",
       "    </tr>\n",
       "    <tr>\n",
       "      <th>3</th>\n",
       "      <td>1000</td>\n",
       "      <td>OKLAHOMA STATE UNIVERSITY</td>\n",
       "      <td>Massey</td>\n",
       "      <td>T</td>\n",
       "      <td>GENERAL PURCHASE</td>\n",
       "      <td>96.39</td>\n",
       "      <td>WAL-MART #0137</td>\n",
       "      <td>7/30/2013 0:00</td>\n",
       "      <td>7/31/2013 0:00</td>\n",
       "      <td>GROCERY STORES,AND SUPERMARKETS</td>\n",
       "    </tr>\n",
       "    <tr>\n",
       "      <th>4</th>\n",
       "      <td>1000</td>\n",
       "      <td>OKLAHOMA STATE UNIVERSITY</td>\n",
       "      <td>Mauro-Herrera</td>\n",
       "      <td>M</td>\n",
       "      <td>HAMMERMILL COPY PLUS COPY EA</td>\n",
       "      <td>125.96</td>\n",
       "      <td>STAPLES DIRECT</td>\n",
       "      <td>7/30/2013 0:00</td>\n",
       "      <td>7/31/2013 0:00</td>\n",
       "      <td>STATIONERY, OFFICE SUPPLIES, PRINTING AND WRIT...</td>\n",
       "    </tr>\n",
       "  </tbody>\n",
       "</table>\n",
       "</div>"
      ],
      "text/plain": [
       "   Agency Number                Agency Name Cardholder Last Name  \\\n",
       "0           1000  OKLAHOMA STATE UNIVERSITY                Mason   \n",
       "1           1000  OKLAHOMA STATE UNIVERSITY                Mason   \n",
       "2           1000  OKLAHOMA STATE UNIVERSITY               Massey   \n",
       "3           1000  OKLAHOMA STATE UNIVERSITY               Massey   \n",
       "4           1000  OKLAHOMA STATE UNIVERSITY        Mauro-Herrera   \n",
       "\n",
       "  Cardholder First Initial                   Description  Amount  \\\n",
       "0                        C              GENERAL PURCHASE  890.00   \n",
       "1                        C                  ROOM CHARGES  368.96   \n",
       "2                        J              GENERAL PURCHASE  165.82   \n",
       "3                        T              GENERAL PURCHASE   96.39   \n",
       "4                        M  HAMMERMILL COPY PLUS COPY EA  125.96   \n",
       "\n",
       "           Vendor Transaction Date     Posted Date  \\\n",
       "0           NACAS   7/30/2013 0:00  7/31/2013 0:00   \n",
       "1  SHERATON HOTEL   7/30/2013 0:00  7/31/2013 0:00   \n",
       "2  SEARS.COM 9300   7/29/2013 0:00  7/31/2013 0:00   \n",
       "3  WAL-MART #0137   7/30/2013 0:00  7/31/2013 0:00   \n",
       "4  STAPLES DIRECT   7/30/2013 0:00  7/31/2013 0:00   \n",
       "\n",
       "                        Merchant Category Code (MCC)  \n",
       "0        CHARITABLE AND SOCIAL SERVICE ORGANIZATIONS  \n",
       "1                                           SHERATON  \n",
       "2  DIRCT MARKETING/DIRCT MARKETERS--NOT ELSEWHERE...  \n",
       "3                    GROCERY STORES,AND SUPERMARKETS  \n",
       "4  STATIONERY, OFFICE SUPPLIES, PRINTING AND WRIT...  "
      ]
     },
     "execution_count": 165,
     "metadata": {},
     "output_type": "execute_result"
    }
   ],
   "source": [
    "data_2014.head()"
   ]
  },
  {
   "cell_type": "code",
   "execution_count": null,
   "metadata": {},
   "outputs": [
    {
     "data": {
      "text/html": [
       "<div>\n",
       "<style scoped>\n",
       "    .dataframe tbody tr th:only-of-type {\n",
       "        vertical-align: middle;\n",
       "    }\n",
       "\n",
       "    .dataframe tbody tr th {\n",
       "        vertical-align: top;\n",
       "    }\n",
       "\n",
       "    .dataframe thead th {\n",
       "        text-align: right;\n",
       "    }\n",
       "</style>\n",
       "<table border=\"1\" class=\"dataframe\">\n",
       "  <thead>\n",
       "    <tr style=\"text-align: right;\">\n",
       "      <th></th>\n",
       "      <th>Agency Number</th>\n",
       "      <th>Agency Name</th>\n",
       "      <th>Cardholder Last Name</th>\n",
       "      <th>Cardholder First Initial</th>\n",
       "      <th>Description</th>\n",
       "      <th>Amount</th>\n",
       "      <th>Vendor</th>\n",
       "      <th>Transaction Date</th>\n",
       "      <th>Posted Date</th>\n",
       "      <th>Merchant Category Code (MCC)</th>\n",
       "    </tr>\n",
       "  </thead>\n",
       "  <tbody>\n",
       "    <tr>\n",
       "      <th>0</th>\n",
       "      <td>1000</td>\n",
       "      <td>OKLAHOMA STATE UNIVERSITY</td>\n",
       "      <td>Clark</td>\n",
       "      <td>K</td>\n",
       "      <td>GENERAL PURCHASE</td>\n",
       "      <td>$88.88</td>\n",
       "      <td>Discount School Supply</td>\n",
       "      <td>7/23/2014 0:00</td>\n",
       "      <td>7/24/2014 0:00</td>\n",
       "      <td>STATIONERY,OFFICE AND SCHOOL SUPPLY STORES</td>\n",
       "    </tr>\n",
       "    <tr>\n",
       "      <th>1</th>\n",
       "      <td>1000</td>\n",
       "      <td>OKLAHOMA STATE UNIVERSITY</td>\n",
       "      <td>Clark</td>\n",
       "      <td>M</td>\n",
       "      <td>GENERAL PURCHASE</td>\n",
       "      <td>$425.00</td>\n",
       "      <td>BROONER'S FLOOR CENTER</td>\n",
       "      <td>7/23/2014 0:00</td>\n",
       "      <td>7/24/2014 0:00</td>\n",
       "      <td>FLOOR COVERING,RUG AND CARPET STORES</td>\n",
       "    </tr>\n",
       "    <tr>\n",
       "      <th>2</th>\n",
       "      <td>1000</td>\n",
       "      <td>OKLAHOMA STATE UNIVERSITY</td>\n",
       "      <td>Clark</td>\n",
       "      <td>M</td>\n",
       "      <td>NEWS ADV./SUBSC. EACH</td>\n",
       "      <td>$141.50</td>\n",
       "      <td>820 NEWS PRESS</td>\n",
       "      <td>7/23/2014 0:00</td>\n",
       "      <td>7/24/2014 0:00</td>\n",
       "      <td>CONTINUITY/SUBSCRIPTION MERCHANTS</td>\n",
       "    </tr>\n",
       "    <tr>\n",
       "      <th>3</th>\n",
       "      <td>1000</td>\n",
       "      <td>OKLAHOMA STATE UNIVERSITY</td>\n",
       "      <td>Clark</td>\n",
       "      <td>M</td>\n",
       "      <td>GENERAL PURCHASE</td>\n",
       "      <td>$2,679.99</td>\n",
       "      <td>WWW.NEWEGG.COM</td>\n",
       "      <td>7/23/2014 0:00</td>\n",
       "      <td>7/24/2014 0:00</td>\n",
       "      <td>ELECTRONICS STORES</td>\n",
       "    </tr>\n",
       "    <tr>\n",
       "      <th>4</th>\n",
       "      <td>1000</td>\n",
       "      <td>OKLAHOMA STATE UNIVERSITY</td>\n",
       "      <td>Clark</td>\n",
       "      <td>P</td>\n",
       "      <td>BH 3-INX7-IN SMALL BRASS B PCS|BLUE HAWK SHOE ...</td>\n",
       "      <td>$22.44</td>\n",
       "      <td>LOWES #00241</td>\n",
       "      <td>7/22/2014 0:00</td>\n",
       "      <td>7/24/2014 0:00</td>\n",
       "      <td>HOME SUPPLY WAREHOUSE STORES</td>\n",
       "    </tr>\n",
       "  </tbody>\n",
       "</table>\n",
       "</div>"
      ],
      "text/plain": [
       "   Agency Number                Agency Name Cardholder Last Name  \\\n",
       "0           1000  OKLAHOMA STATE UNIVERSITY                Clark   \n",
       "1           1000  OKLAHOMA STATE UNIVERSITY                Clark   \n",
       "2           1000  OKLAHOMA STATE UNIVERSITY                Clark   \n",
       "3           1000  OKLAHOMA STATE UNIVERSITY                Clark   \n",
       "4           1000  OKLAHOMA STATE UNIVERSITY                Clark   \n",
       "\n",
       "  Cardholder First Initial                                        Description  \\\n",
       "0                        K                                   GENERAL PURCHASE   \n",
       "1                        M                                   GENERAL PURCHASE   \n",
       "2                        M                              NEWS ADV./SUBSC. EACH   \n",
       "3                        M                                   GENERAL PURCHASE   \n",
       "4                        P  BH 3-INX7-IN SMALL BRASS B PCS|BLUE HAWK SHOE ...   \n",
       "\n",
       "       Amount                  Vendor Transaction Date     Posted Date  \\\n",
       "0     $88.88   Discount School Supply   7/23/2014 0:00  7/24/2014 0:00   \n",
       "1    $425.00   BROONER'S FLOOR CENTER   7/23/2014 0:00  7/24/2014 0:00   \n",
       "2    $141.50           820 NEWS PRESS   7/23/2014 0:00  7/24/2014 0:00   \n",
       "3  $2,679.99           WWW.NEWEGG.COM   7/23/2014 0:00  7/24/2014 0:00   \n",
       "4     $22.44             LOWES #00241   7/22/2014 0:00  7/24/2014 0:00   \n",
       "\n",
       "                 Merchant Category Code (MCC)  \n",
       "0  STATIONERY,OFFICE AND SCHOOL SUPPLY STORES  \n",
       "1        FLOOR COVERING,RUG AND CARPET STORES  \n",
       "2           CONTINUITY/SUBSCRIPTION MERCHANTS  \n",
       "3                          ELECTRONICS STORES  \n",
       "4                HOME SUPPLY WAREHOUSE STORES  "
      ]
     },
     "execution_count": 166,
     "metadata": {},
     "output_type": "execute_result"
    }
   ],
   "source": [
    "data_2015.head()"
   ]
  },
  {
   "cell_type": "code",
   "execution_count": null,
   "metadata": {},
   "outputs": [
    {
     "name": "stdout",
     "output_type": "stream",
     "text": [
      "<class 'pandas.core.frame.DataFrame'>\n",
      "RangeIndex: 442458 entries, 0 to 442457\n",
      "Data columns (total 10 columns):\n",
      " #   Column                        Non-Null Count   Dtype  \n",
      "---  ------                        --------------   -----  \n",
      " 0   Agency Number                 442458 non-null  int64  \n",
      " 1   Agency Name                   442458 non-null  object \n",
      " 2   Cardholder Last Name          442458 non-null  object \n",
      " 3   Cardholder First Initial      442458 non-null  object \n",
      " 4   Description                   442458 non-null  object \n",
      " 5   Amount                        442458 non-null  float64\n",
      " 6   Vendor                        442458 non-null  object \n",
      " 7   Transaction Date              442458 non-null  object \n",
      " 8   Posted Date                   442458 non-null  object \n",
      " 9   Merchant Category Code (MCC)  442458 non-null  object \n",
      "dtypes: float64(1), int64(1), object(8)\n",
      "memory usage: 33.8+ MB\n"
     ]
    }
   ],
   "source": [
    "data_2014.info()"
   ]
  },
  {
   "cell_type": "code",
   "execution_count": null,
   "metadata": {},
   "outputs": [
    {
     "name": "stdout",
     "output_type": "stream",
     "text": [
      "<class 'pandas.core.frame.DataFrame'>\n",
      "RangeIndex: 437579 entries, 0 to 437578\n",
      "Data columns (total 10 columns):\n",
      " #   Column                        Non-Null Count   Dtype \n",
      "---  ------                        --------------   ----- \n",
      " 0   Agency Number                 437579 non-null  int64 \n",
      " 1   Agency Name                   437579 non-null  object\n",
      " 2   Cardholder Last Name          437579 non-null  object\n",
      " 3   Cardholder First Initial      437579 non-null  object\n",
      " 4   Description                   437579 non-null  object\n",
      " 5   Amount                        437579 non-null  object\n",
      " 6   Vendor                        437579 non-null  object\n",
      " 7   Transaction Date              214698 non-null  object\n",
      " 8   Posted Date                   214698 non-null  object\n",
      " 9   Merchant Category Code (MCC)  437579 non-null  object\n",
      "dtypes: int64(1), object(9)\n",
      "memory usage: 33.4+ MB\n"
     ]
    }
   ],
   "source": [
    "data_2015.info()"
   ]
  },
  {
   "attachments": {},
   "cell_type": "markdown",
   "metadata": {},
   "source": [
    "#### Notes:\n",
    "- The amounts in 2015 have the dollar symbol while 2014 is classified as float, also they have commas and \"()\"\n",
    "- Lost of nulls in Transaction Date and posted Date in 2015\n",
    "- Column names have spaces"
   ]
  },
  {
   "attachments": {},
   "cell_type": "markdown",
   "metadata": {},
   "source": [
    "### Transforming Data in original Files"
   ]
  },
  {
   "cell_type": "code",
   "execution_count": 169,
   "metadata": {},
   "outputs": [],
   "source": [
    "# Converting the Amount column to float\n",
    "data_2015['Amount'] = data_2015['Amount'].str.replace('[\\$,)]', '', regex=True)\n",
    "\n",
    "# Changing (5.15) to -5.15\n",
    "data_2015['Amount'] = data_2015['Amount'].str.replace('(', '-', regex = True)\n",
    "\n",
    "data_2015['Amount'] = data_2015['Amount'].astype(float)"
   ]
  },
  {
   "cell_type": "code",
   "execution_count": 170,
   "metadata": {},
   "outputs": [
    {
     "data": {
      "text/plain": [
       "Agency Number                     int64\n",
       "Agency Name                      object\n",
       "Cardholder Last Name             object\n",
       "Cardholder First Initial         object\n",
       "Description                      object\n",
       "Amount                          float64\n",
       "Vendor                           object\n",
       "Transaction Date                 object\n",
       "Posted Date                      object\n",
       "Merchant Category Code (MCC)     object\n",
       "dtype: object"
      ]
     },
     "execution_count": 170,
     "metadata": {},
     "output_type": "execute_result"
    }
   ],
   "source": [
    "data_2015.dtypes"
   ]
  },
  {
   "cell_type": "code",
   "execution_count": 171,
   "metadata": {},
   "outputs": [],
   "source": [
    "# Removing WhiteSpaces from the column names before merging -> as per instructions\n",
    "\n",
    "# remove spaces from column names of data_2014\n",
    "data_2014.rename(columns=lambda x: x.replace(' ', ''), inplace=True)\n",
    "\n",
    "# remove spaces from column names of data_2015\n",
    "data_2015.rename(columns=lambda x: x.replace(' ', ''), inplace=True)"
   ]
  },
  {
   "cell_type": "code",
   "execution_count": 172,
   "metadata": {},
   "outputs": [],
   "source": [
    "dataset = pd.concat([data_2014, data_2015]).reset_index(drop=True)"
   ]
  },
  {
   "cell_type": "code",
   "execution_count": 173,
   "metadata": {},
   "outputs": [
    {
     "name": "stdout",
     "output_type": "stream",
     "text": [
      "<class 'pandas.core.frame.DataFrame'>\n",
      "RangeIndex: 880037 entries, 0 to 880036\n",
      "Data columns (total 10 columns):\n",
      " #   Column                     Non-Null Count   Dtype  \n",
      "---  ------                     --------------   -----  \n",
      " 0   AgencyNumber               880037 non-null  int64  \n",
      " 1   AgencyName                 880037 non-null  object \n",
      " 2   CardholderLastName         880037 non-null  object \n",
      " 3   CardholderFirstInitial     880037 non-null  object \n",
      " 4   Description                880037 non-null  object \n",
      " 5   Amount                     880037 non-null  float64\n",
      " 6   Vendor                     880037 non-null  object \n",
      " 7   TransactionDate            657156 non-null  object \n",
      " 8   PostedDate                 657156 non-null  object \n",
      " 9   MerchantCategoryCode(MCC)  880037 non-null  object \n",
      "dtypes: float64(1), int64(1), object(8)\n",
      "memory usage: 67.1+ MB\n"
     ]
    }
   ],
   "source": [
    "dataset.info()"
   ]
  },
  {
   "cell_type": "code",
   "execution_count": 174,
   "metadata": {},
   "outputs": [],
   "source": [
    "dataset['TransactionDate'] = pd.to_datetime(dataset['TransactionDate'], format='%m/%d/%Y %H:%M')\n",
    "dataset['PostedDate'] = pd.to_datetime(dataset['PostedDate'], format='%m/%d/%Y %H:%M')\n",
    "\n",
    "# All times are 0:00\n",
    "# Not sure if I should set NaT's to ''"
   ]
  },
  {
   "cell_type": "code",
   "execution_count": 175,
   "metadata": {},
   "outputs": [],
   "source": [
    "# Removing trailing and leading spaces from data\n",
    "dataset = dataset.apply(lambda x: x.str.strip() if x.dtype == \"object\" else x)\n"
   ]
  },
  {
   "cell_type": "code",
   "execution_count": 176,
   "metadata": {},
   "outputs": [
    {
     "name": "stdout",
     "output_type": "stream",
     "text": [
      "<class 'pandas.core.frame.DataFrame'>\n",
      "RangeIndex: 880037 entries, 0 to 880036\n",
      "Data columns (total 10 columns):\n",
      " #   Column                     Non-Null Count   Dtype         \n",
      "---  ------                     --------------   -----         \n",
      " 0   AgencyNumber               880037 non-null  int64         \n",
      " 1   AgencyName                 880037 non-null  object        \n",
      " 2   CardholderLastName         880037 non-null  object        \n",
      " 3   CardholderFirstInitial     880037 non-null  object        \n",
      " 4   Description                880037 non-null  object        \n",
      " 5   Amount                     880037 non-null  float64       \n",
      " 6   Vendor                     880037 non-null  object        \n",
      " 7   TransactionDate            657156 non-null  datetime64[ns]\n",
      " 8   PostedDate                 657156 non-null  datetime64[ns]\n",
      " 9   MerchantCategoryCode(MCC)  880037 non-null  object        \n",
      "dtypes: datetime64[ns](2), float64(1), int64(1), object(6)\n",
      "memory usage: 67.1+ MB\n"
     ]
    }
   ],
   "source": [
    "dataset.info()"
   ]
  },
  {
   "cell_type": "code",
   "execution_count": 177,
   "metadata": {},
   "outputs": [
    {
     "data": {
      "text/html": [
       "<div>\n",
       "<style scoped>\n",
       "    .dataframe tbody tr th:only-of-type {\n",
       "        vertical-align: middle;\n",
       "    }\n",
       "\n",
       "    .dataframe tbody tr th {\n",
       "        vertical-align: top;\n",
       "    }\n",
       "\n",
       "    .dataframe thead th {\n",
       "        text-align: right;\n",
       "    }\n",
       "</style>\n",
       "<table border=\"1\" class=\"dataframe\">\n",
       "  <thead>\n",
       "    <tr style=\"text-align: right;\">\n",
       "      <th></th>\n",
       "      <th>AgencyNumber</th>\n",
       "      <th>AgencyName</th>\n",
       "      <th>CardholderLastName</th>\n",
       "      <th>CardholderFirstInitial</th>\n",
       "      <th>Description</th>\n",
       "      <th>Amount</th>\n",
       "      <th>Vendor</th>\n",
       "      <th>TransactionDate</th>\n",
       "      <th>PostedDate</th>\n",
       "      <th>MerchantCategoryCode(MCC)</th>\n",
       "    </tr>\n",
       "  </thead>\n",
       "  <tbody>\n",
       "    <tr>\n",
       "      <th>0</th>\n",
       "      <td>1000</td>\n",
       "      <td>OKLAHOMA STATE UNIVERSITY</td>\n",
       "      <td>Mason</td>\n",
       "      <td>C</td>\n",
       "      <td>GENERAL PURCHASE</td>\n",
       "      <td>890.00</td>\n",
       "      <td>NACAS</td>\n",
       "      <td>2013-07-30</td>\n",
       "      <td>2013-07-31</td>\n",
       "      <td>CHARITABLE AND SOCIAL SERVICE ORGANIZATIONS</td>\n",
       "    </tr>\n",
       "    <tr>\n",
       "      <th>1</th>\n",
       "      <td>1000</td>\n",
       "      <td>OKLAHOMA STATE UNIVERSITY</td>\n",
       "      <td>Mason</td>\n",
       "      <td>C</td>\n",
       "      <td>ROOM CHARGES</td>\n",
       "      <td>368.96</td>\n",
       "      <td>SHERATON HOTEL</td>\n",
       "      <td>2013-07-30</td>\n",
       "      <td>2013-07-31</td>\n",
       "      <td>SHERATON</td>\n",
       "    </tr>\n",
       "    <tr>\n",
       "      <th>2</th>\n",
       "      <td>1000</td>\n",
       "      <td>OKLAHOMA STATE UNIVERSITY</td>\n",
       "      <td>Massey</td>\n",
       "      <td>J</td>\n",
       "      <td>GENERAL PURCHASE</td>\n",
       "      <td>165.82</td>\n",
       "      <td>SEARS.COM 9300</td>\n",
       "      <td>2013-07-29</td>\n",
       "      <td>2013-07-31</td>\n",
       "      <td>DIRCT MARKETING/DIRCT MARKETERS--NOT ELSEWHERE...</td>\n",
       "    </tr>\n",
       "    <tr>\n",
       "      <th>3</th>\n",
       "      <td>1000</td>\n",
       "      <td>OKLAHOMA STATE UNIVERSITY</td>\n",
       "      <td>Massey</td>\n",
       "      <td>T</td>\n",
       "      <td>GENERAL PURCHASE</td>\n",
       "      <td>96.39</td>\n",
       "      <td>WAL-MART #0137</td>\n",
       "      <td>2013-07-30</td>\n",
       "      <td>2013-07-31</td>\n",
       "      <td>GROCERY STORES,AND SUPERMARKETS</td>\n",
       "    </tr>\n",
       "    <tr>\n",
       "      <th>4</th>\n",
       "      <td>1000</td>\n",
       "      <td>OKLAHOMA STATE UNIVERSITY</td>\n",
       "      <td>Mauro-Herrera</td>\n",
       "      <td>M</td>\n",
       "      <td>HAMMERMILL COPY PLUS COPY EA</td>\n",
       "      <td>125.96</td>\n",
       "      <td>STAPLES DIRECT</td>\n",
       "      <td>2013-07-30</td>\n",
       "      <td>2013-07-31</td>\n",
       "      <td>STATIONERY, OFFICE SUPPLIES, PRINTING AND WRIT...</td>\n",
       "    </tr>\n",
       "  </tbody>\n",
       "</table>\n",
       "</div>"
      ],
      "text/plain": [
       "   AgencyNumber                 AgencyName CardholderLastName  \\\n",
       "0          1000  OKLAHOMA STATE UNIVERSITY              Mason   \n",
       "1          1000  OKLAHOMA STATE UNIVERSITY              Mason   \n",
       "2          1000  OKLAHOMA STATE UNIVERSITY             Massey   \n",
       "3          1000  OKLAHOMA STATE UNIVERSITY             Massey   \n",
       "4          1000  OKLAHOMA STATE UNIVERSITY      Mauro-Herrera   \n",
       "\n",
       "  CardholderFirstInitial                   Description  Amount  \\\n",
       "0                      C              GENERAL PURCHASE  890.00   \n",
       "1                      C                  ROOM CHARGES  368.96   \n",
       "2                      J              GENERAL PURCHASE  165.82   \n",
       "3                      T              GENERAL PURCHASE   96.39   \n",
       "4                      M  HAMMERMILL COPY PLUS COPY EA  125.96   \n",
       "\n",
       "           Vendor TransactionDate PostedDate  \\\n",
       "0           NACAS      2013-07-30 2013-07-31   \n",
       "1  SHERATON HOTEL      2013-07-30 2013-07-31   \n",
       "2  SEARS.COM 9300      2013-07-29 2013-07-31   \n",
       "3  WAL-MART #0137      2013-07-30 2013-07-31   \n",
       "4  STAPLES DIRECT      2013-07-30 2013-07-31   \n",
       "\n",
       "                           MerchantCategoryCode(MCC)  \n",
       "0        CHARITABLE AND SOCIAL SERVICE ORGANIZATIONS  \n",
       "1                                           SHERATON  \n",
       "2  DIRCT MARKETING/DIRCT MARKETERS--NOT ELSEWHERE...  \n",
       "3                    GROCERY STORES,AND SUPERMARKETS  \n",
       "4  STATIONERY, OFFICE SUPPLIES, PRINTING AND WRIT...  "
      ]
     },
     "execution_count": 177,
     "metadata": {},
     "output_type": "execute_result"
    }
   ],
   "source": [
    "dataset.head()"
   ]
  },
  {
   "cell_type": "code",
   "execution_count": 182,
   "metadata": {},
   "outputs": [],
   "source": [
    "# dataset.to_csv('task3_final_dataset.csv', index = False)"
   ]
  },
  {
   "attachments": {},
   "cell_type": "markdown",
   "metadata": {},
   "source": [
    "### ANSWERS"
   ]
  },
  {
   "attachments": {},
   "cell_type": "markdown",
   "metadata": {},
   "source": [
    "##### There are 880037 rows in the final file\n",
    "##### The total sum of the amount column is 379,101,777.6800001"
   ]
  },
  {
   "cell_type": "code",
   "execution_count": 178,
   "metadata": {},
   "outputs": [
    {
     "data": {
      "text/plain": [
       "379101777.6800001"
      ]
     },
     "execution_count": 178,
     "metadata": {},
     "output_type": "execute_result"
    }
   ],
   "source": [
    "dataset['Amount'].sum()\n",
    "\n",
    "# Double checked in excel and the sum is correct"
   ]
  },
  {
   "cell_type": "code",
   "execution_count": 179,
   "metadata": {},
   "outputs": [
    {
     "data": {
      "text/plain": [
       "(880037, 10)"
      ]
     },
     "execution_count": 179,
     "metadata": {},
     "output_type": "execute_result"
    }
   ],
   "source": [
    "dataset.shape"
   ]
  },
  {
   "cell_type": "code",
   "execution_count": null,
   "metadata": {},
   "outputs": [],
   "source": [
    "dataset.shape"
   ]
  },
  {
   "cell_type": "code",
   "execution_count": null,
   "metadata": {},
   "outputs": [],
   "source": [
    "#dataset for OSU 204\n",
    "o_data=dataset"
   ]
  }
 ],
 "metadata": {
  "kernelspec": {
   "display_name": "base",
   "language": "python",
   "name": "python3"
  },
  "language_info": {
   "codemirror_mode": {
    "name": "ipython",
    "version": 3
   },
   "file_extension": ".py",
   "mimetype": "text/x-python",
   "name": "python",
   "nbconvert_exporter": "python",
   "pygments_lexer": "ipython3",
   "version": "3.9.7"
  },
  "orig_nbformat": 4,
  "vscode": {
   "interpreter": {
    "hash": "a0f8ab873be75d6526919001760e7adb4f1dd3f319b1f826a72fff560a0ae244"
   }
  }
 },
 "nbformat": 4,
 "nbformat_minor": 2
}
