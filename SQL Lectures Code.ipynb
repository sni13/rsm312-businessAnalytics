{
 "cells": [
  {
   "cell_type": "markdown",
   "id": "0640444f",
   "metadata": {},
   "source": [
    "# Lecture 2 SQL Basics"
   ]
  },
  {
   "cell_type": "code",
   "execution_count": 1,
   "id": "fda1757f",
   "metadata": {
    "scrolled": true
   },
   "outputs": [
    {
     "name": "stdout",
     "output_type": "stream",
     "text": [
      "Collecting ipython-sql\n",
      "  Downloading ipython_sql-0.4.1-py3-none-any.whl (21 kB)\n",
      "Collecting prettytable<1\n",
      "  Downloading prettytable-0.7.2.zip (28 kB)\n",
      "Collecting sqlparse\n",
      "  Downloading sqlparse-0.4.3-py3-none-any.whl (42 kB)\n",
      "\u001b[K     |████████████████████████████████| 42 kB 4.0 MB/s  eta 0:00:01\n",
      "\u001b[?25hRequirement already satisfied: ipython>=1.0 in /Users/davidbianchin/opt/anaconda3/lib/python3.9/site-packages (from ipython-sql) (7.29.0)\n",
      "Requirement already satisfied: ipython-genutils>=0.1.0 in /Users/davidbianchin/opt/anaconda3/lib/python3.9/site-packages (from ipython-sql) (0.2.0)\n",
      "Requirement already satisfied: sqlalchemy>=0.6.7 in /Users/davidbianchin/opt/anaconda3/lib/python3.9/site-packages (from ipython-sql) (1.4.22)\n",
      "Requirement already satisfied: six in /Users/davidbianchin/opt/anaconda3/lib/python3.9/site-packages (from ipython-sql) (1.16.0)\n",
      "Requirement already satisfied: jedi>=0.16 in /Users/davidbianchin/opt/anaconda3/lib/python3.9/site-packages (from ipython>=1.0->ipython-sql) (0.18.0)\n",
      "Requirement already satisfied: traitlets>=4.2 in /Users/davidbianchin/opt/anaconda3/lib/python3.9/site-packages (from ipython>=1.0->ipython-sql) (5.1.0)\n",
      "Requirement already satisfied: backcall in /Users/davidbianchin/opt/anaconda3/lib/python3.9/site-packages (from ipython>=1.0->ipython-sql) (0.2.0)\n",
      "Requirement already satisfied: pickleshare in /Users/davidbianchin/opt/anaconda3/lib/python3.9/site-packages (from ipython>=1.0->ipython-sql) (0.7.5)\n",
      "Requirement already satisfied: prompt-toolkit!=3.0.0,!=3.0.1,<3.1.0,>=2.0.0 in /Users/davidbianchin/opt/anaconda3/lib/python3.9/site-packages (from ipython>=1.0->ipython-sql) (3.0.20)\n",
      "Requirement already satisfied: matplotlib-inline in /Users/davidbianchin/opt/anaconda3/lib/python3.9/site-packages (from ipython>=1.0->ipython-sql) (0.1.2)\n",
      "Requirement already satisfied: pexpect>4.3 in /Users/davidbianchin/opt/anaconda3/lib/python3.9/site-packages (from ipython>=1.0->ipython-sql) (4.8.0)\n",
      "Requirement already satisfied: pygments in /Users/davidbianchin/opt/anaconda3/lib/python3.9/site-packages (from ipython>=1.0->ipython-sql) (2.10.0)\n",
      "Requirement already satisfied: setuptools>=18.5 in /Users/davidbianchin/opt/anaconda3/lib/python3.9/site-packages (from ipython>=1.0->ipython-sql) (58.0.4)\n",
      "Requirement already satisfied: decorator in /Users/davidbianchin/opt/anaconda3/lib/python3.9/site-packages (from ipython>=1.0->ipython-sql) (5.1.0)\n",
      "Requirement already satisfied: appnope in /Users/davidbianchin/opt/anaconda3/lib/python3.9/site-packages (from ipython>=1.0->ipython-sql) (0.1.2)\n",
      "Requirement already satisfied: parso<0.9.0,>=0.8.0 in /Users/davidbianchin/opt/anaconda3/lib/python3.9/site-packages (from jedi>=0.16->ipython>=1.0->ipython-sql) (0.8.2)\n",
      "Requirement already satisfied: ptyprocess>=0.5 in /Users/davidbianchin/opt/anaconda3/lib/python3.9/site-packages (from pexpect>4.3->ipython>=1.0->ipython-sql) (0.7.0)\n",
      "Requirement already satisfied: wcwidth in /Users/davidbianchin/opt/anaconda3/lib/python3.9/site-packages (from prompt-toolkit!=3.0.0,!=3.0.1,<3.1.0,>=2.0.0->ipython>=1.0->ipython-sql) (0.2.5)\n",
      "Requirement already satisfied: greenlet!=0.4.17 in /Users/davidbianchin/opt/anaconda3/lib/python3.9/site-packages (from sqlalchemy>=0.6.7->ipython-sql) (1.1.1)\n",
      "Building wheels for collected packages: prettytable\n",
      "  Building wheel for prettytable (setup.py) ... \u001b[?25ldone\n",
      "\u001b[?25h  Created wheel for prettytable: filename=prettytable-0.7.2-py3-none-any.whl size=13714 sha256=6a681c0dc66befcc7dc2c22b58d4e24a8065aa6747b7147ded02c9b69c654f95\n",
      "  Stored in directory: /Users/davidbianchin/Library/Caches/pip/wheels/75/f7/28/77a076f1fa8cbeda61aca712815d04d7a32435f04a26a2dd7b\n",
      "Successfully built prettytable\n",
      "Installing collected packages: sqlparse, prettytable, ipython-sql\n",
      "Successfully installed ipython-sql-0.4.1 prettytable-0.7.2 sqlparse-0.4.3\n"
     ]
    }
   ],
   "source": [
    "!pip install ipython-sql\n"
   ]
  },
  {
   "cell_type": "code",
   "execution_count": 2,
   "id": "cd6e4c69",
   "metadata": {},
   "outputs": [],
   "source": [
    "%load_ext sql\n",
    "#% is python magic command"
   ]
  },
  {
   "cell_type": "code",
   "execution_count": 3,
   "id": "5f72c9b0",
   "metadata": {},
   "outputs": [],
   "source": [
    "%sql sqlite://\n",
    "#sql is not case-sensitive"
   ]
  },
  {
   "cell_type": "code",
   "execution_count": 4,
   "id": "86e14f22",
   "metadata": {},
   "outputs": [],
   "source": [
    "### CHAR() is size limit\n",
    "### SEMICOLON INDICATES END OF COMMAND\n",
    "### Adding comments are not good in the cells below"
   ]
  },
  {
   "cell_type": "markdown",
   "id": "7ecbc6fb",
   "metadata": {},
   "source": [
    "# How to Create Table"
   ]
  },
  {
   "cell_type": "code",
   "execution_count": 5,
   "id": "92106dea",
   "metadata": {},
   "outputs": [
    {
     "name": "stdout",
     "output_type": "stream",
     "text": [
      " * sqlite://\n",
      "Done.\n"
     ]
    },
    {
     "data": {
      "text/plain": [
       "[]"
      ]
     },
     "execution_count": 5,
     "metadata": {},
     "output_type": "execute_result"
    }
   ],
   "source": [
    "%%sql CREATE TABLE rep (\n",
    "REP_NUM CHAR(2) PRIMARY KEY,\n",
    "LAST_NAME CHAR(15),\n",
    "FIRST_NAME CHAR(15),\n",
    "STATE CHAR(2),\n",
    "ZIP CHAR(5),\n",
    "COMMISION DECIMAL(7,2),\n",
    "RATE DECIMAL(3,2) \n",
    ");\n"
   ]
  },
  {
   "cell_type": "markdown",
   "id": "b811b51c",
   "metadata": {},
   "source": [
    "# How to modify existing table"
   ]
  },
  {
   "cell_type": "code",
   "execution_count": 6,
   "id": "93c1f84b",
   "metadata": {},
   "outputs": [
    {
     "name": "stdout",
     "output_type": "stream",
     "text": [
      " * sqlite://\n",
      "Done.\n"
     ]
    },
    {
     "data": {
      "text/plain": [
       "[]"
      ]
     },
     "execution_count": 6,
     "metadata": {},
     "output_type": "execute_result"
    }
   ],
   "source": [
    "%sql DROP TABLE rep;"
   ]
  },
  {
   "cell_type": "code",
   "execution_count": 7,
   "id": "0f296e6e",
   "metadata": {},
   "outputs": [
    {
     "name": "stdout",
     "output_type": "stream",
     "text": [
      " * sqlite://\n",
      "Done.\n"
     ]
    },
    {
     "data": {
      "text/plain": [
       "[]"
      ]
     },
     "execution_count": 7,
     "metadata": {},
     "output_type": "execute_result"
    }
   ],
   "source": [
    "%%sql CREATE TABLE rep (\n",
    "REP_NUM CHAR(2) PRIMARY KEY,\n",
    "LAST_NAME CHAR(15) NOT NULL,\n",
    "FIRST_NAME CHAR(15) NOT NULL,\n",
    "STREET CHAR(15),\n",
    "CITY CHAR(15),\n",
    "STATE CHAR(2),\n",
    "ZIP CHAR(5),\n",
    "COMMISION DECIMAL(7,2),\n",
    "RATE DECIMAL(3,2) \n",
    ");"
   ]
  },
  {
   "cell_type": "markdown",
   "id": "a83a4af5",
   "metadata": {},
   "source": [
    "# Pulling/ Displaying a Table"
   ]
  },
  {
   "cell_type": "code",
   "execution_count": 8,
   "id": "8cd2b0b3",
   "metadata": {},
   "outputs": [
    {
     "name": "stdout",
     "output_type": "stream",
     "text": [
      " * sqlite://\n",
      "Done.\n"
     ]
    },
    {
     "data": {
      "text/html": [
       "<table>\n",
       "    <tr>\n",
       "        <th>REP_NUM</th>\n",
       "        <th>LAST_NAME</th>\n",
       "        <th>FIRST_NAME</th>\n",
       "        <th>STREET</th>\n",
       "        <th>CITY</th>\n",
       "        <th>STATE</th>\n",
       "        <th>ZIP</th>\n",
       "        <th>COMMISION</th>\n",
       "        <th>RATE</th>\n",
       "    </tr>\n",
       "</table>"
      ],
      "text/plain": [
       "[]"
      ]
     },
     "execution_count": 8,
     "metadata": {},
     "output_type": "execute_result"
    }
   ],
   "source": [
    "%sql SELECT * FROM REP;"
   ]
  },
  {
   "cell_type": "code",
   "execution_count": 9,
   "id": "a8b03ab0",
   "metadata": {},
   "outputs": [
    {
     "name": "stdout",
     "output_type": "stream",
     "text": [
      " * sqlite://\n",
      "1 rows affected.\n"
     ]
    },
    {
     "data": {
      "text/plain": [
       "[]"
      ]
     },
     "execution_count": 9,
     "metadata": {},
     "output_type": "execute_result"
    }
   ],
   "source": [
    "%%sql\n",
    "INSERT INTO rep\n",
    "VALUES\n",
    "('20', 'Kaiser', 'Valerie', '624 Randall', 'Grove', 'FL', '33321', 2042.50, 0.05)"
   ]
  },
  {
   "cell_type": "code",
   "execution_count": 10,
   "id": "18b73458",
   "metadata": {},
   "outputs": [
    {
     "name": "stdout",
     "output_type": "stream",
     "text": [
      " * sqlite://\n",
      "Done.\n"
     ]
    },
    {
     "data": {
      "text/html": [
       "<table>\n",
       "    <tr>\n",
       "        <th>REP_NUM</th>\n",
       "        <th>LAST_NAME</th>\n",
       "        <th>FIRST_NAME</th>\n",
       "        <th>STREET</th>\n",
       "        <th>CITY</th>\n",
       "        <th>STATE</th>\n",
       "        <th>ZIP</th>\n",
       "        <th>COMMISION</th>\n",
       "        <th>RATE</th>\n",
       "    </tr>\n",
       "    <tr>\n",
       "        <td>20</td>\n",
       "        <td>Kaiser</td>\n",
       "        <td>Valerie</td>\n",
       "        <td>624 Randall</td>\n",
       "        <td>Grove</td>\n",
       "        <td>FL</td>\n",
       "        <td>33321</td>\n",
       "        <td>2042.5</td>\n",
       "        <td>0.05</td>\n",
       "    </tr>\n",
       "</table>"
      ],
      "text/plain": [
       "[('20', 'Kaiser', 'Valerie', '624 Randall', 'Grove', 'FL', '33321', 2042.5, 0.05)]"
      ]
     },
     "execution_count": 10,
     "metadata": {},
     "output_type": "execute_result"
    }
   ],
   "source": [
    "%sql SELECT * FROM rep;"
   ]
  },
  {
   "cell_type": "code",
   "execution_count": 11,
   "id": "9c22afed",
   "metadata": {},
   "outputs": [],
   "source": [
    "# ; seperates commands"
   ]
  },
  {
   "cell_type": "markdown",
   "id": "10e8c3eb",
   "metadata": {},
   "source": [
    "# Inserting a row that contains null values"
   ]
  },
  {
   "cell_type": "code",
   "execution_count": 12,
   "id": "00cacbdc",
   "metadata": {},
   "outputs": [
    {
     "name": "stdout",
     "output_type": "stream",
     "text": [
      " * sqlite://\n",
      "1 rows affected.\n"
     ]
    },
    {
     "data": {
      "text/plain": [
       "[]"
      ]
     },
     "execution_count": 12,
     "metadata": {},
     "output_type": "execute_result"
    }
   ],
   "source": [
    "%sql INSERT INTO rep (REP_NUM, LAST_NAME, FIRST_NAME) VALUES ('85', 'Webb', 'Tina');"
   ]
  },
  {
   "cell_type": "code",
   "execution_count": 13,
   "id": "c52945d3",
   "metadata": {},
   "outputs": [
    {
     "name": "stdout",
     "output_type": "stream",
     "text": [
      " * sqlite://\n",
      "Done.\n"
     ]
    },
    {
     "data": {
      "text/html": [
       "<table>\n",
       "    <tr>\n",
       "        <th>REP_NUM</th>\n",
       "        <th>LAST_NAME</th>\n",
       "        <th>FIRST_NAME</th>\n",
       "        <th>STREET</th>\n",
       "        <th>CITY</th>\n",
       "        <th>STATE</th>\n",
       "        <th>ZIP</th>\n",
       "        <th>COMMISION</th>\n",
       "        <th>RATE</th>\n",
       "    </tr>\n",
       "    <tr>\n",
       "        <td>20</td>\n",
       "        <td>Kaiser</td>\n",
       "        <td>Valerie</td>\n",
       "        <td>624 Randall</td>\n",
       "        <td>Grove</td>\n",
       "        <td>FL</td>\n",
       "        <td>33321</td>\n",
       "        <td>2042.5</td>\n",
       "        <td>0.05</td>\n",
       "    </tr>\n",
       "    <tr>\n",
       "        <td>85</td>\n",
       "        <td>Webb</td>\n",
       "        <td>Tina</td>\n",
       "        <td>None</td>\n",
       "        <td>None</td>\n",
       "        <td>None</td>\n",
       "        <td>None</td>\n",
       "        <td>None</td>\n",
       "        <td>None</td>\n",
       "    </tr>\n",
       "</table>"
      ],
      "text/plain": [
       "[('20', 'Kaiser', 'Valerie', '624 Randall', 'Grove', 'FL', '33321', 2042.5, 0.05),\n",
       " ('85', 'Webb', 'Tina', None, None, None, None, None, None)]"
      ]
     },
     "execution_count": 13,
     "metadata": {},
     "output_type": "execute_result"
    }
   ],
   "source": [
    "%sql SELECT * FROM rep;"
   ]
  },
  {
   "cell_type": "code",
   "execution_count": 14,
   "id": "ed8f718f",
   "metadata": {},
   "outputs": [
    {
     "name": "stdout",
     "output_type": "stream",
     "text": [
      " * sqlite://\n",
      "2 rows affected.\n"
     ]
    },
    {
     "data": {
      "text/plain": [
       "[]"
      ]
     },
     "execution_count": 14,
     "metadata": {},
     "output_type": "execute_result"
    }
   ],
   "source": [
    "%%sql\n",
    "INSERT INTO rep\n",
    "VALUES\n",
    "('35', 'Hull', 'Richard', '532 Jackson', 'Sheldon', 'FL', '33553', 39216, 0.07),\n",
    "('65', 'Perez', 'Juan', '1626 Taylor', 'Filmore', 'FL', '33336', 23487, 0.05);"
   ]
  },
  {
   "cell_type": "markdown",
   "id": "50afd861",
   "metadata": {},
   "source": [
    "# Update Records"
   ]
  },
  {
   "cell_type": "code",
   "execution_count": 15,
   "id": "29dffa5e",
   "metadata": {},
   "outputs": [
    {
     "name": "stdout",
     "output_type": "stream",
     "text": [
      " * sqlite://\n",
      "1 rows affected.\n"
     ]
    },
    {
     "data": {
      "text/plain": [
       "[]"
      ]
     },
     "execution_count": 15,
     "metadata": {},
     "output_type": "execute_result"
    }
   ],
   "source": [
    "%%sql \n",
    "UPDATE rep\n",
    "SET last_name = 'Perry'\n",
    "WHERE rep_num = '85';"
   ]
  },
  {
   "cell_type": "code",
   "execution_count": 16,
   "id": "44000d11",
   "metadata": {},
   "outputs": [
    {
     "name": "stdout",
     "output_type": "stream",
     "text": [
      " * sqlite://\n",
      "Done.\n"
     ]
    },
    {
     "data": {
      "text/html": [
       "<table>\n",
       "    <tr>\n",
       "        <th>REP_NUM</th>\n",
       "        <th>LAST_NAME</th>\n",
       "        <th>FIRST_NAME</th>\n",
       "        <th>STREET</th>\n",
       "        <th>CITY</th>\n",
       "        <th>STATE</th>\n",
       "        <th>ZIP</th>\n",
       "        <th>COMMISION</th>\n",
       "        <th>RATE</th>\n",
       "    </tr>\n",
       "    <tr>\n",
       "        <td>20</td>\n",
       "        <td>Kaiser</td>\n",
       "        <td>Valerie</td>\n",
       "        <td>624 Randall</td>\n",
       "        <td>Grove</td>\n",
       "        <td>FL</td>\n",
       "        <td>33321</td>\n",
       "        <td>2042.5</td>\n",
       "        <td>0.05</td>\n",
       "    </tr>\n",
       "    <tr>\n",
       "        <td>85</td>\n",
       "        <td>Perry</td>\n",
       "        <td>Tina</td>\n",
       "        <td>None</td>\n",
       "        <td>None</td>\n",
       "        <td>None</td>\n",
       "        <td>None</td>\n",
       "        <td>None</td>\n",
       "        <td>None</td>\n",
       "    </tr>\n",
       "    <tr>\n",
       "        <td>35</td>\n",
       "        <td>Hull</td>\n",
       "        <td>Richard</td>\n",
       "        <td>532 Jackson</td>\n",
       "        <td>Sheldon</td>\n",
       "        <td>FL</td>\n",
       "        <td>33553</td>\n",
       "        <td>39216</td>\n",
       "        <td>0.07</td>\n",
       "    </tr>\n",
       "    <tr>\n",
       "        <td>65</td>\n",
       "        <td>Perez</td>\n",
       "        <td>Juan</td>\n",
       "        <td>1626 Taylor</td>\n",
       "        <td>Filmore</td>\n",
       "        <td>FL</td>\n",
       "        <td>33336</td>\n",
       "        <td>23487</td>\n",
       "        <td>0.05</td>\n",
       "    </tr>\n",
       "</table>"
      ],
      "text/plain": [
       "[('20', 'Kaiser', 'Valerie', '624 Randall', 'Grove', 'FL', '33321', 2042.5, 0.05),\n",
       " ('85', 'Perry', 'Tina', None, None, None, None, None, None),\n",
       " ('35', 'Hull', 'Richard', '532 Jackson', 'Sheldon', 'FL', '33553', 39216, 0.07),\n",
       " ('65', 'Perez', 'Juan', '1626 Taylor', 'Filmore', 'FL', '33336', 23487, 0.05)]"
      ]
     },
     "execution_count": 16,
     "metadata": {},
     "output_type": "execute_result"
    }
   ],
   "source": [
    "%sql SELECT * FROM rep;"
   ]
  },
  {
   "cell_type": "markdown",
   "id": "8ef68125",
   "metadata": {},
   "source": [
    "# Deleting Records"
   ]
  },
  {
   "cell_type": "code",
   "execution_count": 17,
   "id": "fb117b3c",
   "metadata": {},
   "outputs": [
    {
     "name": "stdout",
     "output_type": "stream",
     "text": [
      " * sqlite://\n",
      "1 rows affected.\n"
     ]
    },
    {
     "data": {
      "text/plain": [
       "[]"
      ]
     },
     "execution_count": 17,
     "metadata": {},
     "output_type": "execute_result"
    }
   ],
   "source": [
    "%sql DELETE FROM rep WHERE rep_num = '85'"
   ]
  },
  {
   "cell_type": "code",
   "execution_count": 18,
   "id": "1040a1ab",
   "metadata": {
    "scrolled": true
   },
   "outputs": [
    {
     "name": "stdout",
     "output_type": "stream",
     "text": [
      " * sqlite://\n",
      "Done.\n"
     ]
    },
    {
     "data": {
      "text/html": [
       "<table>\n",
       "    <tr>\n",
       "        <th>REP_NUM</th>\n",
       "        <th>LAST_NAME</th>\n",
       "        <th>FIRST_NAME</th>\n",
       "        <th>STREET</th>\n",
       "        <th>CITY</th>\n",
       "        <th>STATE</th>\n",
       "        <th>ZIP</th>\n",
       "        <th>COMMISION</th>\n",
       "        <th>RATE</th>\n",
       "    </tr>\n",
       "    <tr>\n",
       "        <td>20</td>\n",
       "        <td>Kaiser</td>\n",
       "        <td>Valerie</td>\n",
       "        <td>624 Randall</td>\n",
       "        <td>Grove</td>\n",
       "        <td>FL</td>\n",
       "        <td>33321</td>\n",
       "        <td>2042.5</td>\n",
       "        <td>0.05</td>\n",
       "    </tr>\n",
       "    <tr>\n",
       "        <td>35</td>\n",
       "        <td>Hull</td>\n",
       "        <td>Richard</td>\n",
       "        <td>532 Jackson</td>\n",
       "        <td>Sheldon</td>\n",
       "        <td>FL</td>\n",
       "        <td>33553</td>\n",
       "        <td>39216</td>\n",
       "        <td>0.07</td>\n",
       "    </tr>\n",
       "    <tr>\n",
       "        <td>65</td>\n",
       "        <td>Perez</td>\n",
       "        <td>Juan</td>\n",
       "        <td>1626 Taylor</td>\n",
       "        <td>Filmore</td>\n",
       "        <td>FL</td>\n",
       "        <td>33336</td>\n",
       "        <td>23487</td>\n",
       "        <td>0.05</td>\n",
       "    </tr>\n",
       "</table>"
      ],
      "text/plain": [
       "[('20', 'Kaiser', 'Valerie', '624 Randall', 'Grove', 'FL', '33321', 2042.5, 0.05),\n",
       " ('35', 'Hull', 'Richard', '532 Jackson', 'Sheldon', 'FL', '33553', 39216, 0.07),\n",
       " ('65', 'Perez', 'Juan', '1626 Taylor', 'Filmore', 'FL', '33336', 23487, 0.05)]"
      ]
     },
     "execution_count": 18,
     "metadata": {},
     "output_type": "execute_result"
    }
   ],
   "source": [
    "%sql SELECT * FROM rep;"
   ]
  },
  {
   "cell_type": "markdown",
   "id": "04a5df2e",
   "metadata": {},
   "source": [
    "# Creating The Remaining Database"
   ]
  },
  {
   "cell_type": "code",
   "execution_count": 19,
   "id": "ffce8526",
   "metadata": {},
   "outputs": [
    {
     "name": "stdout",
     "output_type": "stream",
     "text": [
      " * sqlite://\n",
      "Done.\n"
     ]
    },
    {
     "data": {
      "text/plain": [
       "[]"
      ]
     },
     "execution_count": 19,
     "metadata": {},
     "output_type": "execute_result"
    }
   ],
   "source": [
    "%%sql\n",
    "CREATE TABLE CUSTOMER\n",
    "(CUSTOMER_NUM CHAR(3) PRIMARY KEY,\n",
    "CUSTOMER_NAME CHAR(35) NOT NULL,\n",
    "STREET CHAR(15),\n",
    "CITY CHAR(15),\n",
    "STATE CHAR(2),\n",
    "ZIP CHAR(5),\n",
    "BALANCE DECIMAL(8,2),\n",
    "CREDIT_LIMIT DECIMAL(8,2),\n",
    "REP_NUM CHAR(2) );"
   ]
  },
  {
   "cell_type": "code",
   "execution_count": 20,
   "id": "ea63041d",
   "metadata": {},
   "outputs": [
    {
     "name": "stdout",
     "output_type": "stream",
     "text": [
      " * sqlite://\n",
      "10 rows affected.\n"
     ]
    },
    {
     "data": {
      "text/plain": [
       "[]"
      ]
     },
     "execution_count": 20,
     "metadata": {},
     "output_type": "execute_result"
    }
   ],
   "source": [
    "%%sql\n",
    "INSERT INTO CUSTOMER\n",
    "VALUES\n",
    "('148','Al''s Appliance and Sport','2837\n",
    "Greenway','Fillmore','FL','33336',6550.00,7500.00,'20'),\n",
    "('282','Brookings Direct','3827\n",
    "Devon','Grove','FL','33321',431.50,10000.00,'35'),\n",
    "('356','Ferguson''s','382\n",
    "Wildwood','Northfield','FL','33146',5785.00,7500.00,'65'),\n",
    "('408','The Everything Shop','1828\n",
    "Raven','Crystal','FL','33503',5285.25,5000.00,'35'),\n",
    "('462','Bargains Galore','3829\n",
    "Central','Grove','FL','33321',3412.00,10000.00,'65'),\n",
    "('524','Kline''s','838\n",
    "Ridgeland','Fillmore','FL','33336',12762.00,15000.00,'20'),\n",
    "('608','Johnson''s Department Store','372\n",
    "Oxford','Sheldon','FL','33553',2106.00,10000.00,'65'),\n",
    "('687','Lee''s Sport and Appliance','282\n",
    "Evergreen','Altonville','FL','32543',2851.00,5000.00,'35'),\n",
    "('725','Deerfield''s Four Seasons','282\n",
    "Columbia','Sheldon','FL','33553',248.00,7500.00,'35'),\n",
    "('842','All Season','28\n",
    "Lakeview','Grove','FL','33321',8221.00,7500.00,'20');"
   ]
  },
  {
   "cell_type": "code",
   "execution_count": 21,
   "id": "89cd6ef3",
   "metadata": {},
   "outputs": [
    {
     "name": "stdout",
     "output_type": "stream",
     "text": [
      " * sqlite://\n",
      "Done.\n"
     ]
    },
    {
     "data": {
      "text/html": [
       "<table>\n",
       "    <tr>\n",
       "        <th>CUSTOMER_NUM</th>\n",
       "        <th>CUSTOMER_NAME</th>\n",
       "        <th>STREET</th>\n",
       "        <th>CITY</th>\n",
       "        <th>STATE</th>\n",
       "        <th>ZIP</th>\n",
       "        <th>BALANCE</th>\n",
       "        <th>CREDIT_LIMIT</th>\n",
       "        <th>REP_NUM</th>\n",
       "    </tr>\n",
       "    <tr>\n",
       "        <td>148</td>\n",
       "        <td>Al&#x27;s Appliance and Sport</td>\n",
       "        <td>2837<br>Greenway</td>\n",
       "        <td>Fillmore</td>\n",
       "        <td>FL</td>\n",
       "        <td>33336</td>\n",
       "        <td>6550</td>\n",
       "        <td>7500</td>\n",
       "        <td>20</td>\n",
       "    </tr>\n",
       "    <tr>\n",
       "        <td>282</td>\n",
       "        <td>Brookings Direct</td>\n",
       "        <td>3827<br>Devon</td>\n",
       "        <td>Grove</td>\n",
       "        <td>FL</td>\n",
       "        <td>33321</td>\n",
       "        <td>431.5</td>\n",
       "        <td>10000</td>\n",
       "        <td>35</td>\n",
       "    </tr>\n",
       "    <tr>\n",
       "        <td>356</td>\n",
       "        <td>Ferguson&#x27;s</td>\n",
       "        <td>382<br>Wildwood</td>\n",
       "        <td>Northfield</td>\n",
       "        <td>FL</td>\n",
       "        <td>33146</td>\n",
       "        <td>5785</td>\n",
       "        <td>7500</td>\n",
       "        <td>65</td>\n",
       "    </tr>\n",
       "    <tr>\n",
       "        <td>408</td>\n",
       "        <td>The Everything Shop</td>\n",
       "        <td>1828<br>Raven</td>\n",
       "        <td>Crystal</td>\n",
       "        <td>FL</td>\n",
       "        <td>33503</td>\n",
       "        <td>5285.25</td>\n",
       "        <td>5000</td>\n",
       "        <td>35</td>\n",
       "    </tr>\n",
       "    <tr>\n",
       "        <td>462</td>\n",
       "        <td>Bargains Galore</td>\n",
       "        <td>3829<br>Central</td>\n",
       "        <td>Grove</td>\n",
       "        <td>FL</td>\n",
       "        <td>33321</td>\n",
       "        <td>3412</td>\n",
       "        <td>10000</td>\n",
       "        <td>65</td>\n",
       "    </tr>\n",
       "    <tr>\n",
       "        <td>524</td>\n",
       "        <td>Kline&#x27;s</td>\n",
       "        <td>838<br>Ridgeland</td>\n",
       "        <td>Fillmore</td>\n",
       "        <td>FL</td>\n",
       "        <td>33336</td>\n",
       "        <td>12762</td>\n",
       "        <td>15000</td>\n",
       "        <td>20</td>\n",
       "    </tr>\n",
       "    <tr>\n",
       "        <td>608</td>\n",
       "        <td>Johnson&#x27;s Department Store</td>\n",
       "        <td>372<br>Oxford</td>\n",
       "        <td>Sheldon</td>\n",
       "        <td>FL</td>\n",
       "        <td>33553</td>\n",
       "        <td>2106</td>\n",
       "        <td>10000</td>\n",
       "        <td>65</td>\n",
       "    </tr>\n",
       "    <tr>\n",
       "        <td>687</td>\n",
       "        <td>Lee&#x27;s Sport and Appliance</td>\n",
       "        <td>282<br>Evergreen</td>\n",
       "        <td>Altonville</td>\n",
       "        <td>FL</td>\n",
       "        <td>32543</td>\n",
       "        <td>2851</td>\n",
       "        <td>5000</td>\n",
       "        <td>35</td>\n",
       "    </tr>\n",
       "    <tr>\n",
       "        <td>725</td>\n",
       "        <td>Deerfield&#x27;s Four Seasons</td>\n",
       "        <td>282<br>Columbia</td>\n",
       "        <td>Sheldon</td>\n",
       "        <td>FL</td>\n",
       "        <td>33553</td>\n",
       "        <td>248</td>\n",
       "        <td>7500</td>\n",
       "        <td>35</td>\n",
       "    </tr>\n",
       "    <tr>\n",
       "        <td>842</td>\n",
       "        <td>All Season</td>\n",
       "        <td>28<br>Lakeview</td>\n",
       "        <td>Grove</td>\n",
       "        <td>FL</td>\n",
       "        <td>33321</td>\n",
       "        <td>8221</td>\n",
       "        <td>7500</td>\n",
       "        <td>20</td>\n",
       "    </tr>\n",
       "</table>"
      ],
      "text/plain": [
       "[('148', \"Al's Appliance and Sport\", '2837\\nGreenway', 'Fillmore', 'FL', '33336', 6550, 7500, '20'),\n",
       " ('282', 'Brookings Direct', '3827\\nDevon', 'Grove', 'FL', '33321', 431.5, 10000, '35'),\n",
       " ('356', \"Ferguson's\", '382\\nWildwood', 'Northfield', 'FL', '33146', 5785, 7500, '65'),\n",
       " ('408', 'The Everything Shop', '1828\\nRaven', 'Crystal', 'FL', '33503', 5285.25, 5000, '35'),\n",
       " ('462', 'Bargains Galore', '3829\\nCentral', 'Grove', 'FL', '33321', 3412, 10000, '65'),\n",
       " ('524', \"Kline's\", '838\\nRidgeland', 'Fillmore', 'FL', '33336', 12762, 15000, '20'),\n",
       " ('608', \"Johnson's Department Store\", '372\\nOxford', 'Sheldon', 'FL', '33553', 2106, 10000, '65'),\n",
       " ('687', \"Lee's Sport and Appliance\", '282\\nEvergreen', 'Altonville', 'FL', '32543', 2851, 5000, '35'),\n",
       " ('725', \"Deerfield's Four Seasons\", '282\\nColumbia', 'Sheldon', 'FL', '33553', 248, 7500, '35'),\n",
       " ('842', 'All Season', '28\\nLakeview', 'Grove', 'FL', '33321', 8221, 7500, '20')]"
      ]
     },
     "execution_count": 21,
     "metadata": {},
     "output_type": "execute_result"
    }
   ],
   "source": [
    "%sql SELECT * FROM CUSTOMER"
   ]
  },
  {
   "cell_type": "code",
   "execution_count": 22,
   "id": "7a34e117",
   "metadata": {},
   "outputs": [
    {
     "name": "stdout",
     "output_type": "stream",
     "text": [
      " * sqlite://\n",
      "Done.\n"
     ]
    },
    {
     "data": {
      "text/plain": [
       "[]"
      ]
     },
     "execution_count": 22,
     "metadata": {},
     "output_type": "execute_result"
    }
   ],
   "source": [
    "%%sql\n",
    "CREATE TABLE ORDERS\n",
    "(ORDER_NUM CHAR(5) PRIMARY KEY,\n",
    "ORDER_DATE DATE,\n",
    "CUSTOMER_NUM CHAR(3) );"
   ]
  },
  {
   "cell_type": "code",
   "execution_count": 23,
   "id": "1fa11472",
   "metadata": {},
   "outputs": [
    {
     "name": "stdout",
     "output_type": "stream",
     "text": [
      " * sqlite://\n",
      "7 rows affected.\n"
     ]
    },
    {
     "data": {
      "text/plain": [
       "[]"
      ]
     },
     "execution_count": 23,
     "metadata": {},
     "output_type": "execute_result"
    }
   ],
   "source": [
    "%%sql\n",
    "INSERT INTO ORDERS\n",
    "VALUES\n",
    "('21608','20\n",
    "OCT 2010','148'),\n",
    "('21610','20\n",
    "OCT 2010','356'),\n",
    "('21613','21\n",
    "OCT 2010','408'),\n",
    "('21614','21\n",
    "OCT 2010','282'),\n",
    "('21617','23\n",
    "OCT 2010','608'),\n",
    "('21619','23\n",
    "OCT 2010','148'),\n",
    "('21623','23\n",
    "OCT 2010','608');"
   ]
  },
  {
   "cell_type": "code",
   "execution_count": 24,
   "id": "4ee026ae",
   "metadata": {},
   "outputs": [
    {
     "name": "stdout",
     "output_type": "stream",
     "text": [
      " * sqlite://\n",
      "Done.\n"
     ]
    },
    {
     "data": {
      "text/html": [
       "<table>\n",
       "    <tr>\n",
       "        <th>ORDER_NUM</th>\n",
       "        <th>ORDER_DATE</th>\n",
       "        <th>CUSTOMER_NUM</th>\n",
       "    </tr>\n",
       "    <tr>\n",
       "        <td>21608</td>\n",
       "        <td>20<br>OCT 2010</td>\n",
       "        <td>148</td>\n",
       "    </tr>\n",
       "    <tr>\n",
       "        <td>21610</td>\n",
       "        <td>20<br>OCT 2010</td>\n",
       "        <td>356</td>\n",
       "    </tr>\n",
       "    <tr>\n",
       "        <td>21613</td>\n",
       "        <td>21<br>OCT 2010</td>\n",
       "        <td>408</td>\n",
       "    </tr>\n",
       "    <tr>\n",
       "        <td>21614</td>\n",
       "        <td>21<br>OCT 2010</td>\n",
       "        <td>282</td>\n",
       "    </tr>\n",
       "    <tr>\n",
       "        <td>21617</td>\n",
       "        <td>23<br>OCT 2010</td>\n",
       "        <td>608</td>\n",
       "    </tr>\n",
       "    <tr>\n",
       "        <td>21619</td>\n",
       "        <td>23<br>OCT 2010</td>\n",
       "        <td>148</td>\n",
       "    </tr>\n",
       "    <tr>\n",
       "        <td>21623</td>\n",
       "        <td>23<br>OCT 2010</td>\n",
       "        <td>608</td>\n",
       "    </tr>\n",
       "</table>"
      ],
      "text/plain": [
       "[('21608', '20\\nOCT 2010', '148'),\n",
       " ('21610', '20\\nOCT 2010', '356'),\n",
       " ('21613', '21\\nOCT 2010', '408'),\n",
       " ('21614', '21\\nOCT 2010', '282'),\n",
       " ('21617', '23\\nOCT 2010', '608'),\n",
       " ('21619', '23\\nOCT 2010', '148'),\n",
       " ('21623', '23\\nOCT 2010', '608')]"
      ]
     },
     "execution_count": 24,
     "metadata": {},
     "output_type": "execute_result"
    }
   ],
   "source": [
    "%sql SELECT * FROM ORDERS"
   ]
  },
  {
   "cell_type": "code",
   "execution_count": 25,
   "id": "31810511",
   "metadata": {},
   "outputs": [
    {
     "name": "stdout",
     "output_type": "stream",
     "text": [
      " * sqlite://\n",
      "Done.\n"
     ]
    },
    {
     "data": {
      "text/plain": [
       "[]"
      ]
     },
     "execution_count": 25,
     "metadata": {},
     "output_type": "execute_result"
    }
   ],
   "source": [
    "%%sql\n",
    "CREATE TABLE PART\n",
    "(PART_NUM CHAR(4) PRIMARY KEY,\n",
    "DESCRIPTION CHAR(15),\n",
    "ON_HAND DECIMAL(4,0),\n",
    "CLASS CHAR(2),\n",
    "WAREHOUSE CHAR(1),\n",
    "PRICE DECIMAL(6,2) );\n"
   ]
  },
  {
   "cell_type": "code",
   "execution_count": 26,
   "id": "7d8985e3",
   "metadata": {},
   "outputs": [
    {
     "name": "stdout",
     "output_type": "stream",
     "text": [
      " * sqlite://\n",
      "10 rows affected.\n"
     ]
    },
    {
     "data": {
      "text/plain": [
       "[]"
      ]
     },
     "execution_count": 26,
     "metadata": {},
     "output_type": "execute_result"
    }
   ],
   "source": [
    "%%sql\n",
    "INSERT INTO PART VALUES\n",
    "('AT94','Iron',50,'HW','3',24.95),\n",
    "('BV06','Home Gym',45,'SG','2',794.95),\n",
    "('CD52','Microwave\n",
    "Oven',32,'AP','1',165.00),\n",
    "('DL71','Cordless\n",
    "Drill',21,'HW','3',129.95),\n",
    "('DR93','Gas Range',8,'AP','2',495.00),\n",
    "('DW11','Washer',12,'AP','3',399.99),\n",
    "('FD21','Stand Mixer',22,'HW','3',159.95),\n",
    "('KL62','Dryer',12,'AP','1',349.95),\n",
    "('KT03','Dishwasher',8,'AP','3',595.00),\n",
    "('KV29','Treadmill',9,'SG','2',1390.00);"
   ]
  },
  {
   "cell_type": "code",
   "execution_count": 27,
   "id": "a8541541",
   "metadata": {},
   "outputs": [
    {
     "name": "stdout",
     "output_type": "stream",
     "text": [
      " * sqlite://\n",
      "Done.\n"
     ]
    },
    {
     "data": {
      "text/html": [
       "<table>\n",
       "    <tr>\n",
       "        <th>PART_NUM</th>\n",
       "        <th>DESCRIPTION</th>\n",
       "        <th>ON_HAND</th>\n",
       "        <th>CLASS</th>\n",
       "        <th>WAREHOUSE</th>\n",
       "        <th>PRICE</th>\n",
       "    </tr>\n",
       "    <tr>\n",
       "        <td>AT94</td>\n",
       "        <td>Iron</td>\n",
       "        <td>50</td>\n",
       "        <td>HW</td>\n",
       "        <td>3</td>\n",
       "        <td>24.95</td>\n",
       "    </tr>\n",
       "    <tr>\n",
       "        <td>BV06</td>\n",
       "        <td>Home Gym</td>\n",
       "        <td>45</td>\n",
       "        <td>SG</td>\n",
       "        <td>2</td>\n",
       "        <td>794.95</td>\n",
       "    </tr>\n",
       "    <tr>\n",
       "        <td>CD52</td>\n",
       "        <td>Microwave<br>Oven</td>\n",
       "        <td>32</td>\n",
       "        <td>AP</td>\n",
       "        <td>1</td>\n",
       "        <td>165</td>\n",
       "    </tr>\n",
       "    <tr>\n",
       "        <td>DL71</td>\n",
       "        <td>Cordless<br>Drill</td>\n",
       "        <td>21</td>\n",
       "        <td>HW</td>\n",
       "        <td>3</td>\n",
       "        <td>129.95</td>\n",
       "    </tr>\n",
       "    <tr>\n",
       "        <td>DR93</td>\n",
       "        <td>Gas Range</td>\n",
       "        <td>8</td>\n",
       "        <td>AP</td>\n",
       "        <td>2</td>\n",
       "        <td>495</td>\n",
       "    </tr>\n",
       "    <tr>\n",
       "        <td>DW11</td>\n",
       "        <td>Washer</td>\n",
       "        <td>12</td>\n",
       "        <td>AP</td>\n",
       "        <td>3</td>\n",
       "        <td>399.99</td>\n",
       "    </tr>\n",
       "    <tr>\n",
       "        <td>FD21</td>\n",
       "        <td>Stand Mixer</td>\n",
       "        <td>22</td>\n",
       "        <td>HW</td>\n",
       "        <td>3</td>\n",
       "        <td>159.95</td>\n",
       "    </tr>\n",
       "    <tr>\n",
       "        <td>KL62</td>\n",
       "        <td>Dryer</td>\n",
       "        <td>12</td>\n",
       "        <td>AP</td>\n",
       "        <td>1</td>\n",
       "        <td>349.95</td>\n",
       "    </tr>\n",
       "    <tr>\n",
       "        <td>KT03</td>\n",
       "        <td>Dishwasher</td>\n",
       "        <td>8</td>\n",
       "        <td>AP</td>\n",
       "        <td>3</td>\n",
       "        <td>595</td>\n",
       "    </tr>\n",
       "    <tr>\n",
       "        <td>KV29</td>\n",
       "        <td>Treadmill</td>\n",
       "        <td>9</td>\n",
       "        <td>SG</td>\n",
       "        <td>2</td>\n",
       "        <td>1390</td>\n",
       "    </tr>\n",
       "</table>"
      ],
      "text/plain": [
       "[('AT94', 'Iron', 50, 'HW', '3', 24.95),\n",
       " ('BV06', 'Home Gym', 45, 'SG', '2', 794.95),\n",
       " ('CD52', 'Microwave\\nOven', 32, 'AP', '1', 165),\n",
       " ('DL71', 'Cordless\\nDrill', 21, 'HW', '3', 129.95),\n",
       " ('DR93', 'Gas Range', 8, 'AP', '2', 495),\n",
       " ('DW11', 'Washer', 12, 'AP', '3', 399.99),\n",
       " ('FD21', 'Stand Mixer', 22, 'HW', '3', 159.95),\n",
       " ('KL62', 'Dryer', 12, 'AP', '1', 349.95),\n",
       " ('KT03', 'Dishwasher', 8, 'AP', '3', 595),\n",
       " ('KV29', 'Treadmill', 9, 'SG', '2', 1390)]"
      ]
     },
     "execution_count": 27,
     "metadata": {},
     "output_type": "execute_result"
    }
   ],
   "source": [
    "%sql SELECT * FROM PART"
   ]
  },
  {
   "cell_type": "code",
   "execution_count": 28,
   "id": "68e24902",
   "metadata": {},
   "outputs": [
    {
     "name": "stdout",
     "output_type": "stream",
     "text": [
      " * sqlite://\n",
      "Done.\n"
     ]
    },
    {
     "data": {
      "text/plain": [
       "[]"
      ]
     },
     "execution_count": 28,
     "metadata": {},
     "output_type": "execute_result"
    }
   ],
   "source": [
    "%%sql\n",
    "CREATE TABLE ORDER_LINE\n",
    "(ORDER_NUM CHAR(5),\n",
    "PART_NUM CHAR(4),\n",
    "NUM_ORDERED DECIMAL(3,0),\n",
    "QUOTED_PRICE DECIMAL(6,2),\n",
    "PRIMARY KEY (ORDER_NUM, PART_NUM) );"
   ]
  },
  {
   "cell_type": "code",
   "execution_count": 29,
   "id": "13c477c4",
   "metadata": {},
   "outputs": [
    {
     "name": "stdout",
     "output_type": "stream",
     "text": [
      " * sqlite://\n",
      "9 rows affected.\n"
     ]
    },
    {
     "data": {
      "text/plain": [
       "[]"
      ]
     },
     "execution_count": 29,
     "metadata": {},
     "output_type": "execute_result"
    }
   ],
   "source": [
    "%%sql\n",
    "INSERT INTO ORDER_LINE VALUES\n",
    "('21608','AT94',11,21.95),\n",
    "('21610','DR93',1,495.00),\n",
    "('21610','DW11',1,399.99),\n",
    "('21613','KL62',4,329.95),\n",
    "('21614','KT03',2,595.00),\n",
    "('21617','BV06',2,794.95),\n",
    "('21617','CD52',4,150.00),\n",
    "('21619','DR93',1,495.00),\n",
    "('21623','KV29',2,1290.00);"
   ]
  },
  {
   "cell_type": "code",
   "execution_count": 30,
   "id": "85df383a",
   "metadata": {},
   "outputs": [
    {
     "name": "stdout",
     "output_type": "stream",
     "text": [
      " * sqlite://\n",
      "Done.\n"
     ]
    },
    {
     "data": {
      "text/html": [
       "<table>\n",
       "    <tr>\n",
       "        <th>ORDER_NUM</th>\n",
       "        <th>PART_NUM</th>\n",
       "        <th>NUM_ORDERED</th>\n",
       "        <th>QUOTED_PRICE</th>\n",
       "    </tr>\n",
       "    <tr>\n",
       "        <td>21608</td>\n",
       "        <td>AT94</td>\n",
       "        <td>11</td>\n",
       "        <td>21.95</td>\n",
       "    </tr>\n",
       "    <tr>\n",
       "        <td>21610</td>\n",
       "        <td>DR93</td>\n",
       "        <td>1</td>\n",
       "        <td>495</td>\n",
       "    </tr>\n",
       "    <tr>\n",
       "        <td>21610</td>\n",
       "        <td>DW11</td>\n",
       "        <td>1</td>\n",
       "        <td>399.99</td>\n",
       "    </tr>\n",
       "    <tr>\n",
       "        <td>21613</td>\n",
       "        <td>KL62</td>\n",
       "        <td>4</td>\n",
       "        <td>329.95</td>\n",
       "    </tr>\n",
       "    <tr>\n",
       "        <td>21614</td>\n",
       "        <td>KT03</td>\n",
       "        <td>2</td>\n",
       "        <td>595</td>\n",
       "    </tr>\n",
       "    <tr>\n",
       "        <td>21617</td>\n",
       "        <td>BV06</td>\n",
       "        <td>2</td>\n",
       "        <td>794.95</td>\n",
       "    </tr>\n",
       "    <tr>\n",
       "        <td>21617</td>\n",
       "        <td>CD52</td>\n",
       "        <td>4</td>\n",
       "        <td>150</td>\n",
       "    </tr>\n",
       "    <tr>\n",
       "        <td>21619</td>\n",
       "        <td>DR93</td>\n",
       "        <td>1</td>\n",
       "        <td>495</td>\n",
       "    </tr>\n",
       "    <tr>\n",
       "        <td>21623</td>\n",
       "        <td>KV29</td>\n",
       "        <td>2</td>\n",
       "        <td>1290</td>\n",
       "    </tr>\n",
       "</table>"
      ],
      "text/plain": [
       "[('21608', 'AT94', 11, 21.95),\n",
       " ('21610', 'DR93', 1, 495),\n",
       " ('21610', 'DW11', 1, 399.99),\n",
       " ('21613', 'KL62', 4, 329.95),\n",
       " ('21614', 'KT03', 2, 595),\n",
       " ('21617', 'BV06', 2, 794.95),\n",
       " ('21617', 'CD52', 4, 150),\n",
       " ('21619', 'DR93', 1, 495),\n",
       " ('21623', 'KV29', 2, 1290)]"
      ]
     },
     "execution_count": 30,
     "metadata": {},
     "output_type": "execute_result"
    }
   ],
   "source": [
    "%sql SELECT * FROM ORDER_LINE"
   ]
  },
  {
   "cell_type": "markdown",
   "id": "c0a346a1",
   "metadata": {},
   "source": [
    "#    "
   ]
  },
  {
   "cell_type": "markdown",
   "id": "5b2b9735",
   "metadata": {},
   "source": [
    "# 3. SQL FUNDAMENTALS LECTURE"
   ]
  },
  {
   "cell_type": "markdown",
   "id": "0bbd1292",
   "metadata": {},
   "source": [
    "# Retrieving Certain Columns and Rows"
   ]
  },
  {
   "cell_type": "code",
   "execution_count": 31,
   "id": "78b89f6e",
   "metadata": {},
   "outputs": [
    {
     "name": "stdout",
     "output_type": "stream",
     "text": [
      " * sqlite://\n",
      "Done.\n"
     ]
    },
    {
     "data": {
      "text/html": [
       "<table>\n",
       "    <tr>\n",
       "        <th>CUSTOMER_NUM</th>\n",
       "        <th>CUSTOMER_NAME</th>\n",
       "        <th>BALANCE</th>\n",
       "    </tr>\n",
       "    <tr>\n",
       "        <td>148</td>\n",
       "        <td>Al&#x27;s Appliance and Sport</td>\n",
       "        <td>6550</td>\n",
       "    </tr>\n",
       "    <tr>\n",
       "        <td>282</td>\n",
       "        <td>Brookings Direct</td>\n",
       "        <td>431.5</td>\n",
       "    </tr>\n",
       "    <tr>\n",
       "        <td>356</td>\n",
       "        <td>Ferguson&#x27;s</td>\n",
       "        <td>5785</td>\n",
       "    </tr>\n",
       "    <tr>\n",
       "        <td>408</td>\n",
       "        <td>The Everything Shop</td>\n",
       "        <td>5285.25</td>\n",
       "    </tr>\n",
       "    <tr>\n",
       "        <td>462</td>\n",
       "        <td>Bargains Galore</td>\n",
       "        <td>3412</td>\n",
       "    </tr>\n",
       "    <tr>\n",
       "        <td>524</td>\n",
       "        <td>Kline&#x27;s</td>\n",
       "        <td>12762</td>\n",
       "    </tr>\n",
       "    <tr>\n",
       "        <td>608</td>\n",
       "        <td>Johnson&#x27;s Department Store</td>\n",
       "        <td>2106</td>\n",
       "    </tr>\n",
       "    <tr>\n",
       "        <td>687</td>\n",
       "        <td>Lee&#x27;s Sport and Appliance</td>\n",
       "        <td>2851</td>\n",
       "    </tr>\n",
       "    <tr>\n",
       "        <td>725</td>\n",
       "        <td>Deerfield&#x27;s Four Seasons</td>\n",
       "        <td>248</td>\n",
       "    </tr>\n",
       "    <tr>\n",
       "        <td>842</td>\n",
       "        <td>All Season</td>\n",
       "        <td>8221</td>\n",
       "    </tr>\n",
       "</table>"
      ],
      "text/plain": [
       "[('148', \"Al's Appliance and Sport\", 6550),\n",
       " ('282', 'Brookings Direct', 431.5),\n",
       " ('356', \"Ferguson's\", 5785),\n",
       " ('408', 'The Everything Shop', 5285.25),\n",
       " ('462', 'Bargains Galore', 3412),\n",
       " ('524', \"Kline's\", 12762),\n",
       " ('608', \"Johnson's Department Store\", 2106),\n",
       " ('687', \"Lee's Sport and Appliance\", 2851),\n",
       " ('725', \"Deerfield's Four Seasons\", 248),\n",
       " ('842', 'All Season', 8221)]"
      ]
     },
     "execution_count": 31,
     "metadata": {},
     "output_type": "execute_result"
    }
   ],
   "source": [
    "%sql SELECT CUSTOMER_NUM, CUSTOMER_NAME, BALANCE FROM CUSTOMER;"
   ]
  },
  {
   "cell_type": "markdown",
   "id": "8638127f",
   "metadata": {},
   "source": [
    "# Using a WHERE Clause"
   ]
  },
  {
   "cell_type": "code",
   "execution_count": 32,
   "id": "291cb8d9",
   "metadata": {},
   "outputs": [
    {
     "name": "stdout",
     "output_type": "stream",
     "text": [
      " * sqlite://\n",
      "Done.\n"
     ]
    },
    {
     "data": {
      "text/html": [
       "<table>\n",
       "    <tr>\n",
       "        <th>CUSTOMER_NAME</th>\n",
       "    </tr>\n",
       "    <tr>\n",
       "        <td>Al&#x27;s Appliance and Sport</td>\n",
       "    </tr>\n",
       "</table>"
      ],
      "text/plain": [
       "[(\"Al's Appliance and Sport\",)]"
      ]
     },
     "execution_count": 32,
     "metadata": {},
     "output_type": "execute_result"
    }
   ],
   "source": [
    "%%sql SELECT CUSTOMER_NAME\n",
    "FROM CUSTOMER\n",
    "WHERE CUSTOMER_NUM = '148';"
   ]
  },
  {
   "cell_type": "code",
   "execution_count": 33,
   "id": "1f651db6",
   "metadata": {},
   "outputs": [
    {
     "name": "stdout",
     "output_type": "stream",
     "text": [
      " * sqlite://\n",
      "Done.\n"
     ]
    },
    {
     "data": {
      "text/html": [
       "<table>\n",
       "    <tr>\n",
       "        <th>CUSTOMER_NUM</th>\n",
       "        <th>CUSTOMER_NAME</th>\n",
       "        <th>BALANCE</th>\n",
       "        <th>CREDIT_LIMIT</th>\n",
       "    </tr>\n",
       "    <tr>\n",
       "        <td>408</td>\n",
       "        <td>The Everything Shop</td>\n",
       "        <td>5285.25</td>\n",
       "        <td>5000</td>\n",
       "    </tr>\n",
       "    <tr>\n",
       "        <td>842</td>\n",
       "        <td>All Season</td>\n",
       "        <td>8221</td>\n",
       "        <td>7500</td>\n",
       "    </tr>\n",
       "</table>"
      ],
      "text/plain": [
       "[('408', 'The Everything Shop', 5285.25, 5000),\n",
       " ('842', 'All Season', 8221, 7500)]"
      ]
     },
     "execution_count": 33,
     "metadata": {},
     "output_type": "execute_result"
    }
   ],
   "source": [
    "%%sql\n",
    "SELECT customer_num, customer_name, balance, credit_limit\n",
    "FROM customer\n",
    "WHERE balance > credit_limit;"
   ]
  },
  {
   "cell_type": "code",
   "execution_count": 34,
   "id": "217100b4",
   "metadata": {},
   "outputs": [],
   "source": [
    "# %%sql\n",
    "# SELECT customer_num, customer_name, balance, credit_limit -> WHAT COLUMNS DO YOU WANT\n",
    "# FROM customer -> WHAT TABLE DO YOU WANT IT FROM\n",
    "# WHERE balance > credit_limit;"
   ]
  },
  {
   "cell_type": "markdown",
   "id": "0a013cb5",
   "metadata": {},
   "source": [
    "# Using Compound Conditions"
   ]
  },
  {
   "cell_type": "code",
   "execution_count": 35,
   "id": "571a4df5",
   "metadata": {},
   "outputs": [
    {
     "name": "stdout",
     "output_type": "stream",
     "text": [
      " * sqlite://\n",
      "Done.\n"
     ]
    },
    {
     "data": {
      "text/html": [
       "<table>\n",
       "    <tr>\n",
       "        <th>DESCRIPTION</th>\n",
       "    </tr>\n",
       "    <tr>\n",
       "        <td>Iron</td>\n",
       "    </tr>\n",
       "</table>"
      ],
      "text/plain": [
       "[('Iron',)]"
      ]
     },
     "execution_count": 35,
     "metadata": {},
     "output_type": "execute_result"
    }
   ],
   "source": [
    "%%sql SELECT description\n",
    "FROM part\n",
    "WHERE warehouse = '3'\n",
    "AND ON_HAND > 25;"
   ]
  },
  {
   "cell_type": "code",
   "execution_count": 36,
   "id": "6662577f",
   "metadata": {},
   "outputs": [
    {
     "name": "stdout",
     "output_type": "stream",
     "text": [
      " * sqlite://\n",
      "Done.\n"
     ]
    },
    {
     "data": {
      "text/html": [
       "<table>\n",
       "    <tr>\n",
       "        <th>DESCRIPTION</th>\n",
       "    </tr>\n",
       "    <tr>\n",
       "        <td>Home Gym</td>\n",
       "    </tr>\n",
       "    <tr>\n",
       "        <td>Microwave<br>Oven</td>\n",
       "    </tr>\n",
       "    <tr>\n",
       "        <td>Gas Range</td>\n",
       "    </tr>\n",
       "    <tr>\n",
       "        <td>Dryer</td>\n",
       "    </tr>\n",
       "    <tr>\n",
       "        <td>Treadmill</td>\n",
       "    </tr>\n",
       "</table>"
      ],
      "text/plain": [
       "[('Home Gym',),\n",
       " ('Microwave\\nOven',),\n",
       " ('Gas Range',),\n",
       " ('Dryer',),\n",
       " ('Treadmill',)]"
      ]
     },
     "execution_count": 36,
     "metadata": {},
     "output_type": "execute_result"
    }
   ],
   "source": [
    "%%sql SELECT description\n",
    "FROM part\n",
    "WHERE NOT warehouse = '3';"
   ]
  },
  {
   "cell_type": "markdown",
   "id": "e98785dd",
   "metadata": {},
   "source": [
    "# Using Between Operator"
   ]
  },
  {
   "cell_type": "code",
   "execution_count": 37,
   "id": "6007bcc8",
   "metadata": {},
   "outputs": [
    {
     "name": "stdout",
     "output_type": "stream",
     "text": [
      " * sqlite://\n",
      "Done.\n"
     ]
    },
    {
     "data": {
      "text/html": [
       "<table>\n",
       "    <tr>\n",
       "        <th>CUSTOMER_NUM</th>\n",
       "        <th>CUSTOMER_NAME</th>\n",
       "        <th>BALANCE</th>\n",
       "    </tr>\n",
       "    <tr>\n",
       "        <td>462</td>\n",
       "        <td>Bargains Galore</td>\n",
       "        <td>3412</td>\n",
       "    </tr>\n",
       "    <tr>\n",
       "        <td>608</td>\n",
       "        <td>Johnson&#x27;s Department Store</td>\n",
       "        <td>2106</td>\n",
       "    </tr>\n",
       "    <tr>\n",
       "        <td>687</td>\n",
       "        <td>Lee&#x27;s Sport and Appliance</td>\n",
       "        <td>2851</td>\n",
       "    </tr>\n",
       "</table>"
      ],
      "text/plain": [
       "[('462', 'Bargains Galore', 3412),\n",
       " ('608', \"Johnson's Department Store\", 2106),\n",
       " ('687', \"Lee's Sport and Appliance\", 2851)]"
      ]
     },
     "execution_count": 37,
     "metadata": {},
     "output_type": "execute_result"
    }
   ],
   "source": [
    "%%sql SELECT customer_num, customer_name, balance\n",
    "FROM customer\n",
    "WHERE balance BETWEEN 2000 AND 5000;"
   ]
  },
  {
   "cell_type": "markdown",
   "id": "3dcb0271",
   "metadata": {},
   "source": [
    "# Using Computed Columns"
   ]
  },
  {
   "cell_type": "code",
   "execution_count": 38,
   "id": "49490805",
   "metadata": {},
   "outputs": [
    {
     "name": "stdout",
     "output_type": "stream",
     "text": [
      " * sqlite://\n",
      "Done.\n"
     ]
    },
    {
     "data": {
      "text/html": [
       "<table>\n",
       "    <tr>\n",
       "        <th>CUSTOMER_NUM</th>\n",
       "        <th>CUSTOMER_NAME</th>\n",
       "        <th>(credit_limit - balance)</th>\n",
       "    </tr>\n",
       "    <tr>\n",
       "        <td>148</td>\n",
       "        <td>Al&#x27;s Appliance and Sport</td>\n",
       "        <td>950</td>\n",
       "    </tr>\n",
       "    <tr>\n",
       "        <td>282</td>\n",
       "        <td>Brookings Direct</td>\n",
       "        <td>9568.5</td>\n",
       "    </tr>\n",
       "    <tr>\n",
       "        <td>356</td>\n",
       "        <td>Ferguson&#x27;s</td>\n",
       "        <td>1715</td>\n",
       "    </tr>\n",
       "    <tr>\n",
       "        <td>408</td>\n",
       "        <td>The Everything Shop</td>\n",
       "        <td>-285.25</td>\n",
       "    </tr>\n",
       "    <tr>\n",
       "        <td>462</td>\n",
       "        <td>Bargains Galore</td>\n",
       "        <td>6588</td>\n",
       "    </tr>\n",
       "    <tr>\n",
       "        <td>524</td>\n",
       "        <td>Kline&#x27;s</td>\n",
       "        <td>2238</td>\n",
       "    </tr>\n",
       "    <tr>\n",
       "        <td>608</td>\n",
       "        <td>Johnson&#x27;s Department Store</td>\n",
       "        <td>7894</td>\n",
       "    </tr>\n",
       "    <tr>\n",
       "        <td>687</td>\n",
       "        <td>Lee&#x27;s Sport and Appliance</td>\n",
       "        <td>2149</td>\n",
       "    </tr>\n",
       "    <tr>\n",
       "        <td>725</td>\n",
       "        <td>Deerfield&#x27;s Four Seasons</td>\n",
       "        <td>7252</td>\n",
       "    </tr>\n",
       "    <tr>\n",
       "        <td>842</td>\n",
       "        <td>All Season</td>\n",
       "        <td>-721</td>\n",
       "    </tr>\n",
       "</table>"
      ],
      "text/plain": [
       "[('148', \"Al's Appliance and Sport\", 950),\n",
       " ('282', 'Brookings Direct', 9568.5),\n",
       " ('356', \"Ferguson's\", 1715),\n",
       " ('408', 'The Everything Shop', -285.25),\n",
       " ('462', 'Bargains Galore', 6588),\n",
       " ('524', \"Kline's\", 2238),\n",
       " ('608', \"Johnson's Department Store\", 7894),\n",
       " ('687', \"Lee's Sport and Appliance\", 2149),\n",
       " ('725', \"Deerfield's Four Seasons\", 7252),\n",
       " ('842', 'All Season', -721)]"
      ]
     },
     "execution_count": 38,
     "metadata": {},
     "output_type": "execute_result"
    }
   ],
   "source": [
    "%%sql SELECT customer_num, customer_name, (credit_limit - balance)\n",
    "FROM customer;"
   ]
  },
  {
   "cell_type": "code",
   "execution_count": 39,
   "id": "4c045eaa",
   "metadata": {},
   "outputs": [
    {
     "name": "stdout",
     "output_type": "stream",
     "text": [
      " * sqlite://\n",
      "Done.\n"
     ]
    },
    {
     "data": {
      "text/html": [
       "<table>\n",
       "    <tr>\n",
       "        <th>CUSTOMER_NUM</th>\n",
       "        <th>CUSTOMER_NAME</th>\n",
       "        <th>available_credit</th>\n",
       "    </tr>\n",
       "    <tr>\n",
       "        <td>148</td>\n",
       "        <td>Al&#x27;s Appliance and Sport</td>\n",
       "        <td>950</td>\n",
       "    </tr>\n",
       "    <tr>\n",
       "        <td>282</td>\n",
       "        <td>Brookings Direct</td>\n",
       "        <td>9568.5</td>\n",
       "    </tr>\n",
       "    <tr>\n",
       "        <td>356</td>\n",
       "        <td>Ferguson&#x27;s</td>\n",
       "        <td>1715</td>\n",
       "    </tr>\n",
       "    <tr>\n",
       "        <td>408</td>\n",
       "        <td>The Everything Shop</td>\n",
       "        <td>-285.25</td>\n",
       "    </tr>\n",
       "    <tr>\n",
       "        <td>462</td>\n",
       "        <td>Bargains Galore</td>\n",
       "        <td>6588</td>\n",
       "    </tr>\n",
       "    <tr>\n",
       "        <td>524</td>\n",
       "        <td>Kline&#x27;s</td>\n",
       "        <td>2238</td>\n",
       "    </tr>\n",
       "    <tr>\n",
       "        <td>608</td>\n",
       "        <td>Johnson&#x27;s Department Store</td>\n",
       "        <td>7894</td>\n",
       "    </tr>\n",
       "    <tr>\n",
       "        <td>687</td>\n",
       "        <td>Lee&#x27;s Sport and Appliance</td>\n",
       "        <td>2149</td>\n",
       "    </tr>\n",
       "    <tr>\n",
       "        <td>725</td>\n",
       "        <td>Deerfield&#x27;s Four Seasons</td>\n",
       "        <td>7252</td>\n",
       "    </tr>\n",
       "    <tr>\n",
       "        <td>842</td>\n",
       "        <td>All Season</td>\n",
       "        <td>-721</td>\n",
       "    </tr>\n",
       "</table>"
      ],
      "text/plain": [
       "[('148', \"Al's Appliance and Sport\", 950),\n",
       " ('282', 'Brookings Direct', 9568.5),\n",
       " ('356', \"Ferguson's\", 1715),\n",
       " ('408', 'The Everything Shop', -285.25),\n",
       " ('462', 'Bargains Galore', 6588),\n",
       " ('524', \"Kline's\", 2238),\n",
       " ('608', \"Johnson's Department Store\", 7894),\n",
       " ('687', \"Lee's Sport and Appliance\", 2149),\n",
       " ('725', \"Deerfield's Four Seasons\", 7252),\n",
       " ('842', 'All Season', -721)]"
      ]
     },
     "execution_count": 39,
     "metadata": {},
     "output_type": "execute_result"
    }
   ],
   "source": [
    "%%sql SELECT customer_num, customer_name, (credit_limit - balance) AS available_credit\n",
    "FROM customer;"
   ]
  },
  {
   "cell_type": "markdown",
   "id": "da4a75af",
   "metadata": {},
   "source": [
    "# Using the LIKE operator"
   ]
  },
  {
   "cell_type": "code",
   "execution_count": 40,
   "id": "6c97c72f",
   "metadata": {},
   "outputs": [
    {
     "name": "stdout",
     "output_type": "stream",
     "text": [
      " * sqlite://\n",
      "Done.\n"
     ]
    },
    {
     "data": {
      "text/html": [
       "<table>\n",
       "    <tr>\n",
       "        <th>CUSTOMER_NUM</th>\n",
       "        <th>CUSTOMER_NAME</th>\n",
       "        <th>STREET</th>\n",
       "        <th>CITY</th>\n",
       "        <th>STATE</th>\n",
       "        <th>ZIP</th>\n",
       "    </tr>\n",
       "    <tr>\n",
       "        <td>462</td>\n",
       "        <td>Bargains Galore</td>\n",
       "        <td>3829<br>Central</td>\n",
       "        <td>Grove</td>\n",
       "        <td>FL</td>\n",
       "        <td>33321</td>\n",
       "    </tr>\n",
       "</table>"
      ],
      "text/plain": [
       "[('462', 'Bargains Galore', '3829\\nCentral', 'Grove', 'FL', '33321')]"
      ]
     },
     "execution_count": 40,
     "metadata": {},
     "output_type": "execute_result"
    }
   ],
   "source": [
    "%%sql SELECT customer_num, customer_name, street, city, state, ZIP\n",
    "FROM customer\n",
    "WHERE street LIKE '%Central%';"
   ]
  },
  {
   "cell_type": "markdown",
   "id": "da8a37da",
   "metadata": {},
   "source": [
    "# Using the IN Operator"
   ]
  },
  {
   "cell_type": "code",
   "execution_count": 41,
   "id": "c77032ba",
   "metadata": {},
   "outputs": [
    {
     "name": "stdout",
     "output_type": "stream",
     "text": [
      " * sqlite://\n",
      "Done.\n"
     ]
    },
    {
     "data": {
      "text/html": [
       "<table>\n",
       "    <tr>\n",
       "        <th>CUSTOMER_NUM</th>\n",
       "        <th>CUSTOMER_NAME</th>\n",
       "        <th>CREDIT_LIMIT</th>\n",
       "    </tr>\n",
       "    <tr>\n",
       "        <td>282</td>\n",
       "        <td>Brookings Direct</td>\n",
       "        <td>10000</td>\n",
       "    </tr>\n",
       "    <tr>\n",
       "        <td>408</td>\n",
       "        <td>The Everything Shop</td>\n",
       "        <td>5000</td>\n",
       "    </tr>\n",
       "    <tr>\n",
       "        <td>462</td>\n",
       "        <td>Bargains Galore</td>\n",
       "        <td>10000</td>\n",
       "    </tr>\n",
       "    <tr>\n",
       "        <td>524</td>\n",
       "        <td>Kline&#x27;s</td>\n",
       "        <td>15000</td>\n",
       "    </tr>\n",
       "    <tr>\n",
       "        <td>608</td>\n",
       "        <td>Johnson&#x27;s Department Store</td>\n",
       "        <td>10000</td>\n",
       "    </tr>\n",
       "    <tr>\n",
       "        <td>687</td>\n",
       "        <td>Lee&#x27;s Sport and Appliance</td>\n",
       "        <td>5000</td>\n",
       "    </tr>\n",
       "</table>"
      ],
      "text/plain": [
       "[('282', 'Brookings Direct', 10000),\n",
       " ('408', 'The Everything Shop', 5000),\n",
       " ('462', 'Bargains Galore', 10000),\n",
       " ('524', \"Kline's\", 15000),\n",
       " ('608', \"Johnson's Department Store\", 10000),\n",
       " ('687', \"Lee's Sport and Appliance\", 5000)]"
      ]
     },
     "execution_count": 41,
     "metadata": {},
     "output_type": "execute_result"
    }
   ],
   "source": [
    "%%sql SELECT customer_num, customer_name, credit_limit\n",
    "FROM customer\n",
    "WHERE CREDIT_LIMIT IN (5000, 10000, 15000);"
   ]
  },
  {
   "cell_type": "markdown",
   "id": "9450ff93",
   "metadata": {},
   "source": [
    "# Sorting"
   ]
  },
  {
   "cell_type": "code",
   "execution_count": 42,
   "id": "0c91fec7",
   "metadata": {},
   "outputs": [
    {
     "name": "stdout",
     "output_type": "stream",
     "text": [
      " * sqlite://\n",
      "Done.\n"
     ]
    },
    {
     "data": {
      "text/html": [
       "<table>\n",
       "    <tr>\n",
       "        <th>CUSTOMER_NUM</th>\n",
       "        <th>CUSTOMER_NAME</th>\n",
       "        <th>CREDIT_LIMIT</th>\n",
       "    </tr>\n",
       "    <tr>\n",
       "        <td>524</td>\n",
       "        <td>Kline&#x27;s</td>\n",
       "        <td>15000</td>\n",
       "    </tr>\n",
       "    <tr>\n",
       "        <td>462</td>\n",
       "        <td>Bargains Galore</td>\n",
       "        <td>10000</td>\n",
       "    </tr>\n",
       "    <tr>\n",
       "        <td>282</td>\n",
       "        <td>Brookings Direct</td>\n",
       "        <td>10000</td>\n",
       "    </tr>\n",
       "    <tr>\n",
       "        <td>608</td>\n",
       "        <td>Johnson&#x27;s Department Store</td>\n",
       "        <td>10000</td>\n",
       "    </tr>\n",
       "    <tr>\n",
       "        <td>148</td>\n",
       "        <td>Al&#x27;s Appliance and Sport</td>\n",
       "        <td>7500</td>\n",
       "    </tr>\n",
       "    <tr>\n",
       "        <td>842</td>\n",
       "        <td>All Season</td>\n",
       "        <td>7500</td>\n",
       "    </tr>\n",
       "    <tr>\n",
       "        <td>725</td>\n",
       "        <td>Deerfield&#x27;s Four Seasons</td>\n",
       "        <td>7500</td>\n",
       "    </tr>\n",
       "    <tr>\n",
       "        <td>356</td>\n",
       "        <td>Ferguson&#x27;s</td>\n",
       "        <td>7500</td>\n",
       "    </tr>\n",
       "    <tr>\n",
       "        <td>687</td>\n",
       "        <td>Lee&#x27;s Sport and Appliance</td>\n",
       "        <td>5000</td>\n",
       "    </tr>\n",
       "    <tr>\n",
       "        <td>408</td>\n",
       "        <td>The Everything Shop</td>\n",
       "        <td>5000</td>\n",
       "    </tr>\n",
       "</table>"
      ],
      "text/plain": [
       "[('524', \"Kline's\", 15000),\n",
       " ('462', 'Bargains Galore', 10000),\n",
       " ('282', 'Brookings Direct', 10000),\n",
       " ('608', \"Johnson's Department Store\", 10000),\n",
       " ('148', \"Al's Appliance and Sport\", 7500),\n",
       " ('842', 'All Season', 7500),\n",
       " ('725', \"Deerfield's Four Seasons\", 7500),\n",
       " ('356', \"Ferguson's\", 7500),\n",
       " ('687', \"Lee's Sport and Appliance\", 5000),\n",
       " ('408', 'The Everything Shop', 5000)]"
      ]
     },
     "execution_count": 42,
     "metadata": {},
     "output_type": "execute_result"
    }
   ],
   "source": [
    "%%sql SELECT customer_num, customer_name, credit_limit\n",
    "FROM customer\n",
    "ORDER BY credit_limit DESC, customer_name;"
   ]
  },
  {
   "cell_type": "markdown",
   "id": "23e28694",
   "metadata": {},
   "source": [
    "# Using Functions"
   ]
  },
  {
   "cell_type": "code",
   "execution_count": 43,
   "id": "4250414a",
   "metadata": {},
   "outputs": [],
   "source": [
    "# Aggregate Functions apply to groups of rows"
   ]
  },
  {
   "cell_type": "code",
   "execution_count": 44,
   "id": "86c7560d",
   "metadata": {},
   "outputs": [],
   "source": [
    "# Count"
   ]
  },
  {
   "cell_type": "code",
   "execution_count": 45,
   "id": "1d89a2b4",
   "metadata": {},
   "outputs": [
    {
     "name": "stdout",
     "output_type": "stream",
     "text": [
      " * sqlite://\n",
      "Done.\n"
     ]
    },
    {
     "data": {
      "text/html": [
       "<table>\n",
       "    <tr>\n",
       "        <th>COUNT(*)</th>\n",
       "    </tr>\n",
       "    <tr>\n",
       "        <td>3</td>\n",
       "    </tr>\n",
       "</table>"
      ],
      "text/plain": [
       "[(3,)]"
      ]
     },
     "execution_count": 45,
     "metadata": {},
     "output_type": "execute_result"
    }
   ],
   "source": [
    "%%sql SELECT COUNT(*)\n",
    "FROM part\n",
    "WHERE class = 'HW';"
   ]
  },
  {
   "cell_type": "code",
   "execution_count": 46,
   "id": "d02194ee",
   "metadata": {},
   "outputs": [],
   "source": [
    "# Sum, Avg, Max, Min"
   ]
  },
  {
   "cell_type": "code",
   "execution_count": 47,
   "id": "bb4e1aaa",
   "metadata": {
    "scrolled": false
   },
   "outputs": [
    {
     "name": "stdout",
     "output_type": "stream",
     "text": [
      " * sqlite://\n",
      "Done.\n"
     ]
    },
    {
     "data": {
      "text/html": [
       "<table>\n",
       "    <tr>\n",
       "        <th>SUM(balance)</th>\n",
       "        <th>AVG(balance)</th>\n",
       "        <th>MAX(balance)</th>\n",
       "        <th>MIN(balance)</th>\n",
       "    </tr>\n",
       "    <tr>\n",
       "        <td>47651.75</td>\n",
       "        <td>4765.175</td>\n",
       "        <td>12762</td>\n",
       "        <td>248</td>\n",
       "    </tr>\n",
       "</table>"
      ],
      "text/plain": [
       "[(47651.75, 4765.175, 12762, 248)]"
      ]
     },
     "execution_count": 47,
     "metadata": {},
     "output_type": "execute_result"
    }
   ],
   "source": [
    "%%sql SELECT SUM(balance), AVG(balance), MAX(balance), MIN(balance)\n",
    "FROM customer;"
   ]
  },
  {
   "cell_type": "markdown",
   "id": "3438b3df",
   "metadata": {},
   "source": [
    "# Using the DISTINCT operator"
   ]
  },
  {
   "cell_type": "code",
   "execution_count": 48,
   "id": "7830deb7",
   "metadata": {},
   "outputs": [
    {
     "name": "stdout",
     "output_type": "stream",
     "text": [
      " * sqlite://\n",
      "Done.\n"
     ]
    },
    {
     "data": {
      "text/html": [
       "<table>\n",
       "    <tr>\n",
       "        <th>CUSTOMER_NUM</th>\n",
       "    </tr>\n",
       "    <tr>\n",
       "        <td>148</td>\n",
       "    </tr>\n",
       "    <tr>\n",
       "        <td>356</td>\n",
       "    </tr>\n",
       "    <tr>\n",
       "        <td>408</td>\n",
       "    </tr>\n",
       "    <tr>\n",
       "        <td>282</td>\n",
       "    </tr>\n",
       "    <tr>\n",
       "        <td>608</td>\n",
       "    </tr>\n",
       "    <tr>\n",
       "        <td>148</td>\n",
       "    </tr>\n",
       "    <tr>\n",
       "        <td>608</td>\n",
       "    </tr>\n",
       "</table>"
      ],
      "text/plain": [
       "[('148',), ('356',), ('408',), ('282',), ('608',), ('148',), ('608',)]"
      ]
     },
     "execution_count": 48,
     "metadata": {},
     "output_type": "execute_result"
    }
   ],
   "source": [
    "%sql SELECT customer_num FROM orders;"
   ]
  },
  {
   "cell_type": "code",
   "execution_count": 49,
   "id": "ff9cc738",
   "metadata": {},
   "outputs": [
    {
     "name": "stdout",
     "output_type": "stream",
     "text": [
      " * sqlite://\n",
      "Done.\n"
     ]
    },
    {
     "data": {
      "text/html": [
       "<table>\n",
       "    <tr>\n",
       "        <th>CUSTOMER_NUM</th>\n",
       "    </tr>\n",
       "    <tr>\n",
       "        <td>148</td>\n",
       "    </tr>\n",
       "    <tr>\n",
       "        <td>356</td>\n",
       "    </tr>\n",
       "    <tr>\n",
       "        <td>408</td>\n",
       "    </tr>\n",
       "    <tr>\n",
       "        <td>282</td>\n",
       "    </tr>\n",
       "    <tr>\n",
       "        <td>608</td>\n",
       "    </tr>\n",
       "</table>"
      ],
      "text/plain": [
       "[('148',), ('356',), ('408',), ('282',), ('608',)]"
      ]
     },
     "execution_count": 49,
     "metadata": {},
     "output_type": "execute_result"
    }
   ],
   "source": [
    "%sql SELECT DISTINCT(customer_num) FROM orders;"
   ]
  },
  {
   "cell_type": "markdown",
   "id": "e8048640",
   "metadata": {},
   "source": [
    "# Nesting Queries"
   ]
  },
  {
   "cell_type": "code",
   "execution_count": 50,
   "id": "e6c90fe9",
   "metadata": {},
   "outputs": [
    {
     "name": "stdout",
     "output_type": "stream",
     "text": [
      " * sqlite://\n",
      "Done.\n"
     ]
    },
    {
     "data": {
      "text/html": [
       "<table>\n",
       "    <tr>\n",
       "        <th>PART_NUM</th>\n",
       "    </tr>\n",
       "    <tr>\n",
       "        <td>CD52</td>\n",
       "    </tr>\n",
       "    <tr>\n",
       "        <td>DR93</td>\n",
       "    </tr>\n",
       "    <tr>\n",
       "        <td>DW11</td>\n",
       "    </tr>\n",
       "    <tr>\n",
       "        <td>KL62</td>\n",
       "    </tr>\n",
       "    <tr>\n",
       "        <td>KT03</td>\n",
       "    </tr>\n",
       "</table>"
      ],
      "text/plain": [
       "[('CD52',), ('DR93',), ('DW11',), ('KL62',), ('KT03',)]"
      ]
     },
     "execution_count": 50,
     "metadata": {},
     "output_type": "execute_result"
    }
   ],
   "source": [
    "%%sql\n",
    "SELECT part_num\n",
    "FROM part\n",
    "WHERE CLASS = 'AP';"
   ]
  },
  {
   "cell_type": "code",
   "execution_count": 51,
   "id": "f82155c7",
   "metadata": {},
   "outputs": [
    {
     "name": "stdout",
     "output_type": "stream",
     "text": [
      " * sqlite://\n",
      "Done.\n"
     ]
    },
    {
     "data": {
      "text/html": [
       "<table>\n",
       "    <tr>\n",
       "        <th>ORDER_NUM</th>\n",
       "    </tr>\n",
       "    <tr>\n",
       "        <td>21610</td>\n",
       "    </tr>\n",
       "    <tr>\n",
       "        <td>21610</td>\n",
       "    </tr>\n",
       "    <tr>\n",
       "        <td>21613</td>\n",
       "    </tr>\n",
       "    <tr>\n",
       "        <td>21614</td>\n",
       "    </tr>\n",
       "    <tr>\n",
       "        <td>21617</td>\n",
       "    </tr>\n",
       "    <tr>\n",
       "        <td>21619</td>\n",
       "    </tr>\n",
       "</table>"
      ],
      "text/plain": [
       "[('21610',), ('21610',), ('21613',), ('21614',), ('21617',), ('21619',)]"
      ]
     },
     "execution_count": 51,
     "metadata": {},
     "output_type": "execute_result"
    }
   ],
   "source": [
    "%%sql\n",
    "SELECT ORDER_NUM \n",
    "FROM order_line\n",
    "WHERE part_num IN\n",
    "(SELECT part_num\n",
    "FROM part\n",
    "WHERE CLASS = 'AP');"
   ]
  },
  {
   "cell_type": "code",
   "execution_count": 52,
   "id": "81bf956e",
   "metadata": {},
   "outputs": [
    {
     "name": "stdout",
     "output_type": "stream",
     "text": [
      " * sqlite://\n",
      "Done.\n"
     ]
    },
    {
     "data": {
      "text/html": [
       "<table>\n",
       "    <tr>\n",
       "        <th>CUSTOMER_NUM</th>\n",
       "        <th>CUSTOMER_NAME</th>\n",
       "        <th>BALANCE</th>\n",
       "    </tr>\n",
       "    <tr>\n",
       "        <td>148</td>\n",
       "        <td>Al&#x27;s Appliance and Sport</td>\n",
       "        <td>6550</td>\n",
       "    </tr>\n",
       "    <tr>\n",
       "        <td>356</td>\n",
       "        <td>Ferguson&#x27;s</td>\n",
       "        <td>5785</td>\n",
       "    </tr>\n",
       "    <tr>\n",
       "        <td>408</td>\n",
       "        <td>The Everything Shop</td>\n",
       "        <td>5285.25</td>\n",
       "    </tr>\n",
       "    <tr>\n",
       "        <td>524</td>\n",
       "        <td>Kline&#x27;s</td>\n",
       "        <td>12762</td>\n",
       "    </tr>\n",
       "    <tr>\n",
       "        <td>842</td>\n",
       "        <td>All Season</td>\n",
       "        <td>8221</td>\n",
       "    </tr>\n",
       "</table>"
      ],
      "text/plain": [
       "[('148', \"Al's Appliance and Sport\", 6550),\n",
       " ('356', \"Ferguson's\", 5785),\n",
       " ('408', 'The Everything Shop', 5285.25),\n",
       " ('524', \"Kline's\", 12762),\n",
       " ('842', 'All Season', 8221)]"
      ]
     },
     "execution_count": 52,
     "metadata": {},
     "output_type": "execute_result"
    }
   ],
   "source": [
    "%%sql\n",
    "SELECT customer_num, customer_name, balance\n",
    "FROM customer\n",
    "WHERE balance >\n",
    "(SELECT AVG(balance)\n",
    " FROM customer);"
   ]
  },
  {
   "cell_type": "markdown",
   "id": "819f5837",
   "metadata": {},
   "source": [
    "# Grouping"
   ]
  },
  {
   "cell_type": "code",
   "execution_count": 53,
   "id": "f60b486d",
   "metadata": {},
   "outputs": [
    {
     "name": "stdout",
     "output_type": "stream",
     "text": [
      " * sqlite://\n",
      "Done.\n"
     ]
    },
    {
     "data": {
      "text/html": [
       "<table>\n",
       "    <tr>\n",
       "        <th>REP_NUM</th>\n",
       "        <th>AVG(balance)</th>\n",
       "    </tr>\n",
       "    <tr>\n",
       "        <td>20</td>\n",
       "        <td>9177.666666666666</td>\n",
       "    </tr>\n",
       "    <tr>\n",
       "        <td>35</td>\n",
       "        <td>2203.9375</td>\n",
       "    </tr>\n",
       "    <tr>\n",
       "        <td>65</td>\n",
       "        <td>3767.6666666666665</td>\n",
       "    </tr>\n",
       "</table>"
      ],
      "text/plain": [
       "[('20', 9177.666666666666), ('35', 2203.9375), ('65', 3767.6666666666665)]"
      ]
     },
     "execution_count": 53,
     "metadata": {},
     "output_type": "execute_result"
    }
   ],
   "source": [
    "%%sql\n",
    "SELECT rep_num, AVG(balance)\n",
    "FROM customer\n",
    "GROUP BY rep_num\n",
    "ORDER BY rep_num;"
   ]
  },
  {
   "cell_type": "markdown",
   "id": "39b87faf",
   "metadata": {},
   "source": [
    "# Using a HAVING Clause"
   ]
  },
  {
   "cell_type": "code",
   "execution_count": 54,
   "id": "e1159265",
   "metadata": {
    "scrolled": true
   },
   "outputs": [
    {
     "name": "stdout",
     "output_type": "stream",
     "text": [
      " * sqlite://\n",
      "Done.\n"
     ]
    },
    {
     "data": {
      "text/html": [
       "<table>\n",
       "    <tr>\n",
       "        <th>REP_NUM</th>\n",
       "        <th>AVG(balance)</th>\n",
       "    </tr>\n",
       "    <tr>\n",
       "        <td>20</td>\n",
       "        <td>9177.666666666666</td>\n",
       "    </tr>\n",
       "    <tr>\n",
       "        <td>65</td>\n",
       "        <td>3767.6666666666665</td>\n",
       "    </tr>\n",
       "</table>"
      ],
      "text/plain": [
       "[('20', 9177.666666666666), ('65', 3767.6666666666665)]"
      ]
     },
     "execution_count": 54,
     "metadata": {},
     "output_type": "execute_result"
    }
   ],
   "source": [
    "%%sql\n",
    "SELECT rep_num, AVG(balance)\n",
    "FROM customer\n",
    "GROUP BY rep_num\n",
    "HAVING COUNT(*) < 4\n",
    "ORDER BY REP_NUM;"
   ]
  },
  {
   "cell_type": "code",
   "execution_count": 55,
   "id": "6a01d147",
   "metadata": {},
   "outputs": [
    {
     "name": "stdout",
     "output_type": "stream",
     "text": [
      " * sqlite://\n",
      "Done.\n"
     ]
    },
    {
     "data": {
      "text/html": [
       "<table>\n",
       "    <tr>\n",
       "        <th>CREDIT_LIMIT</th>\n",
       "        <th>COUNT(*)</th>\n",
       "    </tr>\n",
       "    <tr>\n",
       "        <td>7500</td>\n",
       "        <td>2</td>\n",
       "    </tr>\n",
       "</table>"
      ],
      "text/plain": [
       "[(7500, 2)]"
      ]
     },
     "execution_count": 55,
     "metadata": {},
     "output_type": "execute_result"
    }
   ],
   "source": [
    "%%sql\n",
    "SELECT CREDIT_LIMIT, COUNT(*)\n",
    "FROM CUSTOMER\n",
    "WHERE REP_NUM = '20'\n",
    "GROUP BY CREDIT_LIMIT\n",
    "HAVING COUNT(*) > 1\n",
    "ORDER BY CREDIT_LIMIT;\n"
   ]
  },
  {
   "cell_type": "markdown",
   "id": "05f2a373",
   "metadata": {},
   "source": [
    "# Nulls"
   ]
  },
  {
   "cell_type": "code",
   "execution_count": 56,
   "id": "6b58d4ae",
   "metadata": {
    "scrolled": true
   },
   "outputs": [
    {
     "name": "stdout",
     "output_type": "stream",
     "text": [
      " * sqlite://\n",
      "Done.\n"
     ]
    },
    {
     "data": {
      "text/html": [
       "<table>\n",
       "    <tr>\n",
       "        <th>CUSTOMER_NUM</th>\n",
       "        <th>CUSTOMER_NAME</th>\n",
       "    </tr>\n",
       "</table>"
      ],
      "text/plain": [
       "[]"
      ]
     },
     "execution_count": 56,
     "metadata": {},
     "output_type": "execute_result"
    }
   ],
   "source": [
    "%%sql\n",
    "SELECT customer_num, customer_name\n",
    "FROM customer\n",
    "WHERE street IS NULL"
   ]
  },
  {
   "cell_type": "markdown",
   "id": "9fb33ff4",
   "metadata": {},
   "source": [
    "#     "
   ]
  },
  {
   "cell_type": "markdown",
   "id": "c7befe12",
   "metadata": {},
   "source": [
    "# 4. SQL ADVANCED LECTURE"
   ]
  },
  {
   "cell_type": "markdown",
   "id": "8f029dc7",
   "metadata": {},
   "source": [
    "# Joining Two Tables"
   ]
  },
  {
   "cell_type": "code",
   "execution_count": 57,
   "id": "c1be153c",
   "metadata": {},
   "outputs": [
    {
     "name": "stdout",
     "output_type": "stream",
     "text": [
      " * sqlite://\n",
      "Done.\n"
     ]
    },
    {
     "data": {
      "text/html": [
       "<table>\n",
       "    <tr>\n",
       "        <th>CUSTOMER_NUM</th>\n",
       "        <th>CUSTOMER_NAME</th>\n",
       "        <th>REP_NUM</th>\n",
       "        <th>LAST_NAME</th>\n",
       "        <th>FIRST_NAME</th>\n",
       "    </tr>\n",
       "    <tr>\n",
       "        <td>148</td>\n",
       "        <td>Al&#x27;s Appliance and Sport</td>\n",
       "        <td>20</td>\n",
       "        <td>Kaiser</td>\n",
       "        <td>Valerie</td>\n",
       "    </tr>\n",
       "    <tr>\n",
       "        <td>356</td>\n",
       "        <td>Ferguson&#x27;s</td>\n",
       "        <td>65</td>\n",
       "        <td>Perez</td>\n",
       "        <td>Juan</td>\n",
       "    </tr>\n",
       "    <tr>\n",
       "        <td>725</td>\n",
       "        <td>Deerfield&#x27;s Four Seasons</td>\n",
       "        <td>35</td>\n",
       "        <td>Hull</td>\n",
       "        <td>Richard</td>\n",
       "    </tr>\n",
       "    <tr>\n",
       "        <td>842</td>\n",
       "        <td>All Season</td>\n",
       "        <td>20</td>\n",
       "        <td>Kaiser</td>\n",
       "        <td>Valerie</td>\n",
       "    </tr>\n",
       "</table>"
      ],
      "text/plain": [
       "[('148', \"Al's Appliance and Sport\", '20', 'Kaiser', 'Valerie'),\n",
       " ('356', \"Ferguson's\", '65', 'Perez', 'Juan'),\n",
       " ('725', \"Deerfield's Four Seasons\", '35', 'Hull', 'Richard'),\n",
       " ('842', 'All Season', '20', 'Kaiser', 'Valerie')]"
      ]
     },
     "execution_count": 57,
     "metadata": {},
     "output_type": "execute_result"
    }
   ],
   "source": [
    "%%sql\n",
    "\n",
    "SELECT CUSTOMER_NUM, CUSTOMER_NAME, REP.REP_NUM, LAST_NAME, FIRST_NAME\n",
    "FROM CUSTOMER, REP\n",
    "WHERE CUSTOMER.REP_NUM = REP.REP_NUM\n",
    "AND CREDIT_LIMIT = 7500;\n"
   ]
  },
  {
   "cell_type": "markdown",
   "id": "db99cb1f",
   "metadata": {},
   "source": [
    "##### REP.REP_NUM clarifies which table to pull that column from (both tables have this colum)"
   ]
  },
  {
   "cell_type": "code",
   "execution_count": 58,
   "id": "976170ea",
   "metadata": {},
   "outputs": [
    {
     "name": "stdout",
     "output_type": "stream",
     "text": [
      " * sqlite://\n",
      "Done.\n"
     ]
    },
    {
     "data": {
      "text/html": [
       "<table>\n",
       "    <tr>\n",
       "        <th>ORDER_NUM</th>\n",
       "        <th>PART_NUM</th>\n",
       "        <th>DESCRIPTION</th>\n",
       "        <th>NUM_ORDERED</th>\n",
       "        <th>QUOTED_PRICE</th>\n",
       "        <th>PRICE</th>\n",
       "    </tr>\n",
       "    <tr>\n",
       "        <td>21608</td>\n",
       "        <td>AT94</td>\n",
       "        <td>Iron</td>\n",
       "        <td>11</td>\n",
       "        <td>21.95</td>\n",
       "        <td>24.95</td>\n",
       "    </tr>\n",
       "    <tr>\n",
       "        <td>21610</td>\n",
       "        <td>DR93</td>\n",
       "        <td>Gas Range</td>\n",
       "        <td>1</td>\n",
       "        <td>495</td>\n",
       "        <td>495</td>\n",
       "    </tr>\n",
       "    <tr>\n",
       "        <td>21610</td>\n",
       "        <td>DW11</td>\n",
       "        <td>Washer</td>\n",
       "        <td>1</td>\n",
       "        <td>399.99</td>\n",
       "        <td>399.99</td>\n",
       "    </tr>\n",
       "    <tr>\n",
       "        <td>21613</td>\n",
       "        <td>KL62</td>\n",
       "        <td>Dryer</td>\n",
       "        <td>4</td>\n",
       "        <td>329.95</td>\n",
       "        <td>349.95</td>\n",
       "    </tr>\n",
       "    <tr>\n",
       "        <td>21614</td>\n",
       "        <td>KT03</td>\n",
       "        <td>Dishwasher</td>\n",
       "        <td>2</td>\n",
       "        <td>595</td>\n",
       "        <td>595</td>\n",
       "    </tr>\n",
       "    <tr>\n",
       "        <td>21617</td>\n",
       "        <td>BV06</td>\n",
       "        <td>Home Gym</td>\n",
       "        <td>2</td>\n",
       "        <td>794.95</td>\n",
       "        <td>794.95</td>\n",
       "    </tr>\n",
       "    <tr>\n",
       "        <td>21617</td>\n",
       "        <td>CD52</td>\n",
       "        <td>Microwave<br>Oven</td>\n",
       "        <td>4</td>\n",
       "        <td>150</td>\n",
       "        <td>165</td>\n",
       "    </tr>\n",
       "    <tr>\n",
       "        <td>21619</td>\n",
       "        <td>DR93</td>\n",
       "        <td>Gas Range</td>\n",
       "        <td>1</td>\n",
       "        <td>495</td>\n",
       "        <td>495</td>\n",
       "    </tr>\n",
       "    <tr>\n",
       "        <td>21623</td>\n",
       "        <td>KV29</td>\n",
       "        <td>Treadmill</td>\n",
       "        <td>2</td>\n",
       "        <td>1290</td>\n",
       "        <td>1390</td>\n",
       "    </tr>\n",
       "</table>"
      ],
      "text/plain": [
       "[('21608', 'AT94', 'Iron', 11, 21.95, 24.95),\n",
       " ('21610', 'DR93', 'Gas Range', 1, 495, 495),\n",
       " ('21610', 'DW11', 'Washer', 1, 399.99, 399.99),\n",
       " ('21613', 'KL62', 'Dryer', 4, 329.95, 349.95),\n",
       " ('21614', 'KT03', 'Dishwasher', 2, 595, 595),\n",
       " ('21617', 'BV06', 'Home Gym', 2, 794.95, 794.95),\n",
       " ('21617', 'CD52', 'Microwave\\nOven', 4, 150, 165),\n",
       " ('21619', 'DR93', 'Gas Range', 1, 495, 495),\n",
       " ('21623', 'KV29', 'Treadmill', 2, 1290, 1390)]"
      ]
     },
     "execution_count": 58,
     "metadata": {},
     "output_type": "execute_result"
    }
   ],
   "source": [
    "%%sql\n",
    "SELECT ORDER_NUM, ORDER_LINE.PART_NUM, DESCRIPTION, NUM_ORDERED, QUOTED_PRICE, PRICE\n",
    "FROM ORDER_LINE, PART\n",
    "WHERE ORDER_LINE.PART_NUM = PART.PART_NUM;"
   ]
  },
  {
   "cell_type": "markdown",
   "id": "17094dbb",
   "metadata": {},
   "source": [
    "# Comparing Joins, IN and Exists"
   ]
  },
  {
   "cell_type": "code",
   "execution_count": 59,
   "id": "204d7302",
   "metadata": {},
   "outputs": [
    {
     "name": "stdout",
     "output_type": "stream",
     "text": [
      " * sqlite://\n",
      "Done.\n"
     ]
    },
    {
     "data": {
      "text/html": [
       "<table>\n",
       "    <tr>\n",
       "        <th>DESCRIPTION</th>\n",
       "    </tr>\n",
       "    <tr>\n",
       "        <td>Gas Range</td>\n",
       "    </tr>\n",
       "    <tr>\n",
       "        <td>Washer</td>\n",
       "    </tr>\n",
       "</table>"
      ],
      "text/plain": [
       "[('Gas Range',), ('Washer',)]"
      ]
     },
     "execution_count": 59,
     "metadata": {},
     "output_type": "execute_result"
    }
   ],
   "source": [
    "%%sql\n",
    "SELECT description\n",
    "FROM order_line, part\n",
    "WHERE order_line.part_num = part.part_num\n",
    "AND order_num = '21610';"
   ]
  },
  {
   "cell_type": "code",
   "execution_count": 60,
   "id": "d125e6ea",
   "metadata": {},
   "outputs": [
    {
     "name": "stdout",
     "output_type": "stream",
     "text": [
      " * sqlite://\n",
      "Done.\n"
     ]
    },
    {
     "data": {
      "text/html": [
       "<table>\n",
       "    <tr>\n",
       "        <th>DESCRIPTION</th>\n",
       "    </tr>\n",
       "    <tr>\n",
       "        <td>Gas Range</td>\n",
       "    </tr>\n",
       "    <tr>\n",
       "        <td>Washer</td>\n",
       "    </tr>\n",
       "</table>"
      ],
      "text/plain": [
       "[('Gas Range',), ('Washer',)]"
      ]
     },
     "execution_count": 60,
     "metadata": {},
     "output_type": "execute_result"
    }
   ],
   "source": [
    "%%sql\n",
    "SELECT description\n",
    "FROM part\n",
    "WHERE part_num IN\n",
    "(SELECT part_num\n",
    "FROM order_line\n",
    "WHERE order_num = '21610');"
   ]
  },
  {
   "cell_type": "code",
   "execution_count": 61,
   "id": "db35a478",
   "metadata": {},
   "outputs": [
    {
     "name": "stdout",
     "output_type": "stream",
     "text": [
      " * sqlite://\n",
      "Done.\n"
     ]
    },
    {
     "data": {
      "text/html": [
       "<table>\n",
       "    <tr>\n",
       "        <th>ORDER_NUM</th>\n",
       "        <th>ORDER_DATE</th>\n",
       "    </tr>\n",
       "    <tr>\n",
       "        <td>21610</td>\n",
       "        <td>20<br>OCT 2010</td>\n",
       "    </tr>\n",
       "    <tr>\n",
       "        <td>21619</td>\n",
       "        <td>23<br>OCT 2010</td>\n",
       "    </tr>\n",
       "</table>"
      ],
      "text/plain": [
       "[('21610', '20\\nOCT 2010'), ('21619', '23\\nOCT 2010')]"
      ]
     },
     "execution_count": 61,
     "metadata": {},
     "output_type": "execute_result"
    }
   ],
   "source": [
    "%%sql\n",
    "SELECT order_num, order_date\n",
    "FROM orders\n",
    "WHERE exists\n",
    "(SELECT *\n",
    "FROM ORDER_LINE\n",
    "WHERE ORDERS.ORDER_NUM = ORDER_LINE.ORDER_NUM\n",
    "AND PART_NUM = 'DR93');\n"
   ]
  },
  {
   "cell_type": "markdown",
   "id": "ffbb388c",
   "metadata": {},
   "source": [
    "# Using a Subquery within a Subquery"
   ]
  },
  {
   "cell_type": "code",
   "execution_count": 62,
   "id": "81ea40cf",
   "metadata": {},
   "outputs": [
    {
     "name": "stdout",
     "output_type": "stream",
     "text": [
      " * sqlite://\n",
      "Done.\n"
     ]
    },
    {
     "data": {
      "text/html": [
       "<table>\n",
       "    <tr>\n",
       "        <th>ORDER_NUM</th>\n",
       "        <th>ORDER_DATE</th>\n",
       "    </tr>\n",
       "    <tr>\n",
       "        <td>21608</td>\n",
       "        <td>20<br>OCT 2010</td>\n",
       "    </tr>\n",
       "    <tr>\n",
       "        <td>21610</td>\n",
       "        <td>20<br>OCT 2010</td>\n",
       "    </tr>\n",
       "    <tr>\n",
       "        <td>21614</td>\n",
       "        <td>21<br>OCT 2010</td>\n",
       "    </tr>\n",
       "</table>"
      ],
      "text/plain": [
       "[('21608', '20\\nOCT 2010'),\n",
       " ('21610', '20\\nOCT 2010'),\n",
       " ('21614', '21\\nOCT 2010')]"
      ]
     },
     "execution_count": 62,
     "metadata": {},
     "output_type": "execute_result"
    }
   ],
   "source": [
    "%%sql\n",
    "SELECT order_num, order_date\n",
    "FROM orders\n",
    "WHERE order_num IN\n",
    "(SELECT order_num FROM order_line\n",
    " WHERE part_num IN\n",
    "(SELECT part_num\n",
    "FROM part\n",
    "WHERE warehouse = '3'));"
   ]
  },
  {
   "cell_type": "code",
   "execution_count": 63,
   "id": "dee77131",
   "metadata": {},
   "outputs": [
    {
     "name": "stdout",
     "output_type": "stream",
     "text": [
      " * sqlite://\n",
      "Done.\n"
     ]
    },
    {
     "data": {
      "text/html": [
       "<table>\n",
       "    <tr>\n",
       "        <th>CUSTOMER_NUM</th>\n",
       "        <th>ORDER_NUM</th>\n",
       "        <th>ORDER_DATE</th>\n",
       "        <th>order_total</th>\n",
       "    </tr>\n",
       "    <tr>\n",
       "        <td>408</td>\n",
       "        <td>21613</td>\n",
       "        <td>21<br>OCT 2010</td>\n",
       "        <td>1319.8</td>\n",
       "    </tr>\n",
       "    <tr>\n",
       "        <td>282</td>\n",
       "        <td>21614</td>\n",
       "        <td>21<br>OCT 2010</td>\n",
       "        <td>1190</td>\n",
       "    </tr>\n",
       "    <tr>\n",
       "        <td>608</td>\n",
       "        <td>21617</td>\n",
       "        <td>23<br>OCT 2010</td>\n",
       "        <td>2189.9</td>\n",
       "    </tr>\n",
       "    <tr>\n",
       "        <td>608</td>\n",
       "        <td>21623</td>\n",
       "        <td>23<br>OCT 2010</td>\n",
       "        <td>2580</td>\n",
       "    </tr>\n",
       "</table>"
      ],
      "text/plain": [
       "[('408', '21613', '21\\nOCT 2010', 1319.8),\n",
       " ('282', '21614', '21\\nOCT 2010', 1190),\n",
       " ('608', '21617', '23\\nOCT 2010', 2189.9),\n",
       " ('608', '21623', '23\\nOCT 2010', 2580)]"
      ]
     },
     "execution_count": 63,
     "metadata": {},
     "output_type": "execute_result"
    }
   ],
   "source": [
    "%%sql\n",
    "SELECT customer_num, orders.order_num, order_date,\n",
    "SUM(num_ordered * quoted_price) AS order_total\n",
    "FROM orders, order_line\n",
    "WHERE orders.order_num = order_line.order_num\n",
    "GROUP BY orders.order_num, customer_num, order_date\n",
    "HAVING SUM(num_ordered * quoted_price) > 1000\n",
    "ORDER BY orders.order_num;"
   ]
  },
  {
   "cell_type": "markdown",
   "id": "eb501d5b",
   "metadata": {},
   "source": [
    "# Using an Alias"
   ]
  },
  {
   "cell_type": "code",
   "execution_count": 64,
   "id": "91ecaa75",
   "metadata": {},
   "outputs": [
    {
     "name": "stdout",
     "output_type": "stream",
     "text": [
      " * sqlite://\n",
      "Done.\n"
     ]
    },
    {
     "data": {
      "text/html": [
       "<table>\n",
       "    <tr>\n",
       "        <th>REP_NUM</th>\n",
       "        <th>LAST_NAME</th>\n",
       "        <th>FIRST_NAME</th>\n",
       "        <th>CUSTOMER_NUM</th>\n",
       "        <th>CUSTOMER_NAME</th>\n",
       "    </tr>\n",
       "    <tr>\n",
       "        <td>20</td>\n",
       "        <td>Kaiser</td>\n",
       "        <td>Valerie</td>\n",
       "        <td>148</td>\n",
       "        <td>Al&#x27;s Appliance and Sport</td>\n",
       "    </tr>\n",
       "    <tr>\n",
       "        <td>35</td>\n",
       "        <td>Hull</td>\n",
       "        <td>Richard</td>\n",
       "        <td>282</td>\n",
       "        <td>Brookings Direct</td>\n",
       "    </tr>\n",
       "    <tr>\n",
       "        <td>65</td>\n",
       "        <td>Perez</td>\n",
       "        <td>Juan</td>\n",
       "        <td>356</td>\n",
       "        <td>Ferguson&#x27;s</td>\n",
       "    </tr>\n",
       "    <tr>\n",
       "        <td>35</td>\n",
       "        <td>Hull</td>\n",
       "        <td>Richard</td>\n",
       "        <td>408</td>\n",
       "        <td>The Everything Shop</td>\n",
       "    </tr>\n",
       "    <tr>\n",
       "        <td>65</td>\n",
       "        <td>Perez</td>\n",
       "        <td>Juan</td>\n",
       "        <td>462</td>\n",
       "        <td>Bargains Galore</td>\n",
       "    </tr>\n",
       "    <tr>\n",
       "        <td>20</td>\n",
       "        <td>Kaiser</td>\n",
       "        <td>Valerie</td>\n",
       "        <td>524</td>\n",
       "        <td>Kline&#x27;s</td>\n",
       "    </tr>\n",
       "    <tr>\n",
       "        <td>65</td>\n",
       "        <td>Perez</td>\n",
       "        <td>Juan</td>\n",
       "        <td>608</td>\n",
       "        <td>Johnson&#x27;s Department Store</td>\n",
       "    </tr>\n",
       "    <tr>\n",
       "        <td>35</td>\n",
       "        <td>Hull</td>\n",
       "        <td>Richard</td>\n",
       "        <td>687</td>\n",
       "        <td>Lee&#x27;s Sport and Appliance</td>\n",
       "    </tr>\n",
       "    <tr>\n",
       "        <td>35</td>\n",
       "        <td>Hull</td>\n",
       "        <td>Richard</td>\n",
       "        <td>725</td>\n",
       "        <td>Deerfield&#x27;s Four Seasons</td>\n",
       "    </tr>\n",
       "    <tr>\n",
       "        <td>20</td>\n",
       "        <td>Kaiser</td>\n",
       "        <td>Valerie</td>\n",
       "        <td>842</td>\n",
       "        <td>All Season</td>\n",
       "    </tr>\n",
       "</table>"
      ],
      "text/plain": [
       "[('20', 'Kaiser', 'Valerie', '148', \"Al's Appliance and Sport\"),\n",
       " ('35', 'Hull', 'Richard', '282', 'Brookings Direct'),\n",
       " ('65', 'Perez', 'Juan', '356', \"Ferguson's\"),\n",
       " ('35', 'Hull', 'Richard', '408', 'The Everything Shop'),\n",
       " ('65', 'Perez', 'Juan', '462', 'Bargains Galore'),\n",
       " ('20', 'Kaiser', 'Valerie', '524', \"Kline's\"),\n",
       " ('65', 'Perez', 'Juan', '608', \"Johnson's Department Store\"),\n",
       " ('35', 'Hull', 'Richard', '687', \"Lee's Sport and Appliance\"),\n",
       " ('35', 'Hull', 'Richard', '725', \"Deerfield's Four Seasons\"),\n",
       " ('20', 'Kaiser', 'Valerie', '842', 'All Season')]"
      ]
     },
     "execution_count": 64,
     "metadata": {},
     "output_type": "execute_result"
    }
   ],
   "source": [
    "%%sql\n",
    "SELECT r.rep_num, last_name, first_name, c.customer_num, customer_name\n",
    "FROM rep r, customer c\n",
    "WHERE r.rep_num = c.rep_num;"
   ]
  },
  {
   "cell_type": "markdown",
   "id": "828f5418",
   "metadata": {},
   "source": [
    "# Joining a Table to Itself"
   ]
  },
  {
   "cell_type": "code",
   "execution_count": 65,
   "id": "84d60bed",
   "metadata": {
    "scrolled": true
   },
   "outputs": [
    {
     "name": "stdout",
     "output_type": "stream",
     "text": [
      " * sqlite://\n",
      "Done.\n"
     ]
    },
    {
     "data": {
      "text/html": [
       "<table>\n",
       "    <tr>\n",
       "        <th>CUSTOMER_NUM</th>\n",
       "        <th>CUSTOMER_NAME</th>\n",
       "        <th>CUSTOMER_NUM_1</th>\n",
       "        <th>CUSTOMER_NAME_1</th>\n",
       "        <th>CITY</th>\n",
       "    </tr>\n",
       "    <tr>\n",
       "        <td>148</td>\n",
       "        <td>Al&#x27;s Appliance and Sport</td>\n",
       "        <td>524</td>\n",
       "        <td>Kline&#x27;s</td>\n",
       "        <td>Fillmore</td>\n",
       "    </tr>\n",
       "    <tr>\n",
       "        <td>282</td>\n",
       "        <td>Brookings Direct</td>\n",
       "        <td>462</td>\n",
       "        <td>Bargains Galore</td>\n",
       "        <td>Grove</td>\n",
       "    </tr>\n",
       "    <tr>\n",
       "        <td>282</td>\n",
       "        <td>Brookings Direct</td>\n",
       "        <td>842</td>\n",
       "        <td>All Season</td>\n",
       "        <td>Grove</td>\n",
       "    </tr>\n",
       "    <tr>\n",
       "        <td>462</td>\n",
       "        <td>Bargains Galore</td>\n",
       "        <td>842</td>\n",
       "        <td>All Season</td>\n",
       "        <td>Grove</td>\n",
       "    </tr>\n",
       "    <tr>\n",
       "        <td>608</td>\n",
       "        <td>Johnson&#x27;s Department Store</td>\n",
       "        <td>725</td>\n",
       "        <td>Deerfield&#x27;s Four Seasons</td>\n",
       "        <td>Sheldon</td>\n",
       "    </tr>\n",
       "</table>"
      ],
      "text/plain": [
       "[('148', \"Al's Appliance and Sport\", '524', \"Kline's\", 'Fillmore'),\n",
       " ('282', 'Brookings Direct', '462', 'Bargains Galore', 'Grove'),\n",
       " ('282', 'Brookings Direct', '842', 'All Season', 'Grove'),\n",
       " ('462', 'Bargains Galore', '842', 'All Season', 'Grove'),\n",
       " ('608', \"Johnson's Department Store\", '725', \"Deerfield's Four Seasons\", 'Sheldon')]"
      ]
     },
     "execution_count": 65,
     "metadata": {},
     "output_type": "execute_result"
    }
   ],
   "source": [
    "%%sql\n",
    "SELECT f.customer_num, f.customer_name, s.customer_num, s.customer_name,\n",
    "f.city\n",
    "FROM customer F, customer S\n",
    "WHERE f.city = s.city\n",
    "AND f.customer_num < s.customer_num\n",
    "ORDER BY f.customer_num, s.customer_num;"
   ]
  },
  {
   "cell_type": "markdown",
   "id": "6f769e4d",
   "metadata": {},
   "source": [
    "# Joining Several Tables"
   ]
  },
  {
   "cell_type": "code",
   "execution_count": 66,
   "id": "c2a032ba",
   "metadata": {
    "scrolled": true
   },
   "outputs": [
    {
     "name": "stdout",
     "output_type": "stream",
     "text": [
      " * sqlite://\n",
      "Done.\n"
     ]
    },
    {
     "data": {
      "text/html": [
       "<table>\n",
       "    <tr>\n",
       "        <th>PART_NUM</th>\n",
       "        <th>NUM_ORDERED</th>\n",
       "        <th>ORDER_NUM</th>\n",
       "        <th>ORDER_DATE</th>\n",
       "        <th>CUSTOMER_NUM</th>\n",
       "        <th>CUSTOMER_NAME</th>\n",
       "        <th>LAST_NAME</th>\n",
       "    </tr>\n",
       "    <tr>\n",
       "        <td>AT94</td>\n",
       "        <td>11</td>\n",
       "        <td>21608</td>\n",
       "        <td>20<br>OCT 2010</td>\n",
       "        <td>148</td>\n",
       "        <td>Al&#x27;s Appliance and Sport</td>\n",
       "        <td>Kaiser</td>\n",
       "    </tr>\n",
       "    <tr>\n",
       "        <td>DR93</td>\n",
       "        <td>1</td>\n",
       "        <td>21610</td>\n",
       "        <td>20<br>OCT 2010</td>\n",
       "        <td>356</td>\n",
       "        <td>Ferguson&#x27;s</td>\n",
       "        <td>Perez</td>\n",
       "    </tr>\n",
       "    <tr>\n",
       "        <td>DW11</td>\n",
       "        <td>1</td>\n",
       "        <td>21610</td>\n",
       "        <td>20<br>OCT 2010</td>\n",
       "        <td>356</td>\n",
       "        <td>Ferguson&#x27;s</td>\n",
       "        <td>Perez</td>\n",
       "    </tr>\n",
       "    <tr>\n",
       "        <td>KL62</td>\n",
       "        <td>4</td>\n",
       "        <td>21613</td>\n",
       "        <td>21<br>OCT 2010</td>\n",
       "        <td>408</td>\n",
       "        <td>The Everything Shop</td>\n",
       "        <td>Hull</td>\n",
       "    </tr>\n",
       "    <tr>\n",
       "        <td>KT03</td>\n",
       "        <td>2</td>\n",
       "        <td>21614</td>\n",
       "        <td>21<br>OCT 2010</td>\n",
       "        <td>282</td>\n",
       "        <td>Brookings Direct</td>\n",
       "        <td>Hull</td>\n",
       "    </tr>\n",
       "    <tr>\n",
       "        <td>BV06</td>\n",
       "        <td>2</td>\n",
       "        <td>21617</td>\n",
       "        <td>23<br>OCT 2010</td>\n",
       "        <td>608</td>\n",
       "        <td>Johnson&#x27;s Department Store</td>\n",
       "        <td>Perez</td>\n",
       "    </tr>\n",
       "    <tr>\n",
       "        <td>CD52</td>\n",
       "        <td>4</td>\n",
       "        <td>21617</td>\n",
       "        <td>23<br>OCT 2010</td>\n",
       "        <td>608</td>\n",
       "        <td>Johnson&#x27;s Department Store</td>\n",
       "        <td>Perez</td>\n",
       "    </tr>\n",
       "    <tr>\n",
       "        <td>DR93</td>\n",
       "        <td>1</td>\n",
       "        <td>21619</td>\n",
       "        <td>23<br>OCT 2010</td>\n",
       "        <td>148</td>\n",
       "        <td>Al&#x27;s Appliance and Sport</td>\n",
       "        <td>Kaiser</td>\n",
       "    </tr>\n",
       "    <tr>\n",
       "        <td>KV29</td>\n",
       "        <td>2</td>\n",
       "        <td>21623</td>\n",
       "        <td>23<br>OCT 2010</td>\n",
       "        <td>608</td>\n",
       "        <td>Johnson&#x27;s Department Store</td>\n",
       "        <td>Perez</td>\n",
       "    </tr>\n",
       "</table>"
      ],
      "text/plain": [
       "[('AT94', 11, '21608', '20\\nOCT 2010', '148', \"Al's Appliance and Sport\", 'Kaiser'),\n",
       " ('DR93', 1, '21610', '20\\nOCT 2010', '356', \"Ferguson's\", 'Perez'),\n",
       " ('DW11', 1, '21610', '20\\nOCT 2010', '356', \"Ferguson's\", 'Perez'),\n",
       " ('KL62', 4, '21613', '21\\nOCT 2010', '408', 'The Everything Shop', 'Hull'),\n",
       " ('KT03', 2, '21614', '21\\nOCT 2010', '282', 'Brookings Direct', 'Hull'),\n",
       " ('BV06', 2, '21617', '23\\nOCT 2010', '608', \"Johnson's Department Store\", 'Perez'),\n",
       " ('CD52', 4, '21617', '23\\nOCT 2010', '608', \"Johnson's Department Store\", 'Perez'),\n",
       " ('DR93', 1, '21619', '23\\nOCT 2010', '148', \"Al's Appliance and Sport\", 'Kaiser'),\n",
       " ('KV29', 2, '21623', '23\\nOCT 2010', '608', \"Johnson's Department Store\", 'Perez')]"
      ]
     },
     "execution_count": 66,
     "metadata": {},
     "output_type": "execute_result"
    }
   ],
   "source": [
    "%%sql\n",
    "SELECT part_num, num_ordered, order_line.order_num, order_date,\n",
    "customer.customer_num, customer_name, last_name\n",
    "FROM order_line, orders, customer, rep\n",
    "WHERE orders.order_num = order_line.order_num\n",
    "AND customer.customer_num = orders.customer_num\n",
    "AND rep.rep_num = customer.rep_num;"
   ]
  },
  {
   "cell_type": "markdown",
   "id": "08c8c018",
   "metadata": {},
   "source": [
    "# Set Operations"
   ]
  },
  {
   "cell_type": "code",
   "execution_count": 76,
   "id": "6a18a932",
   "metadata": {},
   "outputs": [],
   "source": [
    "# Union"
   ]
  },
  {
   "cell_type": "code",
   "execution_count": 77,
   "id": "a97a75d8",
   "metadata": {},
   "outputs": [
    {
     "name": "stdout",
     "output_type": "stream",
     "text": [
      " * sqlite://\n",
      "Done.\n"
     ]
    },
    {
     "data": {
      "text/html": [
       "<table>\n",
       "    <tr>\n",
       "        <th>CUSTOMER_NUM</th>\n",
       "        <th>CUSTOMER_NAME</th>\n",
       "    </tr>\n",
       "    <tr>\n",
       "        <td>148</td>\n",
       "        <td>Al&#x27;s Appliance and Sport</td>\n",
       "    </tr>\n",
       "    <tr>\n",
       "        <td>282</td>\n",
       "        <td>Brookings Direct</td>\n",
       "    </tr>\n",
       "    <tr>\n",
       "        <td>356</td>\n",
       "        <td>Ferguson&#x27;s</td>\n",
       "    </tr>\n",
       "    <tr>\n",
       "        <td>408</td>\n",
       "        <td>The Everything Shop</td>\n",
       "    </tr>\n",
       "    <tr>\n",
       "        <td>462</td>\n",
       "        <td>Bargains Galore</td>\n",
       "    </tr>\n",
       "    <tr>\n",
       "        <td>608</td>\n",
       "        <td>Johnson&#x27;s Department Store</td>\n",
       "    </tr>\n",
       "</table>"
      ],
      "text/plain": [
       "[('148', \"Al's Appliance and Sport\"),\n",
       " ('282', 'Brookings Direct'),\n",
       " ('356', \"Ferguson's\"),\n",
       " ('408', 'The Everything Shop'),\n",
       " ('462', 'Bargains Galore'),\n",
       " ('608', \"Johnson's Department Store\")]"
      ]
     },
     "execution_count": 77,
     "metadata": {},
     "output_type": "execute_result"
    }
   ],
   "source": [
    "%%sql\n",
    "SELECT CUSTOMER_NUM, CUSTOMER_NAME\n",
    "FROM CUSTOMER\n",
    "WHERE REP_NUM = '65'\n",
    "UNION\n",
    "SELECT CUSTOMER.CUSTOMER_NUM, CUSTOMER_NAME\n",
    "FROM CUSTOMER, ORDERS\n",
    "WHERE CUSTOMER.CUSTOMER_NUM = orders.customer_num;"
   ]
  },
  {
   "cell_type": "code",
   "execution_count": 78,
   "id": "9082b9a5",
   "metadata": {},
   "outputs": [],
   "source": [
    "# Intersection"
   ]
  },
  {
   "cell_type": "code",
   "execution_count": 79,
   "id": "4f91cd6a",
   "metadata": {},
   "outputs": [
    {
     "name": "stdout",
     "output_type": "stream",
     "text": [
      " * sqlite://\n",
      "Done.\n"
     ]
    },
    {
     "data": {
      "text/html": [
       "<table>\n",
       "    <tr>\n",
       "        <th>CUSTOMER_NUM</th>\n",
       "        <th>CUSTOMER_NAME</th>\n",
       "    </tr>\n",
       "    <tr>\n",
       "        <td>356</td>\n",
       "        <td>Ferguson&#x27;s</td>\n",
       "    </tr>\n",
       "    <tr>\n",
       "        <td>608</td>\n",
       "        <td>Johnson&#x27;s Department Store</td>\n",
       "    </tr>\n",
       "</table>"
      ],
      "text/plain": [
       "[('356', \"Ferguson's\"), ('608', \"Johnson's Department Store\")]"
      ]
     },
     "execution_count": 79,
     "metadata": {},
     "output_type": "execute_result"
    }
   ],
   "source": [
    "%%sql\n",
    "SELECT CUSTOMER_NUM, CUSTOMER_NAME\n",
    "FROM CUSTOMER\n",
    "WHERE REP_NUM = '65'\n",
    "INTERSECT\n",
    "SELECT CUSTOMER.CUSTOMER_NUM, CUSTOMER_NAME\n",
    "FROM CUSTOMER, ORDERS\n",
    "WHERE CUSTOMER.CUSTOMER_NUM = orders.customer_num;"
   ]
  },
  {
   "cell_type": "code",
   "execution_count": 80,
   "id": "28d38af3",
   "metadata": {},
   "outputs": [],
   "source": [
    "# Difference - MINUS/EXCEPT"
   ]
  },
  {
   "cell_type": "code",
   "execution_count": 86,
   "id": "29ad574b",
   "metadata": {},
   "outputs": [
    {
     "name": "stdout",
     "output_type": "stream",
     "text": [
      " * sqlite://\n",
      "Done.\n"
     ]
    },
    {
     "data": {
      "text/html": [
       "<table>\n",
       "    <tr>\n",
       "        <th>CUSTOMER_NUM</th>\n",
       "        <th>CUSTOMER_NAME</th>\n",
       "    </tr>\n",
       "    <tr>\n",
       "        <td>462</td>\n",
       "        <td>Bargains Galore</td>\n",
       "    </tr>\n",
       "</table>"
      ],
      "text/plain": [
       "[('462', 'Bargains Galore')]"
      ]
     },
     "execution_count": 86,
     "metadata": {},
     "output_type": "execute_result"
    }
   ],
   "source": [
    "%%sql\n",
    "SELECT CUSTOMER_NUM, CUSTOMER_NAME\n",
    "FROM CUSTOMER\n",
    "WHERE REP_NUM = '65'\n",
    "EXCEPT\n",
    "SELECT CUSTOMER.CUSTOMER_NUM, CUSTOMER_NAME\n",
    "FROM CUSTOMER, ORDERS\n",
    "WHERE CUSTOMER.CUSTOMER_NUM = orders.customer_num;"
   ]
  },
  {
   "cell_type": "markdown",
   "id": "2123c93b",
   "metadata": {},
   "source": [
    "# Inner Join"
   ]
  },
  {
   "cell_type": "code",
   "execution_count": 92,
   "id": "ac8fcf15",
   "metadata": {},
   "outputs": [
    {
     "name": "stdout",
     "output_type": "stream",
     "text": [
      " * sqlite://\n",
      "Done.\n"
     ]
    },
    {
     "data": {
      "text/html": [
       "<table>\n",
       "    <tr>\n",
       "        <th>CUSTOMER_NUM</th>\n",
       "        <th>CUSTOMER_NAME</th>\n",
       "        <th>ORDER_NUM</th>\n",
       "        <th>ORDER_DATE</th>\n",
       "    </tr>\n",
       "    <tr>\n",
       "        <td>148</td>\n",
       "        <td>Al&#x27;s Appliance and Sport</td>\n",
       "        <td>21608</td>\n",
       "        <td>20<br>OCT 2010</td>\n",
       "    </tr>\n",
       "    <tr>\n",
       "        <td>148</td>\n",
       "        <td>Al&#x27;s Appliance and Sport</td>\n",
       "        <td>21619</td>\n",
       "        <td>23<br>OCT 2010</td>\n",
       "    </tr>\n",
       "    <tr>\n",
       "        <td>282</td>\n",
       "        <td>Brookings Direct</td>\n",
       "        <td>21614</td>\n",
       "        <td>21<br>OCT 2010</td>\n",
       "    </tr>\n",
       "    <tr>\n",
       "        <td>356</td>\n",
       "        <td>Ferguson&#x27;s</td>\n",
       "        <td>21610</td>\n",
       "        <td>20<br>OCT 2010</td>\n",
       "    </tr>\n",
       "    <tr>\n",
       "        <td>408</td>\n",
       "        <td>The Everything Shop</td>\n",
       "        <td>21613</td>\n",
       "        <td>21<br>OCT 2010</td>\n",
       "    </tr>\n",
       "    <tr>\n",
       "        <td>608</td>\n",
       "        <td>Johnson&#x27;s Department Store</td>\n",
       "        <td>21617</td>\n",
       "        <td>23<br>OCT 2010</td>\n",
       "    </tr>\n",
       "    <tr>\n",
       "        <td>608</td>\n",
       "        <td>Johnson&#x27;s Department Store</td>\n",
       "        <td>21623</td>\n",
       "        <td>23<br>OCT 2010</td>\n",
       "    </tr>\n",
       "</table>"
      ],
      "text/plain": [
       "[('148', \"Al's Appliance and Sport\", '21608', '20\\nOCT 2010'),\n",
       " ('148', \"Al's Appliance and Sport\", '21619', '23\\nOCT 2010'),\n",
       " ('282', 'Brookings Direct', '21614', '21\\nOCT 2010'),\n",
       " ('356', \"Ferguson's\", '21610', '20\\nOCT 2010'),\n",
       " ('408', 'The Everything Shop', '21613', '21\\nOCT 2010'),\n",
       " ('608', \"Johnson's Department Store\", '21617', '23\\nOCT 2010'),\n",
       " ('608', \"Johnson's Department Store\", '21623', '23\\nOCT 2010')]"
      ]
     },
     "execution_count": 92,
     "metadata": {},
     "output_type": "execute_result"
    }
   ],
   "source": [
    "%%sql\n",
    "SELECT customer.customer_num, customer_name, order_num, order_date\n",
    "FROM customer\n",
    "INNER JOIN ORDERS\n",
    "ON CUSTOMER.CUSTOMER_NUM = orders.customer_num\n",
    "ORDER BY customer.customer_num;"
   ]
  },
  {
   "cell_type": "code",
   "execution_count": null,
   "id": "b0aaff49",
   "metadata": {},
   "outputs": [],
   "source": []
  }
 ],
 "metadata": {
  "kernelspec": {
   "display_name": "Python 3",
   "language": "python",
   "name": "python3"
  },
  "language_info": {
   "codemirror_mode": {
    "name": "ipython",
    "version": 3
   },
   "file_extension": ".py",
   "mimetype": "text/x-python",
   "name": "python",
   "nbconvert_exporter": "python",
   "pygments_lexer": "ipython3",
   "version": "3.8.0 (v3.8.0:fa919fdf25, Oct 14 2019, 10:23:27) \n[Clang 6.0 (clang-600.0.57)]"
  },
  "vscode": {
   "interpreter": {
    "hash": "aee8b7b246df8f9039afb4144a1f6fd8d2ca17a180786b69acc140d282b71a49"
   }
  }
 },
 "nbformat": 4,
 "nbformat_minor": 5
}
