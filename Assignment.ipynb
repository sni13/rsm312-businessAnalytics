{
 "cells": [
  {
   "cell_type": "markdown",
   "id": "66b35c8a",
   "metadata": {},
   "source": [
    "## A. Warm-up SQL Fundamentals"
   ]
  },
  {
   "cell_type": "markdown",
   "id": "e9a4b4ed",
   "metadata": {},
   "source": [
    "A.1. List the names of all customers that have a credit limit of $7,500 or less."
   ]
  },
  {
   "cell_type": "markdown",
   "id": "6f973ad9",
   "metadata": {},
   "source": [
    "A.2. List the order numbers for orders placed by customer number 608 on 10/23/2010."
   ]
  },
  {
   "cell_type": "markdown",
   "id": "a8c0e1ae",
   "metadata": {},
   "source": [
    "A.3. List the part number and part description of all parts that are in item class HW."
   ]
  },
  {
   "cell_type": "markdown",
   "id": "d001972a",
   "metadata": {},
   "source": [
    "A.4. List the part number, part description, and on-hand value for each part in item class SG. (Hint: On-hand value is the result of multiplying the number of units on hand by the price.)"
   ]
  },
  {
   "cell_type": "markdown",
   "id": "5aee6436",
   "metadata": {},
   "source": [
    "A.5. How many customers have a balance that exceeds their credit limit?"
   ]
  },
  {
   "cell_type": "markdown",
   "id": "112446ac",
   "metadata": {},
   "source": [
    "A.6. What is the part number, description, and price of the least expensive part in the database?"
   ]
  },
  {
   "cell_type": "markdown",
   "id": "d88f5ab4",
   "metadata": {},
   "source": [
    "A.7. For each order, list the order number, order date, customer number, and customer name."
   ]
  },
  {
   "cell_type": "markdown",
   "id": "f57e80c0",
   "metadata": {},
   "source": [
    "A.8. For each order placed on October 21, 2010, list the order number, customer number, and customer name."
   ]
  },
  {
   "cell_type": "markdown",
   "id": "1f8454fe",
   "metadata": {},
   "source": [
    "A.9. For each order placed on October 21, 2010, list the order number, part number, part description, and item class for each part ordered."
   ]
  },
  {
   "cell_type": "markdown",
   "id": "498aeea9",
   "metadata": {},
   "source": [
    "## B. Database Design"
   ]
  },
  {
   "cell_type": "markdown",
   "id": "7c5d2439",
   "metadata": {},
   "source": [
    "B. By writing SQL commands for the necessary changes only (i.e., we assume all other commands are given as in the Premier Products database that we created in class and you only need to create the new/modified tables as discussed below) support the following requirements.\n",
    "\n",
    "Hint: To avoid conflicts with existing tables, simply number the new tables by appending the question number, e.g., for part 1 of this question name the customer table customer1.\n",
    "\n",
    "Hint 2: As figures that you include into the Jupyter notebook using img src=\"E-R.png\" are not saved with the notebook but remain links to exernal files, please submit your figures in an additional document."
   ]
  },
  {
   "cell_type": "markdown",
   "id": "04f31f6c",
   "metadata": {},
   "source": [
    "B.1. A customer is not necessarily represented by a single sales rep, but can be represented by several sales reps. When a customer places an order, the sales rep who gets the commission on the order must be in the collection of sales reps who represent the customer. Draw an E-R diagram for the new design and write SQL commands to create tables that are different from the existing tables only."
   ]
  },
  {
   "cell_type": "markdown",
   "id": "dd0fc5f0",
   "metadata": {},
   "source": [
    "B.2. There is no relationship between customers and sales reps. When a customer places an order, any sales rep can process the order. On the order, you need to identify both the customer placing the order and the sales rep responsible for the order. Draw an E-R diagram for the new design and write SQL commands to create tables that are different from the existing tables only."
   ]
  },
  {
   "cell_type": "markdown",
   "id": "e43acfc9",
   "metadata": {},
   "source": [
    "B.3. Using your knowledge of Premiere Products, determine the functional dependencies that exist in the following table. After determining the functional dependencies, convert this table to an equivalent collection of tables that are in third normal form. PART (PART_NUM, DESCRIPTION, ON_HAND, CLASS, WAREHOUSE, PRICE, (ORDER_NUM, ORDER_DATE, CUSTOMER_NUM, CUSTOMER_NAME, NUM_ORDERED, QUOTED_PRICE) )\n",
    "PART_NUM is the primary key of this table. The highlighted text indicates repeating groups, i.e., each part occurs in “many” orders for which we record the order number, date, customer number and so forth.\n",
    "Draw an E-R diagram and write SQL commands that create the collection of tables in 3NF."
   ]
  },
  {
   "cell_type": "markdown",
   "id": "37ce36e2",
   "metadata": {},
   "source": [
    "## C. Fundamental SQL"
   ]
  },
  {
   "cell_type": "markdown",
   "id": "a544c89a",
   "metadata": {},
   "source": [
    "C.1. List the number and name of each customer represented by sales rep 35 or sales rep 65."
   ]
  },
  {
   "cell_type": "markdown",
   "id": "aee48bef",
   "metadata": {},
   "source": [
    "C.2. List the part number and part description of each part that is not in item class AP."
   ]
  },
  {
   "cell_type": "markdown",
   "id": "df88f1ea",
   "metadata": {},
   "source": [
    "C.3. List the part number, description, and number of units on hand for each part that has\n",
    "between 10 and 25 units on hand, including both 10 and 25. Do this in different two ways."
   ]
  },
  {
   "cell_type": "markdown",
   "id": "009cfe0a",
   "metadata": {},
   "source": [
    "C.4. Use the IN operator to list the part number and part description of each part in item class AP or SG."
   ]
  },
  {
   "cell_type": "markdown",
   "id": "030e54ef",
   "metadata": {},
   "source": [
    "C.5. Find the number and name of each customer whose name begins with the letter “B.”"
   ]
  },
  {
   "cell_type": "markdown",
   "id": "425bcea7",
   "metadata": {},
   "source": [
    "C.6. List all details about all parts. Order the output by part description."
   ]
  },
  {
   "cell_type": "markdown",
   "id": "7ef47a9d",
   "metadata": {},
   "source": [
    "C.7. List all details about all parts. Order the output by part number within warehouse. (That is, order the output by warehouse and then by part number.)"
   ]
  },
  {
   "cell_type": "markdown",
   "id": "4fb72a1a",
   "metadata": {},
   "source": [
    "C.8. List the part number, part description, and on-hand value of each part whose number of units on hand is more than the average number of units on hand for all parts. (Hint: Use a subquery.)\n",
    "C.9. List the sum of the balances of all customers for each sales rep. Order and group the results by sales rep number."
   ]
  },
  {
   "cell_type": "markdown",
   "id": "54b17f56",
   "metadata": {},
   "source": [
    "C.10. List the sum of the balances of all customers for each sales rep, but restrict the output to those sales reps for which the sum is more than $10,000. Order the results by sales rep number."
   ]
  },
  {
   "cell_type": "markdown",
   "id": "df0d5dd3",
   "metadata": {},
   "source": [
    "C.11. List the part number of any part with an unknown description."
   ]
  },
  {
   "cell_type": "markdown",
   "id": "b3a792bd",
   "metadata": {},
   "source": [
    "# D. More Advanced SQL"
   ]
  },
  {
   "cell_type": "markdown",
   "id": "8dcb2907",
   "metadata": {},
   "source": [
    "D.1. For each order, list the order number and order date along with the number and name of the customer that placed the order."
   ]
  },
  {
   "cell_type": "markdown",
   "id": "74b33a0a",
   "metadata": {},
   "source": [
    "D.2. For each order placed on October 23, 2010, list the order number along with the number and name of the customer that "
   ]
  },
  {
   "cell_type": "markdown",
   "id": "e051f19e",
   "metadata": {},
   "source": [
    "D.2. For each order placed on October 23, 2010, list the order number along with the number and name of the customer that placed the order."
   ]
  },
  {
   "cell_type": "markdown",
   "id": "62e993a4",
   "metadata": {},
   "source": [
    "D.3. For each order, list the order number, order date, part number, number of units ordered, and quoted price for each order line that makes up the order."
   ]
  },
  {
   "cell_type": "markdown",
   "id": "0bf20260",
   "metadata": {},
   "source": [
    "D.4. Use the IN operator to find the number and name of each customer that placed an order on October 23, 2010."
   ]
  },
  {
   "cell_type": "markdown",
   "id": "cf01111a",
   "metadata": {},
   "source": [
    "D.5. Repeat Exercise 4, but this time use the EXISTS operator in your answer."
   ]
  },
  {
   "cell_type": "markdown",
   "id": "d6f7c7c0",
   "metadata": {},
   "source": [
    "D.6. Find the number and name of each customer that did not place an order on October 23, 2010."
   ]
  },
  {
   "cell_type": "markdown",
   "id": "affef8ca",
   "metadata": {},
   "source": [
    "D.7. For each order, list the order number, order date, part number, part description, and item class for each part that makes up the order."
   ]
  },
  {
   "cell_type": "markdown",
   "id": "2a721fa2",
   "metadata": {},
   "source": [
    "D.8. Repeat Exercise 7, but this time order the rows by item class and then by order number."
   ]
  },
  {
   "cell_type": "markdown",
   "id": "7868d807",
   "metadata": {},
   "source": [
    "D.9. Use a subquery to find the rep number, last name, and first name of each sales rep who represents at least one customer with a credit limit of $10,000. List each sales rep only once in the results."
   ]
  },
  {
   "cell_type": "markdown",
   "id": "6d282852",
   "metadata": {},
   "source": [
    "D.10. Repeat Exercise 9, but this time do not use a subquery."
   ]
  },
  {
   "cell_type": "markdown",
   "id": "267f8eaf",
   "metadata": {},
   "source": [
    "D.11. Find the number and name of each customer that currently has an order on file for a\n",
    "Gas Range."
   ]
  },
  {
   "cell_type": "markdown",
   "id": "feb391e5",
   "metadata": {},
   "source": [
    "D.12. List the part number, part description, and item class for each pair of parts that are in the same item class. (For example, one such pair would be part AT94 and part FD21, because the item class for both parts is HW.)"
   ]
  },
  {
   "cell_type": "markdown",
   "id": "f761c0a2",
   "metadata": {},
   "source": [
    "D.13. List the order number and order date for each order placed by the customer named Johnson’s Department Store. (Hint: To enter an apostrophe (single quotation mark) within a string of characters, type two single quotation marks.)"
   ]
  },
  {
   "cell_type": "markdown",
   "id": "589f155b",
   "metadata": {},
   "source": [
    "D.14. List the order number and order date for each order that contains an order line for an Iron."
   ]
  },
  {
   "cell_type": "markdown",
   "id": "8220b37c",
   "metadata": {},
   "source": [
    "D.15. List the order number and order date for each order that either was placed by Johnson’s Department Store or that contains an order line for a Gas Range."
   ]
  },
  {
   "cell_type": "markdown",
   "id": "f7fe7817",
   "metadata": {},
   "source": [
    "D.16. List the order number and order date for each order that was placed by Johnson’s Department Store and that contains an order line for a Gas Range."
   ]
  },
  {
   "cell_type": "markdown",
   "id": "8e3afc04",
   "metadata": {},
   "source": [
    "D.17. List the order number and order date for each order that was placed by Johnson’s Department Store but that does not contain an order line for a Gas Range."
   ]
  },
  {
   "cell_type": "markdown",
   "id": "a310d136",
   "metadata": {},
   "source": [
    "D.18. For each part, list the part number, description, units on hand, order number, and number of units ordered. All parts should be included in the results. For those parts that are currently not on order, the order number and number of units ordered should be left blank (None/NULL/NA). Order the results by part number."
   ]
  }
 ],
 "metadata": {
  "kernelspec": {
   "display_name": "base",
   "language": "python",
   "name": "python3"
  },
  "language_info": {
   "codemirror_mode": {
    "name": "ipython",
    "version": 3
   },
   "file_extension": ".py",
   "mimetype": "text/x-python",
   "name": "python",
   "nbconvert_exporter": "python",
   "pygments_lexer": "ipython3",
   "version": "3.9.7 (default, Sep 16 2021, 08:50:36) \n[Clang 10.0.0 ]"
  },
  "vscode": {
   "interpreter": {
    "hash": "a0f8ab873be75d6526919001760e7adb4f1dd3f319b1f826a72fff560a0ae244"
   }
  }
 },
 "nbformat": 4,
 "nbformat_minor": 5
}
