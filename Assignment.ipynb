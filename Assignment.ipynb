{
 "cells": [
  {
   "attachments": {},
   "cell_type": "markdown",
   "id": "7c5f097b",
   "metadata": {},
   "source": [
    "# Creating Database"
   ]
  },
  {
   "cell_type": "code",
   "execution_count": 73,
   "id": "541638fe",
   "metadata": {},
   "outputs": [
    {
     "name": "stdout",
     "output_type": "stream",
     "text": [
      "The sql extension is already loaded. To reload it, use:\n",
      "  %reload_ext sql\n"
     ]
    }
   ],
   "source": [
    "%load_ext sql\n",
    "#% is python magic command"
   ]
  },
  {
   "cell_type": "code",
   "execution_count": 74,
   "id": "f2c2a436",
   "metadata": {},
   "outputs": [],
   "source": [
    "%sql sqlite://\n",
    "#sql is not case-sensitive"
   ]
  },
  {
   "attachments": {},
   "cell_type": "markdown",
   "id": "7acea28f",
   "metadata": {},
   "source": [
    "### How to Create Table"
   ]
  },
  {
   "cell_type": "code",
   "execution_count": 75,
   "id": "005f4f9c",
   "metadata": {},
   "outputs": [
    {
     "name": "stdout",
     "output_type": "stream",
     "text": [
      " * sqlite://\n",
      "(sqlite3.OperationalError) table rep already exists\n",
      "[SQL: CREATE TABLE rep (\n",
      "REP_NUM CHAR(2) PRIMARY KEY,\n",
      "LAST_NAME CHAR(15),\n",
      "FIRST_NAME CHAR(15),\n",
      "STATE CHAR(2),\n",
      "ZIP CHAR(5),\n",
      "COMMISION DECIMAL(7,2),\n",
      "RATE DECIMAL(3,2) \n",
      ");]\n",
      "(Background on this error at: https://sqlalche.me/e/14/e3q8)\n"
     ]
    }
   ],
   "source": [
    "%%sql CREATE TABLE rep (\n",
    "REP_NUM CHAR(2) PRIMARY KEY,\n",
    "LAST_NAME CHAR(15),\n",
    "FIRST_NAME CHAR(15),\n",
    "STATE CHAR(2),\n",
    "ZIP CHAR(5),\n",
    "COMMISION DECIMAL(7,2),\n",
    "RATE DECIMAL(3,2) \n",
    ");\n"
   ]
  },
  {
   "attachments": {},
   "cell_type": "markdown",
   "id": "18a5f321",
   "metadata": {},
   "source": [
    "### How to modify existing table"
   ]
  },
  {
   "cell_type": "code",
   "execution_count": 76,
   "id": "ad62a352",
   "metadata": {},
   "outputs": [
    {
     "name": "stdout",
     "output_type": "stream",
     "text": [
      " * sqlite://\n",
      "Done.\n"
     ]
    },
    {
     "data": {
      "text/plain": [
       "[]"
      ]
     },
     "execution_count": 76,
     "metadata": {},
     "output_type": "execute_result"
    }
   ],
   "source": [
    "%sql DROP TABLE rep;"
   ]
  },
  {
   "cell_type": "code",
   "execution_count": 77,
   "id": "4fbf7df1",
   "metadata": {},
   "outputs": [
    {
     "name": "stdout",
     "output_type": "stream",
     "text": [
      " * sqlite://\n",
      "Done.\n"
     ]
    },
    {
     "data": {
      "text/plain": [
       "[]"
      ]
     },
     "execution_count": 77,
     "metadata": {},
     "output_type": "execute_result"
    }
   ],
   "source": [
    "%%sql CREATE TABLE rep (\n",
    "REP_NUM CHAR(2) PRIMARY KEY,\n",
    "LAST_NAME CHAR(15) NOT NULL,\n",
    "FIRST_NAME CHAR(15) NOT NULL,\n",
    "STREET CHAR(15),\n",
    "CITY CHAR(15),\n",
    "STATE CHAR(2),\n",
    "ZIP CHAR(5),\n",
    "COMMISION DECIMAL(7,2),\n",
    "RATE DECIMAL(3,2) \n",
    ");"
   ]
  },
  {
   "cell_type": "code",
   "execution_count": 78,
   "id": "2c8d92fa",
   "metadata": {},
   "outputs": [
    {
     "name": "stdout",
     "output_type": "stream",
     "text": [
      " * sqlite://\n",
      "1 rows affected.\n"
     ]
    },
    {
     "data": {
      "text/plain": [
       "[]"
      ]
     },
     "execution_count": 78,
     "metadata": {},
     "output_type": "execute_result"
    }
   ],
   "source": [
    "%%sql\n",
    "INSERT INTO rep\n",
    "VALUES\n",
    "('20', 'Kaiser', 'Valerie', '624 Randall', 'Grove', 'FL', '33321', 2042.50, 0.05)"
   ]
  },
  {
   "attachments": {},
   "cell_type": "markdown",
   "id": "0836c444",
   "metadata": {},
   "source": [
    "### Inserting a row that contains null values"
   ]
  },
  {
   "cell_type": "code",
   "execution_count": 79,
   "id": "5e44e25c",
   "metadata": {},
   "outputs": [
    {
     "name": "stdout",
     "output_type": "stream",
     "text": [
      " * sqlite://\n",
      "1 rows affected.\n"
     ]
    },
    {
     "data": {
      "text/plain": [
       "[]"
      ]
     },
     "execution_count": 79,
     "metadata": {},
     "output_type": "execute_result"
    }
   ],
   "source": [
    "%sql INSERT INTO rep (REP_NUM, LAST_NAME, FIRST_NAME) VALUES ('85', 'Webb', 'Tina');"
   ]
  },
  {
   "cell_type": "code",
   "execution_count": 80,
   "id": "3ffd0237",
   "metadata": {},
   "outputs": [
    {
     "name": "stdout",
     "output_type": "stream",
     "text": [
      " * sqlite://\n",
      "2 rows affected.\n"
     ]
    },
    {
     "data": {
      "text/plain": [
       "[]"
      ]
     },
     "execution_count": 80,
     "metadata": {},
     "output_type": "execute_result"
    }
   ],
   "source": [
    "%%sql\n",
    "INSERT INTO rep\n",
    "VALUES\n",
    "('35', 'Hull', 'Richard', '532 Jackson', 'Sheldon', 'FL', '33553', 39216, 0.07),\n",
    "('65', 'Perez', 'Juan', '1626 Taylor', 'Filmore', 'FL', '33336', 23487, 0.05);"
   ]
  },
  {
   "attachments": {},
   "cell_type": "markdown",
   "id": "5d3eb0d8",
   "metadata": {},
   "source": [
    "### Update Records"
   ]
  },
  {
   "cell_type": "code",
   "execution_count": 81,
   "id": "bed5038b",
   "metadata": {},
   "outputs": [
    {
     "name": "stdout",
     "output_type": "stream",
     "text": [
      " * sqlite://\n",
      "1 rows affected.\n"
     ]
    },
    {
     "data": {
      "text/plain": [
       "[]"
      ]
     },
     "execution_count": 81,
     "metadata": {},
     "output_type": "execute_result"
    }
   ],
   "source": [
    "%%sql \n",
    "UPDATE rep\n",
    "SET last_name = 'Perry'\n",
    "WHERE rep_num = '85';"
   ]
  },
  {
   "attachments": {},
   "cell_type": "markdown",
   "id": "788a1698",
   "metadata": {},
   "source": [
    "### Deleting Records"
   ]
  },
  {
   "cell_type": "code",
   "execution_count": 82,
   "id": "0b98f871",
   "metadata": {},
   "outputs": [
    {
     "name": "stdout",
     "output_type": "stream",
     "text": [
      " * sqlite://\n",
      "1 rows affected.\n"
     ]
    },
    {
     "data": {
      "text/plain": [
       "[]"
      ]
     },
     "execution_count": 82,
     "metadata": {},
     "output_type": "execute_result"
    }
   ],
   "source": [
    "%sql DELETE FROM rep WHERE rep_num = '85'"
   ]
  },
  {
   "attachments": {},
   "cell_type": "markdown",
   "id": "af5c7f3f",
   "metadata": {},
   "source": [
    "### Creating The Remaining Database"
   ]
  },
  {
   "cell_type": "code",
   "execution_count": 83,
   "id": "a760f781",
   "metadata": {},
   "outputs": [
    {
     "name": "stdout",
     "output_type": "stream",
     "text": [
      " * sqlite://\n",
      "(sqlite3.OperationalError) table CUSTOMER already exists\n",
      "[SQL: CREATE TABLE CUSTOMER\n",
      "(CUSTOMER_NUM CHAR(3) PRIMARY KEY,\n",
      "CUSTOMER_NAME CHAR(35) NOT NULL,\n",
      "STREET CHAR(15),\n",
      "CITY CHAR(15),\n",
      "STATE CHAR(2),\n",
      "ZIP CHAR(5),\n",
      "BALANCE DECIMAL(8,2),\n",
      "CREDIT_LIMIT DECIMAL(8,2),\n",
      "REP_NUM CHAR(2) );]\n",
      "(Background on this error at: https://sqlalche.me/e/14/e3q8)\n"
     ]
    }
   ],
   "source": [
    "%%sql\n",
    "CREATE TABLE CUSTOMER\n",
    "(CUSTOMER_NUM CHAR(3) PRIMARY KEY,\n",
    "CUSTOMER_NAME CHAR(35) NOT NULL,\n",
    "STREET CHAR(15),\n",
    "CITY CHAR(15),\n",
    "STATE CHAR(2),\n",
    "ZIP CHAR(5),\n",
    "BALANCE DECIMAL(8,2),\n",
    "CREDIT_LIMIT DECIMAL(8,2),\n",
    "REP_NUM CHAR(2) );"
   ]
  },
  {
   "cell_type": "code",
   "execution_count": 84,
   "id": "f01f931a",
   "metadata": {},
   "outputs": [
    {
     "name": "stdout",
     "output_type": "stream",
     "text": [
      " * sqlite://\n",
      "(sqlite3.IntegrityError) UNIQUE constraint failed: CUSTOMER.CUSTOMER_NUM\n",
      "[SQL: INSERT INTO CUSTOMER\n",
      "VALUES\n",
      "('148','Al''s Appliance and Sport','2837 Greenway','Fillmore','FL','33336',6550.00,7500.00,'20'),\n",
      "('282','Brookings Direct','3827 Devon','Grove','FL','33321',431.50,10000.00,'35'),\n",
      "('356','Ferguson''s','382 Wildwood','Northfield','FL','33146',5785.00,7500.00,'65'),\n",
      "('408','The Everything Shop','1828 Raven','Crystal','FL','33503',5285.25,5000.00,'35'),\n",
      "('462','Bargains Galore','3829 Central','Grove','FL','33321',3412.00,10000.00,'65'),\n",
      "('524','Kline''s','838 Ridgeland','Fillmore','FL','33336',12762.00,15000.00,'20'),\n",
      "('608','Johnson''s Department Store','372 Oxford','Sheldon','FL','33553',2106.00,10000.00,'65'),\n",
      "('687','Lee''s Sport and Appliance','282 Evergreen','Altonville','FL','32543',2851.00,5000.00,'35'),\n",
      "('725','Deerfield''s Four Seasons','282 Columbia','Sheldon','FL','33553',248.00,7500.00,'35'),\n",
      "('842','All Season','28 Lakeview','Grove','FL','33321',8221.00,7500.00,'20');]\n",
      "(Background on this error at: https://sqlalche.me/e/14/gkpj)\n"
     ]
    }
   ],
   "source": [
    "%%sql\n",
    "INSERT INTO CUSTOMER\n",
    "VALUES\n",
    "('148','Al''s Appliance and Sport','2837 Greenway','Fillmore','FL','33336',6550.00,7500.00,'20'),\n",
    "('282','Brookings Direct','3827 Devon','Grove','FL','33321',431.50,10000.00,'35'),\n",
    "('356','Ferguson''s','382 Wildwood','Northfield','FL','33146',5785.00,7500.00,'65'),\n",
    "('408','The Everything Shop','1828 Raven','Crystal','FL','33503',5285.25,5000.00,'35'),\n",
    "('462','Bargains Galore','3829 Central','Grove','FL','33321',3412.00,10000.00,'65'),\n",
    "('524','Kline''s','838 Ridgeland','Fillmore','FL','33336',12762.00,15000.00,'20'),\n",
    "('608','Johnson''s Department Store','372 Oxford','Sheldon','FL','33553',2106.00,10000.00,'65'),\n",
    "('687','Lee''s Sport and Appliance','282 Evergreen','Altonville','FL','32543',2851.00,5000.00,'35'),\n",
    "('725','Deerfield''s Four Seasons','282 Columbia','Sheldon','FL','33553',248.00,7500.00,'35'),\n",
    "('842','All Season','28 Lakeview','Grove','FL','33321',8221.00,7500.00,'20');"
   ]
  },
  {
   "cell_type": "code",
   "execution_count": 85,
   "id": "eeb9acea",
   "metadata": {},
   "outputs": [
    {
     "name": "stdout",
     "output_type": "stream",
     "text": [
      " * sqlite://\n",
      "Done.\n"
     ]
    },
    {
     "data": {
      "text/html": [
       "<table>\n",
       "    <tr>\n",
       "        <th>CUSTOMER_NUM</th>\n",
       "        <th>CUSTOMER_NAME</th>\n",
       "        <th>STREET</th>\n",
       "        <th>CITY</th>\n",
       "        <th>STATE</th>\n",
       "        <th>ZIP</th>\n",
       "        <th>BALANCE</th>\n",
       "        <th>CREDIT_LIMIT</th>\n",
       "        <th>REP_NUM</th>\n",
       "    </tr>\n",
       "    <tr>\n",
       "        <td>148</td>\n",
       "        <td>Al&#x27;s Appliance and Sport</td>\n",
       "        <td>2837 Greenway</td>\n",
       "        <td>Fillmore</td>\n",
       "        <td>FL</td>\n",
       "        <td>33336</td>\n",
       "        <td>6550</td>\n",
       "        <td>7500</td>\n",
       "        <td>20</td>\n",
       "    </tr>\n",
       "    <tr>\n",
       "        <td>282</td>\n",
       "        <td>Brookings Direct</td>\n",
       "        <td>3827 Devon</td>\n",
       "        <td>Grove</td>\n",
       "        <td>FL</td>\n",
       "        <td>33321</td>\n",
       "        <td>431.5</td>\n",
       "        <td>10000</td>\n",
       "        <td>35</td>\n",
       "    </tr>\n",
       "    <tr>\n",
       "        <td>356</td>\n",
       "        <td>Ferguson&#x27;s</td>\n",
       "        <td>382 Wildwood</td>\n",
       "        <td>Northfield</td>\n",
       "        <td>FL</td>\n",
       "        <td>33146</td>\n",
       "        <td>5785</td>\n",
       "        <td>7500</td>\n",
       "        <td>65</td>\n",
       "    </tr>\n",
       "    <tr>\n",
       "        <td>408</td>\n",
       "        <td>The Everything Shop</td>\n",
       "        <td>1828 Raven</td>\n",
       "        <td>Crystal</td>\n",
       "        <td>FL</td>\n",
       "        <td>33503</td>\n",
       "        <td>5285.25</td>\n",
       "        <td>5000</td>\n",
       "        <td>35</td>\n",
       "    </tr>\n",
       "    <tr>\n",
       "        <td>462</td>\n",
       "        <td>Bargains Galore</td>\n",
       "        <td>3829 Central</td>\n",
       "        <td>Grove</td>\n",
       "        <td>FL</td>\n",
       "        <td>33321</td>\n",
       "        <td>3412</td>\n",
       "        <td>10000</td>\n",
       "        <td>65</td>\n",
       "    </tr>\n",
       "    <tr>\n",
       "        <td>524</td>\n",
       "        <td>Kline&#x27;s</td>\n",
       "        <td>838 Ridgeland</td>\n",
       "        <td>Fillmore</td>\n",
       "        <td>FL</td>\n",
       "        <td>33336</td>\n",
       "        <td>12762</td>\n",
       "        <td>15000</td>\n",
       "        <td>20</td>\n",
       "    </tr>\n",
       "    <tr>\n",
       "        <td>608</td>\n",
       "        <td>Johnson&#x27;s Department Store</td>\n",
       "        <td>372 Oxford</td>\n",
       "        <td>Sheldon</td>\n",
       "        <td>FL</td>\n",
       "        <td>33553</td>\n",
       "        <td>2106</td>\n",
       "        <td>10000</td>\n",
       "        <td>65</td>\n",
       "    </tr>\n",
       "    <tr>\n",
       "        <td>687</td>\n",
       "        <td>Lee&#x27;s Sport and Appliance</td>\n",
       "        <td>282 Evergreen</td>\n",
       "        <td>Altonville</td>\n",
       "        <td>FL</td>\n",
       "        <td>32543</td>\n",
       "        <td>2851</td>\n",
       "        <td>5000</td>\n",
       "        <td>35</td>\n",
       "    </tr>\n",
       "    <tr>\n",
       "        <td>725</td>\n",
       "        <td>Deerfield&#x27;s Four Seasons</td>\n",
       "        <td>282 Columbia</td>\n",
       "        <td>Sheldon</td>\n",
       "        <td>FL</td>\n",
       "        <td>33553</td>\n",
       "        <td>248</td>\n",
       "        <td>7500</td>\n",
       "        <td>35</td>\n",
       "    </tr>\n",
       "    <tr>\n",
       "        <td>842</td>\n",
       "        <td>All Season</td>\n",
       "        <td>28 Lakeview</td>\n",
       "        <td>Grove</td>\n",
       "        <td>FL</td>\n",
       "        <td>33321</td>\n",
       "        <td>8221</td>\n",
       "        <td>7500</td>\n",
       "        <td>20</td>\n",
       "    </tr>\n",
       "</table>"
      ],
      "text/plain": [
       "[('148', \"Al's Appliance and Sport\", '2837 Greenway', 'Fillmore', 'FL', '33336', 6550, 7500, '20'),\n",
       " ('282', 'Brookings Direct', '3827 Devon', 'Grove', 'FL', '33321', 431.5, 10000, '35'),\n",
       " ('356', \"Ferguson's\", '382 Wildwood', 'Northfield', 'FL', '33146', 5785, 7500, '65'),\n",
       " ('408', 'The Everything Shop', '1828 Raven', 'Crystal', 'FL', '33503', 5285.25, 5000, '35'),\n",
       " ('462', 'Bargains Galore', '3829 Central', 'Grove', 'FL', '33321', 3412, 10000, '65'),\n",
       " ('524', \"Kline's\", '838 Ridgeland', 'Fillmore', 'FL', '33336', 12762, 15000, '20'),\n",
       " ('608', \"Johnson's Department Store\", '372 Oxford', 'Sheldon', 'FL', '33553', 2106, 10000, '65'),\n",
       " ('687', \"Lee's Sport and Appliance\", '282 Evergreen', 'Altonville', 'FL', '32543', 2851, 5000, '35'),\n",
       " ('725', \"Deerfield's Four Seasons\", '282 Columbia', 'Sheldon', 'FL', '33553', 248, 7500, '35'),\n",
       " ('842', 'All Season', '28 Lakeview', 'Grove', 'FL', '33321', 8221, 7500, '20')]"
      ]
     },
     "execution_count": 85,
     "metadata": {},
     "output_type": "execute_result"
    }
   ],
   "source": [
    "%sql SELECT * FROM CUSTOMER"
   ]
  },
  {
   "cell_type": "code",
   "execution_count": 86,
   "id": "adbce829",
   "metadata": {},
   "outputs": [
    {
     "name": "stdout",
     "output_type": "stream",
     "text": [
      " * sqlite://\n",
      "(sqlite3.OperationalError) table ORDERS already exists\n",
      "[SQL: CREATE TABLE ORDERS\n",
      "(ORDER_NUM CHAR(5) PRIMARY KEY,\n",
      "ORDER_DATE DATE,\n",
      "CUSTOMER_NUM CHAR(3) );]\n",
      "(Background on this error at: https://sqlalche.me/e/14/e3q8)\n"
     ]
    }
   ],
   "source": [
    "%%sql\n",
    "CREATE TABLE ORDERS\n",
    "(ORDER_NUM CHAR(5) PRIMARY KEY,\n",
    "ORDER_DATE DATE,\n",
    "CUSTOMER_NUM CHAR(3) );"
   ]
  },
  {
   "cell_type": "code",
   "execution_count": 87,
   "id": "c3031d68",
   "metadata": {},
   "outputs": [
    {
     "name": "stdout",
     "output_type": "stream",
     "text": [
      " * sqlite://\n",
      "(sqlite3.IntegrityError) UNIQUE constraint failed: ORDERS.ORDER_NUM\n",
      "[SQL: INSERT INTO ORDERS\n",
      "VALUES\n",
      "('21608','20-OCT-2010','148'),\n",
      "('21610','20-OCT-2010','356'),\n",
      "('21613','21-OCT-2010','408'),\n",
      "('21614','21-OCT-2010','282'),\n",
      "('21617','23-OCT-2010','608'),\n",
      "('21619','23-OCT-2010','148'),\n",
      "('21623','23-OCT-2010','608');]\n",
      "(Background on this error at: https://sqlalche.me/e/14/gkpj)\n"
     ]
    }
   ],
   "source": [
    "%%sql\n",
    "INSERT INTO ORDERS\n",
    "VALUES\n",
    "('21608','20-OCT-2010','148'),\n",
    "('21610','20-OCT-2010','356'),\n",
    "('21613','21-OCT-2010','408'),\n",
    "('21614','21-OCT-2010','282'),\n",
    "('21617','23-OCT-2010','608'),\n",
    "('21619','23-OCT-2010','148'),\n",
    "('21623','23-OCT-2010','608');"
   ]
  },
  {
   "cell_type": "code",
   "execution_count": 88,
   "id": "9808fcf6",
   "metadata": {},
   "outputs": [
    {
     "name": "stdout",
     "output_type": "stream",
     "text": [
      " * sqlite://\n",
      "Done.\n"
     ]
    },
    {
     "data": {
      "text/html": [
       "<table>\n",
       "    <tr>\n",
       "        <th>ORDER_NUM</th>\n",
       "        <th>ORDER_DATE</th>\n",
       "        <th>CUSTOMER_NUM</th>\n",
       "    </tr>\n",
       "    <tr>\n",
       "        <td>21608</td>\n",
       "        <td>20-OCT-2010</td>\n",
       "        <td>148</td>\n",
       "    </tr>\n",
       "    <tr>\n",
       "        <td>21610</td>\n",
       "        <td>20-OCT-2010</td>\n",
       "        <td>356</td>\n",
       "    </tr>\n",
       "    <tr>\n",
       "        <td>21613</td>\n",
       "        <td>21-OCT-2010</td>\n",
       "        <td>408</td>\n",
       "    </tr>\n",
       "    <tr>\n",
       "        <td>21614</td>\n",
       "        <td>21-OCT-2010</td>\n",
       "        <td>282</td>\n",
       "    </tr>\n",
       "    <tr>\n",
       "        <td>21617</td>\n",
       "        <td>23-OCT-2010</td>\n",
       "        <td>608</td>\n",
       "    </tr>\n",
       "    <tr>\n",
       "        <td>21619</td>\n",
       "        <td>23-OCT-2010</td>\n",
       "        <td>148</td>\n",
       "    </tr>\n",
       "    <tr>\n",
       "        <td>21623</td>\n",
       "        <td>23-OCT-2010</td>\n",
       "        <td>608</td>\n",
       "    </tr>\n",
       "</table>"
      ],
      "text/plain": [
       "[('21608', '20-OCT-2010', '148'),\n",
       " ('21610', '20-OCT-2010', '356'),\n",
       " ('21613', '21-OCT-2010', '408'),\n",
       " ('21614', '21-OCT-2010', '282'),\n",
       " ('21617', '23-OCT-2010', '608'),\n",
       " ('21619', '23-OCT-2010', '148'),\n",
       " ('21623', '23-OCT-2010', '608')]"
      ]
     },
     "execution_count": 88,
     "metadata": {},
     "output_type": "execute_result"
    }
   ],
   "source": [
    "%sql SELECT * FROM ORDERS"
   ]
  },
  {
   "cell_type": "code",
   "execution_count": 89,
   "id": "694a6499",
   "metadata": {},
   "outputs": [
    {
     "name": "stdout",
     "output_type": "stream",
     "text": [
      " * sqlite://\n",
      "(sqlite3.OperationalError) table PART already exists\n",
      "[SQL: CREATE TABLE PART\n",
      "(PART_NUM CHAR(4) PRIMARY KEY,\n",
      "DESCRIPTION CHAR(15),\n",
      "ON_HAND DECIMAL(4,0),\n",
      "CLASS CHAR(2),\n",
      "WAREHOUSE CHAR(1),\n",
      "PRICE DECIMAL(6,2) );]\n",
      "(Background on this error at: https://sqlalche.me/e/14/e3q8)\n"
     ]
    }
   ],
   "source": [
    "%%sql\n",
    "CREATE TABLE PART\n",
    "(PART_NUM CHAR(4) PRIMARY KEY,\n",
    "DESCRIPTION CHAR(15),\n",
    "ON_HAND DECIMAL(4,0),\n",
    "CLASS CHAR(2),\n",
    "WAREHOUSE CHAR(1),\n",
    "PRICE DECIMAL(6,2) );\n"
   ]
  },
  {
   "cell_type": "code",
   "execution_count": 90,
   "id": "aa78d5af",
   "metadata": {},
   "outputs": [
    {
     "name": "stdout",
     "output_type": "stream",
     "text": [
      " * sqlite://\n",
      "(sqlite3.IntegrityError) UNIQUE constraint failed: PART.PART_NUM\n",
      "[SQL: INSERT INTO PART VALUES\n",
      "('AT94','Iron',50,'HW','3',24.95),\n",
      "('BV06','Home Gym',45,'SG','2',794.95),\n",
      "('CD52','Microwave Oven',32,'AP','1',165.00),\n",
      "('DL71','Cordless Drill',21,'HW','3',129.95),\n",
      "('DR93','Gas Range',8,'AP','2',495.00),\n",
      "('DW11','Washer',12,'AP','3',399.99),\n",
      "('FD21','Stand Mixer',22,'HW','3',159.95),\n",
      "('KL62','Dryer',12,'AP','1',349.95),\n",
      "('KT03','Dishwasher',8,'AP','3',595.00),\n",
      "('KV29','Treadmill',9,'SG','2',1390.00);]\n",
      "(Background on this error at: https://sqlalche.me/e/14/gkpj)\n"
     ]
    }
   ],
   "source": [
    "%%sql\n",
    "INSERT INTO PART VALUES\n",
    "('AT94','Iron',50,'HW','3',24.95),\n",
    "('BV06','Home Gym',45,'SG','2',794.95),\n",
    "('CD52','Microwave Oven',32,'AP','1',165.00),\n",
    "('DL71','Cordless Drill',21,'HW','3',129.95),\n",
    "('DR93','Gas Range',8,'AP','2',495.00),\n",
    "('DW11','Washer',12,'AP','3',399.99),\n",
    "('FD21','Stand Mixer',22,'HW','3',159.95),\n",
    "('KL62','Dryer',12,'AP','1',349.95),\n",
    "('KT03','Dishwasher',8,'AP','3',595.00),\n",
    "('KV29','Treadmill',9,'SG','2',1390.00);"
   ]
  },
  {
   "cell_type": "code",
   "execution_count": 91,
   "id": "0a99c228",
   "metadata": {},
   "outputs": [
    {
     "name": "stdout",
     "output_type": "stream",
     "text": [
      " * sqlite://\n",
      "(sqlite3.OperationalError) table ORDER_LINE already exists\n",
      "[SQL: CREATE TABLE ORDER_LINE\n",
      "(ORDER_NUM CHAR(5),\n",
      "PART_NUM CHAR(4),\n",
      "NUM_ORDERED DECIMAL(3,0),\n",
      "QUOTED_PRICE DECIMAL(6,2),\n",
      "PRIMARY KEY (ORDER_NUM, PART_NUM) );]\n",
      "(Background on this error at: https://sqlalche.me/e/14/e3q8)\n"
     ]
    }
   ],
   "source": [
    "%%sql\n",
    "CREATE TABLE ORDER_LINE\n",
    "(ORDER_NUM CHAR(5),\n",
    "PART_NUM CHAR(4),\n",
    "NUM_ORDERED DECIMAL(3,0),\n",
    "QUOTED_PRICE DECIMAL(6,2),\n",
    "PRIMARY KEY (ORDER_NUM, PART_NUM) );"
   ]
  },
  {
   "cell_type": "code",
   "execution_count": 92,
   "id": "a6751be1",
   "metadata": {},
   "outputs": [
    {
     "name": "stdout",
     "output_type": "stream",
     "text": [
      " * sqlite://\n",
      "(sqlite3.IntegrityError) UNIQUE constraint failed: ORDER_LINE.ORDER_NUM, ORDER_LINE.PART_NUM\n",
      "[SQL: INSERT INTO ORDER_LINE VALUES\n",
      "('21608','AT94',11,21.95),\n",
      "('21610','DR93',1,495.00),\n",
      "('21610','DW11',1,399.99),\n",
      "('21613','KL62',4,329.95),\n",
      "('21614','KT03',2,595.00),\n",
      "('21617','BV06',2,794.95),\n",
      "('21617','CD52',4,150.00),\n",
      "('21619','DR93',1,495.00),\n",
      "('21623','KV29',2,1290.00);]\n",
      "(Background on this error at: https://sqlalche.me/e/14/gkpj)\n"
     ]
    }
   ],
   "source": [
    "%%sql\n",
    "INSERT INTO ORDER_LINE VALUES\n",
    "('21608','AT94',11,21.95),\n",
    "('21610','DR93',1,495.00),\n",
    "('21610','DW11',1,399.99),\n",
    "('21613','KL62',4,329.95),\n",
    "('21614','KT03',2,595.00),\n",
    "('21617','BV06',2,794.95),\n",
    "('21617','CD52',4,150.00),\n",
    "('21619','DR93',1,495.00),\n",
    "('21623','KV29',2,1290.00);"
   ]
  },
  {
   "attachments": {},
   "cell_type": "markdown",
   "id": "dc46e64d",
   "metadata": {},
   "source": [
    "### Displaying Tables   "
   ]
  },
  {
   "cell_type": "code",
   "execution_count": 93,
   "id": "692ed935",
   "metadata": {},
   "outputs": [
    {
     "name": "stdout",
     "output_type": "stream",
     "text": [
      " * sqlite://\n",
      "Done.\n"
     ]
    },
    {
     "data": {
      "text/html": [
       "<table>\n",
       "    <tr>\n",
       "        <th>REP_NUM</th>\n",
       "        <th>LAST_NAME</th>\n",
       "        <th>FIRST_NAME</th>\n",
       "        <th>STREET</th>\n",
       "        <th>CITY</th>\n",
       "        <th>STATE</th>\n",
       "        <th>ZIP</th>\n",
       "        <th>COMMISION</th>\n",
       "        <th>RATE</th>\n",
       "    </tr>\n",
       "    <tr>\n",
       "        <td>20</td>\n",
       "        <td>Kaiser</td>\n",
       "        <td>Valerie</td>\n",
       "        <td>624 Randall</td>\n",
       "        <td>Grove</td>\n",
       "        <td>FL</td>\n",
       "        <td>33321</td>\n",
       "        <td>2042.5</td>\n",
       "        <td>0.05</td>\n",
       "    </tr>\n",
       "    <tr>\n",
       "        <td>35</td>\n",
       "        <td>Hull</td>\n",
       "        <td>Richard</td>\n",
       "        <td>532 Jackson</td>\n",
       "        <td>Sheldon</td>\n",
       "        <td>FL</td>\n",
       "        <td>33553</td>\n",
       "        <td>39216</td>\n",
       "        <td>0.07</td>\n",
       "    </tr>\n",
       "    <tr>\n",
       "        <td>65</td>\n",
       "        <td>Perez</td>\n",
       "        <td>Juan</td>\n",
       "        <td>1626 Taylor</td>\n",
       "        <td>Filmore</td>\n",
       "        <td>FL</td>\n",
       "        <td>33336</td>\n",
       "        <td>23487</td>\n",
       "        <td>0.05</td>\n",
       "    </tr>\n",
       "</table>"
      ],
      "text/plain": [
       "[('20', 'Kaiser', 'Valerie', '624 Randall', 'Grove', 'FL', '33321', 2042.5, 0.05),\n",
       " ('35', 'Hull', 'Richard', '532 Jackson', 'Sheldon', 'FL', '33553', 39216, 0.07),\n",
       " ('65', 'Perez', 'Juan', '1626 Taylor', 'Filmore', 'FL', '33336', 23487, 0.05)]"
      ]
     },
     "execution_count": 93,
     "metadata": {},
     "output_type": "execute_result"
    }
   ],
   "source": [
    "%%sql\n",
    "SELECT * FROM REP;"
   ]
  },
  {
   "cell_type": "code",
   "execution_count": 94,
   "id": "1410fa2b",
   "metadata": {},
   "outputs": [
    {
     "name": "stdout",
     "output_type": "stream",
     "text": [
      " * sqlite://\n",
      "Done.\n"
     ]
    },
    {
     "data": {
      "text/html": [
       "<table>\n",
       "    <tr>\n",
       "        <th>CUSTOMER_NUM</th>\n",
       "        <th>CUSTOMER_NAME</th>\n",
       "        <th>STREET</th>\n",
       "        <th>CITY</th>\n",
       "        <th>STATE</th>\n",
       "        <th>ZIP</th>\n",
       "        <th>BALANCE</th>\n",
       "        <th>CREDIT_LIMIT</th>\n",
       "        <th>REP_NUM</th>\n",
       "    </tr>\n",
       "    <tr>\n",
       "        <td>148</td>\n",
       "        <td>Al&#x27;s Appliance and Sport</td>\n",
       "        <td>2837 Greenway</td>\n",
       "        <td>Fillmore</td>\n",
       "        <td>FL</td>\n",
       "        <td>33336</td>\n",
       "        <td>6550</td>\n",
       "        <td>7500</td>\n",
       "        <td>20</td>\n",
       "    </tr>\n",
       "    <tr>\n",
       "        <td>282</td>\n",
       "        <td>Brookings Direct</td>\n",
       "        <td>3827 Devon</td>\n",
       "        <td>Grove</td>\n",
       "        <td>FL</td>\n",
       "        <td>33321</td>\n",
       "        <td>431.5</td>\n",
       "        <td>10000</td>\n",
       "        <td>35</td>\n",
       "    </tr>\n",
       "    <tr>\n",
       "        <td>356</td>\n",
       "        <td>Ferguson&#x27;s</td>\n",
       "        <td>382 Wildwood</td>\n",
       "        <td>Northfield</td>\n",
       "        <td>FL</td>\n",
       "        <td>33146</td>\n",
       "        <td>5785</td>\n",
       "        <td>7500</td>\n",
       "        <td>65</td>\n",
       "    </tr>\n",
       "    <tr>\n",
       "        <td>408</td>\n",
       "        <td>The Everything Shop</td>\n",
       "        <td>1828 Raven</td>\n",
       "        <td>Crystal</td>\n",
       "        <td>FL</td>\n",
       "        <td>33503</td>\n",
       "        <td>5285.25</td>\n",
       "        <td>5000</td>\n",
       "        <td>35</td>\n",
       "    </tr>\n",
       "    <tr>\n",
       "        <td>462</td>\n",
       "        <td>Bargains Galore</td>\n",
       "        <td>3829 Central</td>\n",
       "        <td>Grove</td>\n",
       "        <td>FL</td>\n",
       "        <td>33321</td>\n",
       "        <td>3412</td>\n",
       "        <td>10000</td>\n",
       "        <td>65</td>\n",
       "    </tr>\n",
       "    <tr>\n",
       "        <td>524</td>\n",
       "        <td>Kline&#x27;s</td>\n",
       "        <td>838 Ridgeland</td>\n",
       "        <td>Fillmore</td>\n",
       "        <td>FL</td>\n",
       "        <td>33336</td>\n",
       "        <td>12762</td>\n",
       "        <td>15000</td>\n",
       "        <td>20</td>\n",
       "    </tr>\n",
       "    <tr>\n",
       "        <td>608</td>\n",
       "        <td>Johnson&#x27;s Department Store</td>\n",
       "        <td>372 Oxford</td>\n",
       "        <td>Sheldon</td>\n",
       "        <td>FL</td>\n",
       "        <td>33553</td>\n",
       "        <td>2106</td>\n",
       "        <td>10000</td>\n",
       "        <td>65</td>\n",
       "    </tr>\n",
       "    <tr>\n",
       "        <td>687</td>\n",
       "        <td>Lee&#x27;s Sport and Appliance</td>\n",
       "        <td>282 Evergreen</td>\n",
       "        <td>Altonville</td>\n",
       "        <td>FL</td>\n",
       "        <td>32543</td>\n",
       "        <td>2851</td>\n",
       "        <td>5000</td>\n",
       "        <td>35</td>\n",
       "    </tr>\n",
       "    <tr>\n",
       "        <td>725</td>\n",
       "        <td>Deerfield&#x27;s Four Seasons</td>\n",
       "        <td>282 Columbia</td>\n",
       "        <td>Sheldon</td>\n",
       "        <td>FL</td>\n",
       "        <td>33553</td>\n",
       "        <td>248</td>\n",
       "        <td>7500</td>\n",
       "        <td>35</td>\n",
       "    </tr>\n",
       "    <tr>\n",
       "        <td>842</td>\n",
       "        <td>All Season</td>\n",
       "        <td>28 Lakeview</td>\n",
       "        <td>Grove</td>\n",
       "        <td>FL</td>\n",
       "        <td>33321</td>\n",
       "        <td>8221</td>\n",
       "        <td>7500</td>\n",
       "        <td>20</td>\n",
       "    </tr>\n",
       "</table>"
      ],
      "text/plain": [
       "[('148', \"Al's Appliance and Sport\", '2837 Greenway', 'Fillmore', 'FL', '33336', 6550, 7500, '20'),\n",
       " ('282', 'Brookings Direct', '3827 Devon', 'Grove', 'FL', '33321', 431.5, 10000, '35'),\n",
       " ('356', \"Ferguson's\", '382 Wildwood', 'Northfield', 'FL', '33146', 5785, 7500, '65'),\n",
       " ('408', 'The Everything Shop', '1828 Raven', 'Crystal', 'FL', '33503', 5285.25, 5000, '35'),\n",
       " ('462', 'Bargains Galore', '3829 Central', 'Grove', 'FL', '33321', 3412, 10000, '65'),\n",
       " ('524', \"Kline's\", '838 Ridgeland', 'Fillmore', 'FL', '33336', 12762, 15000, '20'),\n",
       " ('608', \"Johnson's Department Store\", '372 Oxford', 'Sheldon', 'FL', '33553', 2106, 10000, '65'),\n",
       " ('687', \"Lee's Sport and Appliance\", '282 Evergreen', 'Altonville', 'FL', '32543', 2851, 5000, '35'),\n",
       " ('725', \"Deerfield's Four Seasons\", '282 Columbia', 'Sheldon', 'FL', '33553', 248, 7500, '35'),\n",
       " ('842', 'All Season', '28 Lakeview', 'Grove', 'FL', '33321', 8221, 7500, '20')]"
      ]
     },
     "execution_count": 94,
     "metadata": {},
     "output_type": "execute_result"
    }
   ],
   "source": [
    "%%sql\n",
    "SELECT * FROM CUSTOMER;"
   ]
  },
  {
   "cell_type": "code",
   "execution_count": 95,
   "id": "807c2d95",
   "metadata": {},
   "outputs": [
    {
     "name": "stdout",
     "output_type": "stream",
     "text": [
      " * sqlite://\n",
      "Done.\n"
     ]
    },
    {
     "data": {
      "text/html": [
       "<table>\n",
       "    <tr>\n",
       "        <th>ORDER_NUM</th>\n",
       "        <th>ORDER_DATE</th>\n",
       "        <th>CUSTOMER_NUM</th>\n",
       "    </tr>\n",
       "    <tr>\n",
       "        <td>21608</td>\n",
       "        <td>20-OCT-2010</td>\n",
       "        <td>148</td>\n",
       "    </tr>\n",
       "    <tr>\n",
       "        <td>21610</td>\n",
       "        <td>20-OCT-2010</td>\n",
       "        <td>356</td>\n",
       "    </tr>\n",
       "    <tr>\n",
       "        <td>21613</td>\n",
       "        <td>21-OCT-2010</td>\n",
       "        <td>408</td>\n",
       "    </tr>\n",
       "    <tr>\n",
       "        <td>21614</td>\n",
       "        <td>21-OCT-2010</td>\n",
       "        <td>282</td>\n",
       "    </tr>\n",
       "    <tr>\n",
       "        <td>21617</td>\n",
       "        <td>23-OCT-2010</td>\n",
       "        <td>608</td>\n",
       "    </tr>\n",
       "    <tr>\n",
       "        <td>21619</td>\n",
       "        <td>23-OCT-2010</td>\n",
       "        <td>148</td>\n",
       "    </tr>\n",
       "    <tr>\n",
       "        <td>21623</td>\n",
       "        <td>23-OCT-2010</td>\n",
       "        <td>608</td>\n",
       "    </tr>\n",
       "</table>"
      ],
      "text/plain": [
       "[('21608', '20-OCT-2010', '148'),\n",
       " ('21610', '20-OCT-2010', '356'),\n",
       " ('21613', '21-OCT-2010', '408'),\n",
       " ('21614', '21-OCT-2010', '282'),\n",
       " ('21617', '23-OCT-2010', '608'),\n",
       " ('21619', '23-OCT-2010', '148'),\n",
       " ('21623', '23-OCT-2010', '608')]"
      ]
     },
     "execution_count": 95,
     "metadata": {},
     "output_type": "execute_result"
    }
   ],
   "source": [
    "%%sql\n",
    "SELECT * FROM ORDERS;"
   ]
  },
  {
   "cell_type": "code",
   "execution_count": 96,
   "id": "4c251f43",
   "metadata": {},
   "outputs": [
    {
     "name": "stdout",
     "output_type": "stream",
     "text": [
      " * sqlite://\n",
      "Done.\n"
     ]
    },
    {
     "data": {
      "text/html": [
       "<table>\n",
       "    <tr>\n",
       "        <th>ORDER_NUM</th>\n",
       "        <th>PART_NUM</th>\n",
       "        <th>NUM_ORDERED</th>\n",
       "        <th>QUOTED_PRICE</th>\n",
       "    </tr>\n",
       "    <tr>\n",
       "        <td>21608</td>\n",
       "        <td>AT94</td>\n",
       "        <td>11</td>\n",
       "        <td>21.95</td>\n",
       "    </tr>\n",
       "    <tr>\n",
       "        <td>21610</td>\n",
       "        <td>DR93</td>\n",
       "        <td>1</td>\n",
       "        <td>495</td>\n",
       "    </tr>\n",
       "    <tr>\n",
       "        <td>21610</td>\n",
       "        <td>DW11</td>\n",
       "        <td>1</td>\n",
       "        <td>399.99</td>\n",
       "    </tr>\n",
       "    <tr>\n",
       "        <td>21613</td>\n",
       "        <td>KL62</td>\n",
       "        <td>4</td>\n",
       "        <td>329.95</td>\n",
       "    </tr>\n",
       "    <tr>\n",
       "        <td>21614</td>\n",
       "        <td>KT03</td>\n",
       "        <td>2</td>\n",
       "        <td>595</td>\n",
       "    </tr>\n",
       "    <tr>\n",
       "        <td>21617</td>\n",
       "        <td>BV06</td>\n",
       "        <td>2</td>\n",
       "        <td>794.95</td>\n",
       "    </tr>\n",
       "    <tr>\n",
       "        <td>21617</td>\n",
       "        <td>CD52</td>\n",
       "        <td>4</td>\n",
       "        <td>150</td>\n",
       "    </tr>\n",
       "    <tr>\n",
       "        <td>21619</td>\n",
       "        <td>DR93</td>\n",
       "        <td>1</td>\n",
       "        <td>495</td>\n",
       "    </tr>\n",
       "    <tr>\n",
       "        <td>21623</td>\n",
       "        <td>KV29</td>\n",
       "        <td>2</td>\n",
       "        <td>1290</td>\n",
       "    </tr>\n",
       "</table>"
      ],
      "text/plain": [
       "[('21608', 'AT94', 11, 21.95),\n",
       " ('21610', 'DR93', 1, 495),\n",
       " ('21610', 'DW11', 1, 399.99),\n",
       " ('21613', 'KL62', 4, 329.95),\n",
       " ('21614', 'KT03', 2, 595),\n",
       " ('21617', 'BV06', 2, 794.95),\n",
       " ('21617', 'CD52', 4, 150),\n",
       " ('21619', 'DR93', 1, 495),\n",
       " ('21623', 'KV29', 2, 1290)]"
      ]
     },
     "execution_count": 96,
     "metadata": {},
     "output_type": "execute_result"
    }
   ],
   "source": [
    "%%sql\n",
    "SELECT * FROM ORDER_LINE;"
   ]
  },
  {
   "cell_type": "code",
   "execution_count": 97,
   "id": "2a1c99e7",
   "metadata": {},
   "outputs": [
    {
     "name": "stdout",
     "output_type": "stream",
     "text": [
      " * sqlite://\n",
      "Done.\n"
     ]
    },
    {
     "data": {
      "text/html": [
       "<table>\n",
       "    <tr>\n",
       "        <th>PART_NUM</th>\n",
       "        <th>DESCRIPTION</th>\n",
       "        <th>ON_HAND</th>\n",
       "        <th>CLASS</th>\n",
       "        <th>WAREHOUSE</th>\n",
       "        <th>PRICE</th>\n",
       "    </tr>\n",
       "    <tr>\n",
       "        <td>AT94</td>\n",
       "        <td>Iron</td>\n",
       "        <td>50</td>\n",
       "        <td>HW</td>\n",
       "        <td>3</td>\n",
       "        <td>24.95</td>\n",
       "    </tr>\n",
       "    <tr>\n",
       "        <td>BV06</td>\n",
       "        <td>Home Gym</td>\n",
       "        <td>45</td>\n",
       "        <td>SG</td>\n",
       "        <td>2</td>\n",
       "        <td>794.95</td>\n",
       "    </tr>\n",
       "    <tr>\n",
       "        <td>CD52</td>\n",
       "        <td>Microwave Oven</td>\n",
       "        <td>32</td>\n",
       "        <td>AP</td>\n",
       "        <td>1</td>\n",
       "        <td>165</td>\n",
       "    </tr>\n",
       "    <tr>\n",
       "        <td>DL71</td>\n",
       "        <td>Cordless Drill</td>\n",
       "        <td>21</td>\n",
       "        <td>HW</td>\n",
       "        <td>3</td>\n",
       "        <td>129.95</td>\n",
       "    </tr>\n",
       "    <tr>\n",
       "        <td>DR93</td>\n",
       "        <td>Gas Range</td>\n",
       "        <td>8</td>\n",
       "        <td>AP</td>\n",
       "        <td>2</td>\n",
       "        <td>495</td>\n",
       "    </tr>\n",
       "    <tr>\n",
       "        <td>DW11</td>\n",
       "        <td>Washer</td>\n",
       "        <td>12</td>\n",
       "        <td>AP</td>\n",
       "        <td>3</td>\n",
       "        <td>399.99</td>\n",
       "    </tr>\n",
       "    <tr>\n",
       "        <td>FD21</td>\n",
       "        <td>Stand Mixer</td>\n",
       "        <td>22</td>\n",
       "        <td>HW</td>\n",
       "        <td>3</td>\n",
       "        <td>159.95</td>\n",
       "    </tr>\n",
       "    <tr>\n",
       "        <td>KL62</td>\n",
       "        <td>Dryer</td>\n",
       "        <td>12</td>\n",
       "        <td>AP</td>\n",
       "        <td>1</td>\n",
       "        <td>349.95</td>\n",
       "    </tr>\n",
       "    <tr>\n",
       "        <td>KT03</td>\n",
       "        <td>Dishwasher</td>\n",
       "        <td>8</td>\n",
       "        <td>AP</td>\n",
       "        <td>3</td>\n",
       "        <td>595</td>\n",
       "    </tr>\n",
       "    <tr>\n",
       "        <td>KV29</td>\n",
       "        <td>Treadmill</td>\n",
       "        <td>9</td>\n",
       "        <td>SG</td>\n",
       "        <td>2</td>\n",
       "        <td>1390</td>\n",
       "    </tr>\n",
       "</table>"
      ],
      "text/plain": [
       "[('AT94', 'Iron', 50, 'HW', '3', 24.95),\n",
       " ('BV06', 'Home Gym', 45, 'SG', '2', 794.95),\n",
       " ('CD52', 'Microwave Oven', 32, 'AP', '1', 165),\n",
       " ('DL71', 'Cordless Drill', 21, 'HW', '3', 129.95),\n",
       " ('DR93', 'Gas Range', 8, 'AP', '2', 495),\n",
       " ('DW11', 'Washer', 12, 'AP', '3', 399.99),\n",
       " ('FD21', 'Stand Mixer', 22, 'HW', '3', 159.95),\n",
       " ('KL62', 'Dryer', 12, 'AP', '1', 349.95),\n",
       " ('KT03', 'Dishwasher', 8, 'AP', '3', 595),\n",
       " ('KV29', 'Treadmill', 9, 'SG', '2', 1390)]"
      ]
     },
     "execution_count": 97,
     "metadata": {},
     "output_type": "execute_result"
    }
   ],
   "source": [
    "%%sql\n",
    "SELECT * FROM PART;"
   ]
  },
  {
   "cell_type": "markdown",
   "id": "66b35c8a",
   "metadata": {},
   "source": [
    "## A. Warm-up SQL Fundamentals"
   ]
  },
  {
   "cell_type": "markdown",
   "id": "e9a4b4ed",
   "metadata": {},
   "source": [
    "A.1. List the names of all customers that have a credit limit of $7,500 or less."
   ]
  },
  {
   "cell_type": "code",
   "execution_count": 98,
   "id": "5adf8d20",
   "metadata": {},
   "outputs": [
    {
     "name": "stdout",
     "output_type": "stream",
     "text": [
      " * sqlite://\n",
      "Done.\n"
     ]
    },
    {
     "data": {
      "text/html": [
       "<table>\n",
       "    <tr>\n",
       "        <th>CUSTOMER_NAME</th>\n",
       "    </tr>\n",
       "    <tr>\n",
       "        <td>Al&#x27;s Appliance and Sport</td>\n",
       "    </tr>\n",
       "    <tr>\n",
       "        <td>Ferguson&#x27;s</td>\n",
       "    </tr>\n",
       "    <tr>\n",
       "        <td>The Everything Shop</td>\n",
       "    </tr>\n",
       "    <tr>\n",
       "        <td>Lee&#x27;s Sport and Appliance</td>\n",
       "    </tr>\n",
       "    <tr>\n",
       "        <td>Deerfield&#x27;s Four Seasons</td>\n",
       "    </tr>\n",
       "    <tr>\n",
       "        <td>All Season</td>\n",
       "    </tr>\n",
       "</table>"
      ],
      "text/plain": [
       "[(\"Al's Appliance and Sport\",),\n",
       " (\"Ferguson's\",),\n",
       " ('The Everything Shop',),\n",
       " (\"Lee's Sport and Appliance\",),\n",
       " (\"Deerfield's Four Seasons\",),\n",
       " ('All Season',)]"
      ]
     },
     "execution_count": 98,
     "metadata": {},
     "output_type": "execute_result"
    }
   ],
   "source": [
    "%%sql\n",
    "SELECT customer_name\n",
    "FROM customer\n",
    "WHERE credit_limit <= 7500;"
   ]
  },
  {
   "cell_type": "markdown",
   "id": "6f973ad9",
   "metadata": {},
   "source": [
    "A.2. List the order numbers for orders placed by customer number 608 on 10/23/2010."
   ]
  },
  {
   "cell_type": "code",
   "execution_count": 99,
   "id": "a6c9a380",
   "metadata": {},
   "outputs": [
    {
     "name": "stdout",
     "output_type": "stream",
     "text": [
      " * sqlite://\n",
      "Done.\n"
     ]
    },
    {
     "data": {
      "text/html": [
       "<table>\n",
       "    <tr>\n",
       "        <th>ORDER_NUM</th>\n",
       "    </tr>\n",
       "    <tr>\n",
       "        <td>21617</td>\n",
       "    </tr>\n",
       "    <tr>\n",
       "        <td>21623</td>\n",
       "    </tr>\n",
       "</table>"
      ],
      "text/plain": [
       "[('21617',), ('21623',)]"
      ]
     },
     "execution_count": 99,
     "metadata": {},
     "output_type": "execute_result"
    }
   ],
   "source": [
    "%%sql\n",
    "SELECT order_num\n",
    "FROM orders\n",
    "WHERE customer_num = '608' AND order_date = '23-OCT-2010';"
   ]
  },
  {
   "cell_type": "markdown",
   "id": "a8c0e1ae",
   "metadata": {},
   "source": [
    "A.3. List the part number and part description of all parts that are in item class HW."
   ]
  },
  {
   "cell_type": "code",
   "execution_count": 100,
   "id": "ecb7a8bb",
   "metadata": {},
   "outputs": [
    {
     "name": "stdout",
     "output_type": "stream",
     "text": [
      " * sqlite://\n",
      "Done.\n"
     ]
    },
    {
     "data": {
      "text/html": [
       "<table>\n",
       "    <tr>\n",
       "        <th>PART_NUM</th>\n",
       "        <th>DESCRIPTION</th>\n",
       "    </tr>\n",
       "    <tr>\n",
       "        <td>AT94</td>\n",
       "        <td>Iron</td>\n",
       "    </tr>\n",
       "    <tr>\n",
       "        <td>DL71</td>\n",
       "        <td>Cordless Drill</td>\n",
       "    </tr>\n",
       "    <tr>\n",
       "        <td>FD21</td>\n",
       "        <td>Stand Mixer</td>\n",
       "    </tr>\n",
       "</table>"
      ],
      "text/plain": [
       "[('AT94', 'Iron'), ('DL71', 'Cordless Drill'), ('FD21', 'Stand Mixer')]"
      ]
     },
     "execution_count": 100,
     "metadata": {},
     "output_type": "execute_result"
    }
   ],
   "source": [
    "%%sql \n",
    "SELECT part_num, description\n",
    "FROM part\n",
    "WHERE class = 'HW';"
   ]
  },
  {
   "cell_type": "markdown",
   "id": "d001972a",
   "metadata": {},
   "source": [
    "A.4. List the part number, part description, and on-hand value for each part in item class SG. (Hint: On-hand value is the result of multiplying the number of units on hand by the price.)"
   ]
  },
  {
   "cell_type": "code",
   "execution_count": 101,
   "id": "a8978647",
   "metadata": {},
   "outputs": [
    {
     "name": "stdout",
     "output_type": "stream",
     "text": [
      " * sqlite://\n",
      "Done.\n"
     ]
    },
    {
     "data": {
      "text/html": [
       "<table>\n",
       "    <tr>\n",
       "        <th>PART_NUM</th>\n",
       "        <th>DESCRIPTION</th>\n",
       "        <th>ON_HAND_VALUE</th>\n",
       "    </tr>\n",
       "    <tr>\n",
       "        <td>BV06</td>\n",
       "        <td>Home Gym</td>\n",
       "        <td>35772.75</td>\n",
       "    </tr>\n",
       "    <tr>\n",
       "        <td>KV29</td>\n",
       "        <td>Treadmill</td>\n",
       "        <td>12510</td>\n",
       "    </tr>\n",
       "</table>"
      ],
      "text/plain": [
       "[('BV06', 'Home Gym', 35772.75), ('KV29', 'Treadmill', 12510)]"
      ]
     },
     "execution_count": 101,
     "metadata": {},
     "output_type": "execute_result"
    }
   ],
   "source": [
    "%%sql \n",
    "SELECT part_num, description, on_hand * price AS ON_HAND_VALUE\n",
    "FROM part\n",
    "WHERE class = 'SG';"
   ]
  },
  {
   "cell_type": "markdown",
   "id": "5aee6436",
   "metadata": {},
   "source": [
    "A.5. How many customers have a balance that exceeds their credit limit?"
   ]
  },
  {
   "cell_type": "code",
   "execution_count": 145,
   "id": "008e6039",
   "metadata": {},
   "outputs": [
    {
     "name": "stdout",
     "output_type": "stream",
     "text": [
      " * sqlite://\n",
      "Done.\n"
     ]
    },
    {
     "data": {
      "text/html": [
       "<table>\n",
       "    <tr>\n",
       "        <th>COUNT_EXCEEDS_LIMIT</th>\n",
       "    </tr>\n",
       "    <tr>\n",
       "        <td>2</td>\n",
       "    </tr>\n",
       "</table>"
      ],
      "text/plain": [
       "[(2,)]"
      ]
     },
     "execution_count": 145,
     "metadata": {},
     "output_type": "execute_result"
    }
   ],
   "source": [
    "%%sql\n",
    "SELECT COUNT(customer_name) AS COUNT_EXCEEDS_LIMIT\n",
    "FROM customer\n",
    "WHERE credit_limit < balance;"
   ]
  },
  {
   "cell_type": "markdown",
   "id": "112446ac",
   "metadata": {},
   "source": [
    "A.6. What is the part number, description, and price of the least expensive part in the database?"
   ]
  },
  {
   "cell_type": "code",
   "execution_count": 146,
   "id": "3bce70ca",
   "metadata": {},
   "outputs": [
    {
     "name": "stdout",
     "output_type": "stream",
     "text": [
      " * sqlite://\n",
      "Done.\n"
     ]
    },
    {
     "data": {
      "text/html": [
       "<table>\n",
       "    <tr>\n",
       "        <th>PART_NUM</th>\n",
       "        <th>DESCRIPTION</th>\n",
       "        <th>PRICE</th>\n",
       "    </tr>\n",
       "    <tr>\n",
       "        <td>AT94</td>\n",
       "        <td>Iron</td>\n",
       "        <td>24.95</td>\n",
       "    </tr>\n",
       "</table>"
      ],
      "text/plain": [
       "[('AT94', 'Iron', 24.95)]"
      ]
     },
     "execution_count": 146,
     "metadata": {},
     "output_type": "execute_result"
    }
   ],
   "source": [
    "%%sql\n",
    "SELECT part_num, description, price\n",
    "FROM part\n",
    "ORDER BY price ASC\n",
    "LIMIT 1;"
   ]
  },
  {
   "cell_type": "markdown",
   "id": "d88f5ab4",
   "metadata": {},
   "source": [
    "A.7. For each order, list the order number, order date, customer number, and customer name."
   ]
  },
  {
   "cell_type": "code",
   "execution_count": 149,
   "id": "cec9ccab",
   "metadata": {},
   "outputs": [
    {
     "name": "stdout",
     "output_type": "stream",
     "text": [
      " * sqlite://\n",
      "Done.\n"
     ]
    },
    {
     "data": {
      "text/html": [
       "<table>\n",
       "    <tr>\n",
       "        <th>ORDER_NUM</th>\n",
       "        <th>ORDER_DATE</th>\n",
       "        <th>CUSTOMER_NUM</th>\n",
       "        <th>CUSTOMER_NAME</th>\n",
       "    </tr>\n",
       "    <tr>\n",
       "        <td>21608</td>\n",
       "        <td>20-OCT-2010</td>\n",
       "        <td>148</td>\n",
       "        <td>Al&#x27;s Appliance and Sport</td>\n",
       "    </tr>\n",
       "    <tr>\n",
       "        <td>21610</td>\n",
       "        <td>20-OCT-2010</td>\n",
       "        <td>356</td>\n",
       "        <td>Ferguson&#x27;s</td>\n",
       "    </tr>\n",
       "    <tr>\n",
       "        <td>21613</td>\n",
       "        <td>21-OCT-2010</td>\n",
       "        <td>408</td>\n",
       "        <td>The Everything Shop</td>\n",
       "    </tr>\n",
       "    <tr>\n",
       "        <td>21614</td>\n",
       "        <td>21-OCT-2010</td>\n",
       "        <td>282</td>\n",
       "        <td>Brookings Direct</td>\n",
       "    </tr>\n",
       "    <tr>\n",
       "        <td>21617</td>\n",
       "        <td>23-OCT-2010</td>\n",
       "        <td>608</td>\n",
       "        <td>Johnson&#x27;s Department Store</td>\n",
       "    </tr>\n",
       "    <tr>\n",
       "        <td>21619</td>\n",
       "        <td>23-OCT-2010</td>\n",
       "        <td>148</td>\n",
       "        <td>Al&#x27;s Appliance and Sport</td>\n",
       "    </tr>\n",
       "    <tr>\n",
       "        <td>21623</td>\n",
       "        <td>23-OCT-2010</td>\n",
       "        <td>608</td>\n",
       "        <td>Johnson&#x27;s Department Store</td>\n",
       "    </tr>\n",
       "</table>"
      ],
      "text/plain": [
       "[('21608', '20-OCT-2010', '148', \"Al's Appliance and Sport\"),\n",
       " ('21610', '20-OCT-2010', '356', \"Ferguson's\"),\n",
       " ('21613', '21-OCT-2010', '408', 'The Everything Shop'),\n",
       " ('21614', '21-OCT-2010', '282', 'Brookings Direct'),\n",
       " ('21617', '23-OCT-2010', '608', \"Johnson's Department Store\"),\n",
       " ('21619', '23-OCT-2010', '148', \"Al's Appliance and Sport\"),\n",
       " ('21623', '23-OCT-2010', '608', \"Johnson's Department Store\")]"
      ]
     },
     "execution_count": 149,
     "metadata": {},
     "output_type": "execute_result"
    }
   ],
   "source": [
    "%%sql\n",
    "SELECT order_num, order_date, orders.customer_num, customer_name\n",
    "FROM orders\n",
    "LEFT JOIN customer\n",
    "ON orders.customer_num = customer.customer_num;"
   ]
  },
  {
   "cell_type": "markdown",
   "id": "f57e80c0",
   "metadata": {},
   "source": [
    "A.8. For each order placed on October 21, 2010, list the order number, customer number, and customer name."
   ]
  },
  {
   "cell_type": "code",
   "execution_count": 105,
   "id": "f01cd12d",
   "metadata": {},
   "outputs": [
    {
     "name": "stdout",
     "output_type": "stream",
     "text": [
      " * sqlite://\n",
      "Done.\n"
     ]
    },
    {
     "data": {
      "text/html": [
       "<table>\n",
       "    <tr>\n",
       "        <th>ORDER_NUM</th>\n",
       "        <th>CUSTOMER_NUM</th>\n",
       "        <th>CUSTOMER_NAME</th>\n",
       "    </tr>\n",
       "    <tr>\n",
       "        <td>21613</td>\n",
       "        <td>408</td>\n",
       "        <td>The Everything Shop</td>\n",
       "    </tr>\n",
       "    <tr>\n",
       "        <td>21614</td>\n",
       "        <td>282</td>\n",
       "        <td>Brookings Direct</td>\n",
       "    </tr>\n",
       "</table>"
      ],
      "text/plain": [
       "[('21613', '408', 'The Everything Shop'), ('21614', '282', 'Brookings Direct')]"
      ]
     },
     "execution_count": 105,
     "metadata": {},
     "output_type": "execute_result"
    }
   ],
   "source": [
    "%%sql\n",
    "SELECT order_num, orders.customer_num, customer_name\n",
    "FROM orders\n",
    "LEFT JOIN customer\n",
    "ON orders.customer_num = customer.customer_num\n",
    "WHERE order_date = '21-OCT-2010';"
   ]
  },
  {
   "cell_type": "markdown",
   "id": "1f8454fe",
   "metadata": {},
   "source": [
    "A.9. For each order placed on October 21, 2010, list the order number, part number, part description, and item class for each part ordered."
   ]
  },
  {
   "cell_type": "code",
   "execution_count": 106,
   "id": "6332eb76",
   "metadata": {},
   "outputs": [
    {
     "name": "stdout",
     "output_type": "stream",
     "text": [
      " * sqlite://\n",
      "Done.\n"
     ]
    },
    {
     "data": {
      "text/html": [
       "<table>\n",
       "    <tr>\n",
       "        <th>ORDER_NUM</th>\n",
       "        <th>PART_NUM</th>\n",
       "        <th>DESCRIPTION</th>\n",
       "        <th>CLASS</th>\n",
       "    </tr>\n",
       "    <tr>\n",
       "        <td>21613</td>\n",
       "        <td>KL62</td>\n",
       "        <td>Dryer</td>\n",
       "        <td>AP</td>\n",
       "    </tr>\n",
       "    <tr>\n",
       "        <td>21614</td>\n",
       "        <td>KT03</td>\n",
       "        <td>Dishwasher</td>\n",
       "        <td>AP</td>\n",
       "    </tr>\n",
       "</table>"
      ],
      "text/plain": [
       "[('21613', 'KL62', 'Dryer', 'AP'), ('21614', 'KT03', 'Dishwasher', 'AP')]"
      ]
     },
     "execution_count": 106,
     "metadata": {},
     "output_type": "execute_result"
    }
   ],
   "source": [
    "%%sql\n",
    "SELECT orders.order_num, order_line.part_num, part.description, part.class\n",
    "FROM orders\n",
    "LEFT JOIN order_line\n",
    "ON orders.order_num = order_line.order_num\n",
    "LEFT JOIN part\n",
    "ON part.part_num = order_line.part_num\n",
    "WHERE order_date = '21-OCT-2010';"
   ]
  },
  {
   "cell_type": "markdown",
   "id": "498aeea9",
   "metadata": {},
   "source": [
    "## B. Database Design"
   ]
  },
  {
   "cell_type": "markdown",
   "id": "7c5d2439",
   "metadata": {},
   "source": [
    "B. By writing SQL commands for the necessary changes only (i.e., we assume all other commands are given as in the Premier Products database that we created in class and you only need to create the new/modified tables as discussed below) support the following requirements.\n",
    "\n",
    "Hint: To avoid conflicts with existing tables, simply number the new tables by appending the question number, e.g., for part 1 of this question name the customer table customer1.\n",
    "\n",
    "Hint 2: As figures that you include into the Jupyter notebook using img src=\"E-R.png\" are not saved with the notebook but remain links to exernal files, please submit your figures in an additional document."
   ]
  },
  {
   "cell_type": "markdown",
   "id": "04f31f6c",
   "metadata": {},
   "source": [
    "B.1. A customer is not necessarily represented by a single sales rep, but can be represented by several sales reps. When a customer places an order, the sales rep who gets the commission on the order must be in the collection of sales reps who represent the customer. Draw an E-R diagram for the new design and write SQL commands to create tables that are different from the existing tables only."
   ]
  },
  {
   "cell_type": "code",
   "execution_count": 107,
   "id": "d2a40767",
   "metadata": {},
   "outputs": [
    {
     "name": "stdout",
     "output_type": "stream",
     "text": [
      " * sqlite://\n",
      "(sqlite3.OperationalError) table REP1 already exists\n",
      "[SQL: CREATE TABLE REP1\n",
      "(REP_NUM CHAR(2),\n",
      "CUSTOMER_NUM CHAR(3) PRIMARY KEY,\n",
      "LAST_NAME CHAR(15) NOT NULL,\n",
      "FIRST_NAME CHAR(15) NOT NULL,\n",
      "STREET CHAR(15),\n",
      "CITY CHAR(15),\n",
      "STATE CHAR(2),\n",
      "ZIP CHAR(5),\n",
      "COMMISSION DECIMAL(7,2),\n",
      "RATE DECIMAL(3,2) )]\n",
      "(Background on this error at: https://sqlalche.me/e/14/e3q8)\n"
     ]
    }
   ],
   "source": [
    "%%sql\n",
    "CREATE TABLE REP1\n",
    "(REP_NUM CHAR(2),\n",
    "CUSTOMER_NUM CHAR(3) PRIMARY KEY,\n",
    "LAST_NAME CHAR(15) NOT NULL,\n",
    "FIRST_NAME CHAR(15) NOT NULL,\n",
    "STREET CHAR(15),\n",
    "CITY CHAR(15),\n",
    "STATE CHAR(2),\n",
    "ZIP CHAR(5),\n",
    "COMMISSION DECIMAL(7,2),\n",
    "RATE DECIMAL(3,2) )"
   ]
  },
  {
   "cell_type": "code",
   "execution_count": 108,
   "id": "af2007c1",
   "metadata": {},
   "outputs": [
    {
     "name": "stdout",
     "output_type": "stream",
     "text": [
      " * sqlite://\n",
      "(sqlite3.OperationalError) table CUSTOMER1 already exists\n",
      "[SQL: CREATE TABLE CUSTOMER1\n",
      "(CUSTOMER_NUM CHAR(3) PRIMARY KEY,\n",
      "CUSTOMER_NAME CHAR(35) NOT NULL,\n",
      "STREET CHAR(15),\n",
      "CITY CHAR(15),\n",
      "STATE CHAR(2),\n",
      "ZIP CHAR(5),\n",
      "BALANCE DECIMAL(8,2),\n",
      "CREDIT_LIMIT DECIMAL(8,2))]\n",
      "(Background on this error at: https://sqlalche.me/e/14/e3q8)\n"
     ]
    }
   ],
   "source": [
    "%%sql\n",
    "CREATE TABLE CUSTOMER1\n",
    "(CUSTOMER_NUM CHAR(3) PRIMARY KEY,\n",
    "CUSTOMER_NAME CHAR(35) NOT NULL,\n",
    "STREET CHAR(15),\n",
    "CITY CHAR(15),\n",
    "STATE CHAR(2),\n",
    "ZIP CHAR(5),\n",
    "BALANCE DECIMAL(8,2),\n",
    "CREDIT_LIMIT DECIMAL(8,2))"
   ]
  },
  {
   "cell_type": "markdown",
   "id": "dd0fc5f0",
   "metadata": {},
   "source": [
    "B.2. There is no relationship between customers and sales reps. When a customer places an order, any sales rep can process the order. On the order, you need to identify both the customer placing the order and the sales rep responsible for the order. Draw an E-R diagram for the new design and write SQL commands to create tables that are different from the existing tables only."
   ]
  },
  {
   "cell_type": "code",
   "execution_count": 109,
   "id": "3192e09b",
   "metadata": {},
   "outputs": [
    {
     "name": "stdout",
     "output_type": "stream",
     "text": [
      " * sqlite://\n",
      "(sqlite3.OperationalError) table CUSTOMER2 already exists\n",
      "[SQL: CREATE TABLE CUSTOMER2\n",
      "(CUSTOMER_NUM CHAR(3) PRIMARY KEY,\n",
      "CUSTOMER_NAME CHAR(35) NOT NULL,\n",
      "STREET CHAR(15),\n",
      "CITY CHAR(15),\n",
      "STATE CHAR(2),\n",
      "ZIP CHAR(5),\n",
      "BALANCE DECIMAL(8,2),\n",
      "CREDIT_LIMIT DECIMAL(8,2))]\n",
      "(Background on this error at: https://sqlalche.me/e/14/e3q8)\n"
     ]
    }
   ],
   "source": [
    "%%sql\n",
    "CREATE TABLE CUSTOMER2\n",
    "(CUSTOMER_NUM CHAR(3) PRIMARY KEY,\n",
    "CUSTOMER_NAME CHAR(35) NOT NULL,\n",
    "STREET CHAR(15),\n",
    "CITY CHAR(15),\n",
    "STATE CHAR(2),\n",
    "ZIP CHAR(5),\n",
    "BALANCE DECIMAL(8,2),\n",
    "CREDIT_LIMIT DECIMAL(8,2))"
   ]
  },
  {
   "cell_type": "code",
   "execution_count": 110,
   "id": "dbf4fa97",
   "metadata": {},
   "outputs": [
    {
     "name": "stdout",
     "output_type": "stream",
     "text": [
      " * sqlite://\n",
      "(sqlite3.OperationalError) table ORDERS already exists\n",
      "[SQL: CREATE TABLE ORDERS\n",
      "(ORDER_NUM CHAR(5) PRIMARY KEY,\n",
      "ORDER_DATE DATE,\n",
      "CUSTOMER_NUM CHAR(3),\n",
      "REP_NUM CHAR(2));]\n",
      "(Background on this error at: https://sqlalche.me/e/14/e3q8)\n"
     ]
    }
   ],
   "source": [
    "%%sql\n",
    "CREATE TABLE ORDERS\n",
    "(ORDER_NUM CHAR(5) PRIMARY KEY,\n",
    "ORDER_DATE DATE,\n",
    "CUSTOMER_NUM CHAR(3),\n",
    "REP_NUM CHAR(2));"
   ]
  },
  {
   "cell_type": "markdown",
   "id": "e43acfc9",
   "metadata": {},
   "source": [
    "B.3. Using your knowledge of Premiere Products, determine the functional dependencies that exist in the following table. After determining the functional dependencies, convert this table to an equivalent collection of tables that are in third normal form. PART (PART_NUM, DESCRIPTION, ON_HAND, CLASS, WAREHOUSE, PRICE, (ORDER_NUM, ORDER_DATE, CUSTOMER_NUM, CUSTOMER_NAME, NUM_ORDERED, QUOTED_PRICE) )\n",
    "PART_NUM is the primary key of this table. The highlighted text indicates repeating groups, i.e., each part occurs in “many” orders for which we record the order number, date, customer number and so forth.\n",
    "Draw an E-R diagram and write SQL commands that create the collection of tables in 3NF."
   ]
  },
  {
   "attachments": {},
   "cell_type": "markdown",
   "id": "7c05ddbe",
   "metadata": {},
   "source": [
    "Functional dependencies\n",
    "Customer_name is functionally dependent on customer_num\n",
    "Order date is functionally dependent on order_num\n",
    "Description, on_hand, class, warehouse and price are functionally dependent on part_num\n",
    "Num_ordered is functionally dependent on part_num and quoted price\n"
   ]
  },
  {
   "cell_type": "code",
   "execution_count": 111,
   "id": "350d1f1e",
   "metadata": {},
   "outputs": [
    {
     "name": "stdout",
     "output_type": "stream",
     "text": [
      " * sqlite://\n",
      "(sqlite3.OperationalError) table CUSTOMER3 already exists\n",
      "[SQL: CREATE TABLE CUSTOMER3\n",
      "(CUSTOMER_NUM CHAR(3) PRIMARY KEY,\n",
      "CUSTOMER_NAME CHAR(35) NOT NULL)]\n",
      "(Background on this error at: https://sqlalche.me/e/14/e3q8)\n"
     ]
    }
   ],
   "source": [
    "%%sql\n",
    "CREATE TABLE CUSTOMER3\n",
    "(CUSTOMER_NUM CHAR(3) PRIMARY KEY,\n",
    "CUSTOMER_NAME CHAR(35) NOT NULL)"
   ]
  },
  {
   "cell_type": "code",
   "execution_count": 112,
   "id": "e52e90a4",
   "metadata": {},
   "outputs": [
    {
     "name": "stdout",
     "output_type": "stream",
     "text": [
      " * sqlite://\n",
      "(sqlite3.OperationalError) table ORDERS3 already exists\n",
      "[SQL: CREATE TABLE ORDERS3\n",
      "(ORDER_NUM CHAR(5) PRIMARY KEY,\n",
      "CUSTOMER_NUM CHAR(3),\n",
      "ORDER_DATE DATE);]\n",
      "(Background on this error at: https://sqlalche.me/e/14/e3q8)\n"
     ]
    }
   ],
   "source": [
    "%%sql\n",
    "CREATE TABLE ORDERS3\n",
    "(ORDER_NUM CHAR(5) PRIMARY KEY,\n",
    "CUSTOMER_NUM CHAR(3),\n",
    "ORDER_DATE DATE);"
   ]
  },
  {
   "cell_type": "code",
   "execution_count": 113,
   "id": "144cd12b",
   "metadata": {},
   "outputs": [
    {
     "name": "stdout",
     "output_type": "stream",
     "text": [
      " * sqlite://\n",
      "(sqlite3.OperationalError) table PART3 already exists\n",
      "[SQL: CREATE TABLE PART3\n",
      "(PART_NUM CHAR(4) PRIMARY KEY,\n",
      "DESCRIPTION CHAR(15),\n",
      "ON_HAND DECIMAL(4,0),\n",
      "CLASS CHAR(2),\n",
      "WAREHOUSE CHAR(1),\n",
      "PRICE DECIMAL(6,2));]\n",
      "(Background on this error at: https://sqlalche.me/e/14/e3q8)\n"
     ]
    }
   ],
   "source": [
    "%%sql\n",
    "CREATE TABLE PART3\n",
    "(PART_NUM CHAR(4) PRIMARY KEY,\n",
    "DESCRIPTION CHAR(15),\n",
    "ON_HAND DECIMAL(4,0),\n",
    "CLASS CHAR(2),\n",
    "WAREHOUSE CHAR(1),\n",
    "PRICE DECIMAL(6,2));"
   ]
  },
  {
   "cell_type": "code",
   "execution_count": 114,
   "id": "79b94b60",
   "metadata": {},
   "outputs": [
    {
     "name": "stdout",
     "output_type": "stream",
     "text": [
      " * sqlite://\n",
      "(sqlite3.OperationalError) table ORDER_LINE3 already exists\n",
      "[SQL: CREATE TABLE ORDER_LINE3\n",
      "(ORDER_NUM CHAR(5),\n",
      "PART_NUM CHAR(4),\n",
      "NUM_ORDERED DECIMAL(3,0),\n",
      "QUOTED_PRICE DECIMAL(6,2),\n",
      "PRIMARY KEY (PART_NUM, ORDER_NUM) );]\n",
      "(Background on this error at: https://sqlalche.me/e/14/e3q8)\n"
     ]
    }
   ],
   "source": [
    "%%sql\n",
    "CREATE TABLE ORDER_LINE3\n",
    "(ORDER_NUM CHAR(5),\n",
    "PART_NUM CHAR(4),\n",
    "NUM_ORDERED DECIMAL(3,0),\n",
    "QUOTED_PRICE DECIMAL(6,2),\n",
    "PRIMARY KEY (PART_NUM, ORDER_NUM) );"
   ]
  },
  {
   "cell_type": "markdown",
   "id": "37ce36e2",
   "metadata": {},
   "source": [
    "## C. Fundamental SQL"
   ]
  },
  {
   "cell_type": "markdown",
   "id": "a544c89a",
   "metadata": {},
   "source": [
    "C.1. List the number and name of each customer represented by sales rep 35 or sales rep 65."
   ]
  },
  {
   "cell_type": "code",
   "execution_count": 115,
   "id": "2af0d57d",
   "metadata": {},
   "outputs": [
    {
     "name": "stdout",
     "output_type": "stream",
     "text": [
      " * sqlite://\n",
      "Done.\n"
     ]
    },
    {
     "data": {
      "text/html": [
       "<table>\n",
       "    <tr>\n",
       "        <th>CUSTOMER_NUM</th>\n",
       "        <th>CUSTOMER_NAME</th>\n",
       "    </tr>\n",
       "    <tr>\n",
       "        <td>282</td>\n",
       "        <td>Brookings Direct</td>\n",
       "    </tr>\n",
       "    <tr>\n",
       "        <td>356</td>\n",
       "        <td>Ferguson&#x27;s</td>\n",
       "    </tr>\n",
       "    <tr>\n",
       "        <td>408</td>\n",
       "        <td>The Everything Shop</td>\n",
       "    </tr>\n",
       "    <tr>\n",
       "        <td>462</td>\n",
       "        <td>Bargains Galore</td>\n",
       "    </tr>\n",
       "    <tr>\n",
       "        <td>608</td>\n",
       "        <td>Johnson&#x27;s Department Store</td>\n",
       "    </tr>\n",
       "    <tr>\n",
       "        <td>687</td>\n",
       "        <td>Lee&#x27;s Sport and Appliance</td>\n",
       "    </tr>\n",
       "    <tr>\n",
       "        <td>725</td>\n",
       "        <td>Deerfield&#x27;s Four Seasons</td>\n",
       "    </tr>\n",
       "</table>"
      ],
      "text/plain": [
       "[('282', 'Brookings Direct'),\n",
       " ('356', \"Ferguson's\"),\n",
       " ('408', 'The Everything Shop'),\n",
       " ('462', 'Bargains Galore'),\n",
       " ('608', \"Johnson's Department Store\"),\n",
       " ('687', \"Lee's Sport and Appliance\"),\n",
       " ('725', \"Deerfield's Four Seasons\")]"
      ]
     },
     "execution_count": 115,
     "metadata": {},
     "output_type": "execute_result"
    }
   ],
   "source": [
    "%%sql\n",
    "SELECT CUSTOMER_NUM, CUSTOMER_NAME\n",
    "FROM CUSTOMER\n",
    "WHERE REP_NUM = 35 or REP_NUM = 65;"
   ]
  },
  {
   "cell_type": "markdown",
   "id": "aee48bef",
   "metadata": {},
   "source": [
    "C.2. List the part number and part description of each part that is not in item class AP."
   ]
  },
  {
   "cell_type": "code",
   "execution_count": 116,
   "id": "7a2e1959",
   "metadata": {},
   "outputs": [
    {
     "name": "stdout",
     "output_type": "stream",
     "text": [
      " * sqlite://\n",
      "Done.\n"
     ]
    },
    {
     "data": {
      "text/html": [
       "<table>\n",
       "    <tr>\n",
       "        <th>PART_NUM</th>\n",
       "        <th>DESCRIPTION</th>\n",
       "    </tr>\n",
       "    <tr>\n",
       "        <td>AT94</td>\n",
       "        <td>Iron</td>\n",
       "    </tr>\n",
       "    <tr>\n",
       "        <td>BV06</td>\n",
       "        <td>Home Gym</td>\n",
       "    </tr>\n",
       "    <tr>\n",
       "        <td>DL71</td>\n",
       "        <td>Cordless Drill</td>\n",
       "    </tr>\n",
       "    <tr>\n",
       "        <td>FD21</td>\n",
       "        <td>Stand Mixer</td>\n",
       "    </tr>\n",
       "    <tr>\n",
       "        <td>KV29</td>\n",
       "        <td>Treadmill</td>\n",
       "    </tr>\n",
       "</table>"
      ],
      "text/plain": [
       "[('AT94', 'Iron'),\n",
       " ('BV06', 'Home Gym'),\n",
       " ('DL71', 'Cordless Drill'),\n",
       " ('FD21', 'Stand Mixer'),\n",
       " ('KV29', 'Treadmill')]"
      ]
     },
     "execution_count": 116,
     "metadata": {},
     "output_type": "execute_result"
    }
   ],
   "source": [
    "%%sql\n",
    "SELECT PART_NUM, DESCRIPTION\n",
    "FROM PART\n",
    "WHERE CLASS != 'AP';"
   ]
  },
  {
   "cell_type": "markdown",
   "id": "df88f1ea",
   "metadata": {},
   "source": [
    "C.3. List the part number, description, and number of units on hand for each part that has\n",
    "between 10 and 25 units on hand, including both 10 and 25. Do this in different two ways."
   ]
  },
  {
   "attachments": {},
   "cell_type": "markdown",
   "id": "3b5fc847",
   "metadata": {},
   "source": [
    "C.3.1"
   ]
  },
  {
   "cell_type": "code",
   "execution_count": 117,
   "id": "d3deec4a",
   "metadata": {},
   "outputs": [
    {
     "name": "stdout",
     "output_type": "stream",
     "text": [
      " * sqlite://\n",
      "Done.\n"
     ]
    },
    {
     "data": {
      "text/html": [
       "<table>\n",
       "    <tr>\n",
       "        <th>PART_NUM</th>\n",
       "        <th>DESCRIPTION</th>\n",
       "        <th>ON_HAND</th>\n",
       "    </tr>\n",
       "    <tr>\n",
       "        <td>DL71</td>\n",
       "        <td>Cordless Drill</td>\n",
       "        <td>21</td>\n",
       "    </tr>\n",
       "    <tr>\n",
       "        <td>DW11</td>\n",
       "        <td>Washer</td>\n",
       "        <td>12</td>\n",
       "    </tr>\n",
       "    <tr>\n",
       "        <td>FD21</td>\n",
       "        <td>Stand Mixer</td>\n",
       "        <td>22</td>\n",
       "    </tr>\n",
       "    <tr>\n",
       "        <td>KL62</td>\n",
       "        <td>Dryer</td>\n",
       "        <td>12</td>\n",
       "    </tr>\n",
       "</table>"
      ],
      "text/plain": [
       "[('DL71', 'Cordless Drill', 21),\n",
       " ('DW11', 'Washer', 12),\n",
       " ('FD21', 'Stand Mixer', 22),\n",
       " ('KL62', 'Dryer', 12)]"
      ]
     },
     "execution_count": 117,
     "metadata": {},
     "output_type": "execute_result"
    }
   ],
   "source": [
    "%%sql\n",
    "SELECT PART_NUM, DESCRIPTION, ON_HAND\n",
    "FROM PART\n",
    "WHERE ON_HAND >= 10 and ON_HAND <=25;"
   ]
  },
  {
   "attachments": {},
   "cell_type": "markdown",
   "id": "a37fba78",
   "metadata": {},
   "source": [
    "C.3.2"
   ]
  },
  {
   "cell_type": "code",
   "execution_count": 118,
   "id": "348e9d82",
   "metadata": {},
   "outputs": [
    {
     "name": "stdout",
     "output_type": "stream",
     "text": [
      " * sqlite://\n",
      "Done.\n"
     ]
    },
    {
     "data": {
      "text/html": [
       "<table>\n",
       "    <tr>\n",
       "        <th>PART_NUM</th>\n",
       "        <th>DESCRIPTION</th>\n",
       "        <th>ON_HAND</th>\n",
       "    </tr>\n",
       "    <tr>\n",
       "        <td>DL71</td>\n",
       "        <td>Cordless Drill</td>\n",
       "        <td>21</td>\n",
       "    </tr>\n",
       "    <tr>\n",
       "        <td>DW11</td>\n",
       "        <td>Washer</td>\n",
       "        <td>12</td>\n",
       "    </tr>\n",
       "    <tr>\n",
       "        <td>FD21</td>\n",
       "        <td>Stand Mixer</td>\n",
       "        <td>22</td>\n",
       "    </tr>\n",
       "    <tr>\n",
       "        <td>KL62</td>\n",
       "        <td>Dryer</td>\n",
       "        <td>12</td>\n",
       "    </tr>\n",
       "</table>"
      ],
      "text/plain": [
       "[('DL71', 'Cordless Drill', 21),\n",
       " ('DW11', 'Washer', 12),\n",
       " ('FD21', 'Stand Mixer', 22),\n",
       " ('KL62', 'Dryer', 12)]"
      ]
     },
     "execution_count": 118,
     "metadata": {},
     "output_type": "execute_result"
    }
   ],
   "source": [
    "%%sql\n",
    "SELECT PART_NUM, DESCRIPTION, ON_HAND\n",
    "FROM PART\n",
    "WHERE ON_HAND BETWEEN 10 and 25;"
   ]
  },
  {
   "cell_type": "markdown",
   "id": "009cfe0a",
   "metadata": {},
   "source": [
    "C.4. Use the IN operator to list the part number and part description of each part in item class AP or SG."
   ]
  },
  {
   "cell_type": "code",
   "execution_count": 119,
   "id": "9fbb2021",
   "metadata": {},
   "outputs": [
    {
     "name": "stdout",
     "output_type": "stream",
     "text": [
      " * sqlite://\n",
      "Done.\n"
     ]
    },
    {
     "data": {
      "text/html": [
       "<table>\n",
       "    <tr>\n",
       "        <th>PART_NUM</th>\n",
       "        <th>DESCRIPTION</th>\n",
       "    </tr>\n",
       "    <tr>\n",
       "        <td>BV06</td>\n",
       "        <td>Home Gym</td>\n",
       "    </tr>\n",
       "    <tr>\n",
       "        <td>CD52</td>\n",
       "        <td>Microwave Oven</td>\n",
       "    </tr>\n",
       "    <tr>\n",
       "        <td>DR93</td>\n",
       "        <td>Gas Range</td>\n",
       "    </tr>\n",
       "    <tr>\n",
       "        <td>DW11</td>\n",
       "        <td>Washer</td>\n",
       "    </tr>\n",
       "    <tr>\n",
       "        <td>KL62</td>\n",
       "        <td>Dryer</td>\n",
       "    </tr>\n",
       "    <tr>\n",
       "        <td>KT03</td>\n",
       "        <td>Dishwasher</td>\n",
       "    </tr>\n",
       "    <tr>\n",
       "        <td>KV29</td>\n",
       "        <td>Treadmill</td>\n",
       "    </tr>\n",
       "</table>"
      ],
      "text/plain": [
       "[('BV06', 'Home Gym'),\n",
       " ('CD52', 'Microwave Oven'),\n",
       " ('DR93', 'Gas Range'),\n",
       " ('DW11', 'Washer'),\n",
       " ('KL62', 'Dryer'),\n",
       " ('KT03', 'Dishwasher'),\n",
       " ('KV29', 'Treadmill')]"
      ]
     },
     "execution_count": 119,
     "metadata": {},
     "output_type": "execute_result"
    }
   ],
   "source": [
    "%%sql\n",
    "SELECT PART_NUM, DESCRIPTION\n",
    "FROM PART\n",
    "WHERE CLASS IN ('AP', 'SG');"
   ]
  },
  {
   "cell_type": "markdown",
   "id": "030e54ef",
   "metadata": {},
   "source": [
    "C.5. Find the number and name of each customer whose name begins with the letter “B.”"
   ]
  },
  {
   "cell_type": "code",
   "execution_count": 120,
   "id": "26e77bef",
   "metadata": {},
   "outputs": [
    {
     "name": "stdout",
     "output_type": "stream",
     "text": [
      " * sqlite://\n",
      "Done.\n"
     ]
    },
    {
     "data": {
      "text/html": [
       "<table>\n",
       "    <tr>\n",
       "        <th>CUSTOMER_NUM</th>\n",
       "        <th>CUSTOMER_NAME</th>\n",
       "    </tr>\n",
       "    <tr>\n",
       "        <td>282</td>\n",
       "        <td>Brookings Direct</td>\n",
       "    </tr>\n",
       "    <tr>\n",
       "        <td>462</td>\n",
       "        <td>Bargains Galore</td>\n",
       "    </tr>\n",
       "</table>"
      ],
      "text/plain": [
       "[('282', 'Brookings Direct'), ('462', 'Bargains Galore')]"
      ]
     },
     "execution_count": 120,
     "metadata": {},
     "output_type": "execute_result"
    }
   ],
   "source": [
    "%%sql\n",
    "SELECT CUSTOMER_NUM, CUSTOMER_NAME\n",
    "FROM CUSTOMER\n",
    "WHERE CUSTOMER_NAME LIKE \"B%\""
   ]
  },
  {
   "cell_type": "markdown",
   "id": "425bcea7",
   "metadata": {},
   "source": [
    "C.6. List all details about all parts. Order the output by part description."
   ]
  },
  {
   "cell_type": "code",
   "execution_count": 121,
   "id": "f782c1f8",
   "metadata": {},
   "outputs": [
    {
     "name": "stdout",
     "output_type": "stream",
     "text": [
      " * sqlite://\n",
      "Done.\n"
     ]
    },
    {
     "data": {
      "text/html": [
       "<table>\n",
       "    <tr>\n",
       "        <th>PART_NUM</th>\n",
       "        <th>DESCRIPTION</th>\n",
       "        <th>ON_HAND</th>\n",
       "        <th>CLASS</th>\n",
       "        <th>WAREHOUSE</th>\n",
       "        <th>PRICE</th>\n",
       "    </tr>\n",
       "    <tr>\n",
       "        <td>DL71</td>\n",
       "        <td>Cordless Drill</td>\n",
       "        <td>21</td>\n",
       "        <td>HW</td>\n",
       "        <td>3</td>\n",
       "        <td>129.95</td>\n",
       "    </tr>\n",
       "    <tr>\n",
       "        <td>KT03</td>\n",
       "        <td>Dishwasher</td>\n",
       "        <td>8</td>\n",
       "        <td>AP</td>\n",
       "        <td>3</td>\n",
       "        <td>595</td>\n",
       "    </tr>\n",
       "    <tr>\n",
       "        <td>KL62</td>\n",
       "        <td>Dryer</td>\n",
       "        <td>12</td>\n",
       "        <td>AP</td>\n",
       "        <td>1</td>\n",
       "        <td>349.95</td>\n",
       "    </tr>\n",
       "    <tr>\n",
       "        <td>DR93</td>\n",
       "        <td>Gas Range</td>\n",
       "        <td>8</td>\n",
       "        <td>AP</td>\n",
       "        <td>2</td>\n",
       "        <td>495</td>\n",
       "    </tr>\n",
       "    <tr>\n",
       "        <td>BV06</td>\n",
       "        <td>Home Gym</td>\n",
       "        <td>45</td>\n",
       "        <td>SG</td>\n",
       "        <td>2</td>\n",
       "        <td>794.95</td>\n",
       "    </tr>\n",
       "    <tr>\n",
       "        <td>AT94</td>\n",
       "        <td>Iron</td>\n",
       "        <td>50</td>\n",
       "        <td>HW</td>\n",
       "        <td>3</td>\n",
       "        <td>24.95</td>\n",
       "    </tr>\n",
       "    <tr>\n",
       "        <td>CD52</td>\n",
       "        <td>Microwave Oven</td>\n",
       "        <td>32</td>\n",
       "        <td>AP</td>\n",
       "        <td>1</td>\n",
       "        <td>165</td>\n",
       "    </tr>\n",
       "    <tr>\n",
       "        <td>FD21</td>\n",
       "        <td>Stand Mixer</td>\n",
       "        <td>22</td>\n",
       "        <td>HW</td>\n",
       "        <td>3</td>\n",
       "        <td>159.95</td>\n",
       "    </tr>\n",
       "    <tr>\n",
       "        <td>KV29</td>\n",
       "        <td>Treadmill</td>\n",
       "        <td>9</td>\n",
       "        <td>SG</td>\n",
       "        <td>2</td>\n",
       "        <td>1390</td>\n",
       "    </tr>\n",
       "    <tr>\n",
       "        <td>DW11</td>\n",
       "        <td>Washer</td>\n",
       "        <td>12</td>\n",
       "        <td>AP</td>\n",
       "        <td>3</td>\n",
       "        <td>399.99</td>\n",
       "    </tr>\n",
       "</table>"
      ],
      "text/plain": [
       "[('DL71', 'Cordless Drill', 21, 'HW', '3', 129.95),\n",
       " ('KT03', 'Dishwasher', 8, 'AP', '3', 595),\n",
       " ('KL62', 'Dryer', 12, 'AP', '1', 349.95),\n",
       " ('DR93', 'Gas Range', 8, 'AP', '2', 495),\n",
       " ('BV06', 'Home Gym', 45, 'SG', '2', 794.95),\n",
       " ('AT94', 'Iron', 50, 'HW', '3', 24.95),\n",
       " ('CD52', 'Microwave Oven', 32, 'AP', '1', 165),\n",
       " ('FD21', 'Stand Mixer', 22, 'HW', '3', 159.95),\n",
       " ('KV29', 'Treadmill', 9, 'SG', '2', 1390),\n",
       " ('DW11', 'Washer', 12, 'AP', '3', 399.99)]"
      ]
     },
     "execution_count": 121,
     "metadata": {},
     "output_type": "execute_result"
    }
   ],
   "source": [
    "%%sql\n",
    "SELECT * \n",
    "FROM PART\n",
    "ORDER BY DESCRIPTION;"
   ]
  },
  {
   "cell_type": "markdown",
   "id": "7ef47a9d",
   "metadata": {},
   "source": [
    "C.7. List all details about all parts. Order the output by part number within warehouse. (That is, order the output by warehouse and then by part number.)"
   ]
  },
  {
   "cell_type": "code",
   "execution_count": 122,
   "id": "d1c8230c",
   "metadata": {},
   "outputs": [
    {
     "name": "stdout",
     "output_type": "stream",
     "text": [
      " * sqlite://\n",
      "Done.\n"
     ]
    },
    {
     "data": {
      "text/html": [
       "<table>\n",
       "    <tr>\n",
       "        <th>PART_NUM</th>\n",
       "        <th>DESCRIPTION</th>\n",
       "        <th>ON_HAND</th>\n",
       "        <th>CLASS</th>\n",
       "        <th>WAREHOUSE</th>\n",
       "        <th>PRICE</th>\n",
       "    </tr>\n",
       "    <tr>\n",
       "        <td>CD52</td>\n",
       "        <td>Microwave Oven</td>\n",
       "        <td>32</td>\n",
       "        <td>AP</td>\n",
       "        <td>1</td>\n",
       "        <td>165</td>\n",
       "    </tr>\n",
       "    <tr>\n",
       "        <td>KL62</td>\n",
       "        <td>Dryer</td>\n",
       "        <td>12</td>\n",
       "        <td>AP</td>\n",
       "        <td>1</td>\n",
       "        <td>349.95</td>\n",
       "    </tr>\n",
       "    <tr>\n",
       "        <td>BV06</td>\n",
       "        <td>Home Gym</td>\n",
       "        <td>45</td>\n",
       "        <td>SG</td>\n",
       "        <td>2</td>\n",
       "        <td>794.95</td>\n",
       "    </tr>\n",
       "    <tr>\n",
       "        <td>DR93</td>\n",
       "        <td>Gas Range</td>\n",
       "        <td>8</td>\n",
       "        <td>AP</td>\n",
       "        <td>2</td>\n",
       "        <td>495</td>\n",
       "    </tr>\n",
       "    <tr>\n",
       "        <td>KV29</td>\n",
       "        <td>Treadmill</td>\n",
       "        <td>9</td>\n",
       "        <td>SG</td>\n",
       "        <td>2</td>\n",
       "        <td>1390</td>\n",
       "    </tr>\n",
       "    <tr>\n",
       "        <td>AT94</td>\n",
       "        <td>Iron</td>\n",
       "        <td>50</td>\n",
       "        <td>HW</td>\n",
       "        <td>3</td>\n",
       "        <td>24.95</td>\n",
       "    </tr>\n",
       "    <tr>\n",
       "        <td>DL71</td>\n",
       "        <td>Cordless Drill</td>\n",
       "        <td>21</td>\n",
       "        <td>HW</td>\n",
       "        <td>3</td>\n",
       "        <td>129.95</td>\n",
       "    </tr>\n",
       "    <tr>\n",
       "        <td>DW11</td>\n",
       "        <td>Washer</td>\n",
       "        <td>12</td>\n",
       "        <td>AP</td>\n",
       "        <td>3</td>\n",
       "        <td>399.99</td>\n",
       "    </tr>\n",
       "    <tr>\n",
       "        <td>FD21</td>\n",
       "        <td>Stand Mixer</td>\n",
       "        <td>22</td>\n",
       "        <td>HW</td>\n",
       "        <td>3</td>\n",
       "        <td>159.95</td>\n",
       "    </tr>\n",
       "    <tr>\n",
       "        <td>KT03</td>\n",
       "        <td>Dishwasher</td>\n",
       "        <td>8</td>\n",
       "        <td>AP</td>\n",
       "        <td>3</td>\n",
       "        <td>595</td>\n",
       "    </tr>\n",
       "</table>"
      ],
      "text/plain": [
       "[('CD52', 'Microwave Oven', 32, 'AP', '1', 165),\n",
       " ('KL62', 'Dryer', 12, 'AP', '1', 349.95),\n",
       " ('BV06', 'Home Gym', 45, 'SG', '2', 794.95),\n",
       " ('DR93', 'Gas Range', 8, 'AP', '2', 495),\n",
       " ('KV29', 'Treadmill', 9, 'SG', '2', 1390),\n",
       " ('AT94', 'Iron', 50, 'HW', '3', 24.95),\n",
       " ('DL71', 'Cordless Drill', 21, 'HW', '3', 129.95),\n",
       " ('DW11', 'Washer', 12, 'AP', '3', 399.99),\n",
       " ('FD21', 'Stand Mixer', 22, 'HW', '3', 159.95),\n",
       " ('KT03', 'Dishwasher', 8, 'AP', '3', 595)]"
      ]
     },
     "execution_count": 122,
     "metadata": {},
     "output_type": "execute_result"
    }
   ],
   "source": [
    "%%sql\n",
    "SELECT * \n",
    "FROM PART\n",
    "ORDER BY WAREHOUSE, PART_NUM;"
   ]
  },
  {
   "attachments": {},
   "cell_type": "markdown",
   "id": "4fb72a1a",
   "metadata": {},
   "source": [
    "C.8. List the part number, part description, and on-hand value of each part whose number of units on hand is more than the average number of units on hand for all parts. (Hint: Use a subquery.)\n"
   ]
  },
  {
   "cell_type": "code",
   "execution_count": 123,
   "id": "eac57006",
   "metadata": {},
   "outputs": [
    {
     "name": "stdout",
     "output_type": "stream",
     "text": [
      " * sqlite://\n",
      "Done.\n"
     ]
    },
    {
     "data": {
      "text/html": [
       "<table>\n",
       "    <tr>\n",
       "        <th>PART_NUM</th>\n",
       "        <th>DESCRIPTION</th>\n",
       "        <th>ON_HAND</th>\n",
       "    </tr>\n",
       "    <tr>\n",
       "        <td>AT94</td>\n",
       "        <td>Iron</td>\n",
       "        <td>50</td>\n",
       "    </tr>\n",
       "    <tr>\n",
       "        <td>BV06</td>\n",
       "        <td>Home Gym</td>\n",
       "        <td>45</td>\n",
       "    </tr>\n",
       "    <tr>\n",
       "        <td>CD52</td>\n",
       "        <td>Microwave Oven</td>\n",
       "        <td>32</td>\n",
       "    </tr>\n",
       "    <tr>\n",
       "        <td>FD21</td>\n",
       "        <td>Stand Mixer</td>\n",
       "        <td>22</td>\n",
       "    </tr>\n",
       "</table>"
      ],
      "text/plain": [
       "[('AT94', 'Iron', 50),\n",
       " ('BV06', 'Home Gym', 45),\n",
       " ('CD52', 'Microwave Oven', 32),\n",
       " ('FD21', 'Stand Mixer', 22)]"
      ]
     },
     "execution_count": 123,
     "metadata": {},
     "output_type": "execute_result"
    }
   ],
   "source": [
    "%%sql\n",
    "SELECT PART_NUM, DESCRIPTION, ON_HAND\n",
    "FROM PART, \n",
    "    (SELECT AVG(ON_HAND) AS avg_on_hand FROM PART) Q\n",
    "WHERE ON_HAND > avg_on_hand;"
   ]
  },
  {
   "attachments": {},
   "cell_type": "markdown",
   "id": "5d1d273c",
   "metadata": {},
   "source": [
    "C.9. List the sum of the balances of all customers for each sales rep. Order and group the results by sales rep number."
   ]
  },
  {
   "cell_type": "code",
   "execution_count": 124,
   "id": "e034afa1",
   "metadata": {},
   "outputs": [
    {
     "name": "stdout",
     "output_type": "stream",
     "text": [
      " * sqlite://\n",
      "Done.\n"
     ]
    },
    {
     "data": {
      "text/html": [
       "<table>\n",
       "    <tr>\n",
       "        <th>REP_NUM</th>\n",
       "        <th>sum_balance</th>\n",
       "    </tr>\n",
       "    <tr>\n",
       "        <td>20</td>\n",
       "        <td>27533</td>\n",
       "    </tr>\n",
       "    <tr>\n",
       "        <td>35</td>\n",
       "        <td>8815.75</td>\n",
       "    </tr>\n",
       "    <tr>\n",
       "        <td>65</td>\n",
       "        <td>11303</td>\n",
       "    </tr>\n",
       "</table>"
      ],
      "text/plain": [
       "[('20', 27533), ('35', 8815.75), ('65', 11303)]"
      ]
     },
     "execution_count": 124,
     "metadata": {},
     "output_type": "execute_result"
    }
   ],
   "source": [
    "%%sql\n",
    "SELECT REP_NUM, SUM(BALANCE) AS sum_balance\n",
    "FROM CUSTOMER\n",
    "GROUP BY REP_NUM\n",
    "ORDER BY REP_NUM;"
   ]
  },
  {
   "cell_type": "markdown",
   "id": "54b17f56",
   "metadata": {},
   "source": [
    "C.10. List the sum of the balances of all customers for each sales rep, but restrict the output to those sales reps for which the sum is more than $10,000. Order the results by sales rep number."
   ]
  },
  {
   "cell_type": "code",
   "execution_count": 125,
   "id": "c5b82aa2",
   "metadata": {},
   "outputs": [
    {
     "name": "stdout",
     "output_type": "stream",
     "text": [
      " * sqlite://\n",
      "Done.\n"
     ]
    },
    {
     "data": {
      "text/html": [
       "<table>\n",
       "    <tr>\n",
       "        <th>REP_NUM</th>\n",
       "        <th>sum_balance</th>\n",
       "    </tr>\n",
       "    <tr>\n",
       "        <td>20</td>\n",
       "        <td>27533</td>\n",
       "    </tr>\n",
       "    <tr>\n",
       "        <td>65</td>\n",
       "        <td>11303</td>\n",
       "    </tr>\n",
       "</table>"
      ],
      "text/plain": [
       "[('20', 27533), ('65', 11303)]"
      ]
     },
     "execution_count": 125,
     "metadata": {},
     "output_type": "execute_result"
    }
   ],
   "source": [
    "%%sql\n",
    "SELECT REP_NUM, SUM(BALANCE) AS sum_balance\n",
    "FROM CUSTOMER\n",
    "GROUP BY REP_NUM\n",
    "HAVING SUM(BALANCE) > 10000\n",
    "ORDER BY REP_NUM;\n"
   ]
  },
  {
   "cell_type": "markdown",
   "id": "df0d5dd3",
   "metadata": {},
   "source": [
    "C.11. List the part number of any part with an unknown description."
   ]
  },
  {
   "cell_type": "code",
   "execution_count": 126,
   "id": "801b3452",
   "metadata": {},
   "outputs": [
    {
     "name": "stdout",
     "output_type": "stream",
     "text": [
      " * sqlite://\n",
      "Done.\n"
     ]
    },
    {
     "data": {
      "text/html": [
       "<table>\n",
       "    <tr>\n",
       "        <th>PART_NUM</th>\n",
       "    </tr>\n",
       "</table>"
      ],
      "text/plain": [
       "[]"
      ]
     },
     "execution_count": 126,
     "metadata": {},
     "output_type": "execute_result"
    }
   ],
   "source": [
    "%%sql\n",
    "SELECT PART_NUM\n",
    "FROM PART \n",
    "WHERE DESCRIPTION IS NULL;"
   ]
  },
  {
   "cell_type": "markdown",
   "id": "b3a792bd",
   "metadata": {},
   "source": [
    "# D. More Advanced SQL"
   ]
  },
  {
   "cell_type": "markdown",
   "id": "8dcb2907",
   "metadata": {},
   "source": [
    "D.1. For each order, list the order number and order date along with the number and name of the customer that placed the order."
   ]
  },
  {
   "cell_type": "code",
   "execution_count": 127,
   "id": "bb7ffd97",
   "metadata": {},
   "outputs": [
    {
     "name": "stdout",
     "output_type": "stream",
     "text": [
      " * sqlite://\n",
      "Done.\n"
     ]
    },
    {
     "data": {
      "text/html": [
       "<table>\n",
       "    <tr>\n",
       "        <th>ORDER_NUM</th>\n",
       "        <th>ORDER_DATE</th>\n",
       "        <th>CUSTOMER_NUM</th>\n",
       "        <th>CUSTOMER_NAME</th>\n",
       "    </tr>\n",
       "    <tr>\n",
       "        <td>21608</td>\n",
       "        <td>20-OCT-2010</td>\n",
       "        <td>148</td>\n",
       "        <td>Al&#x27;s Appliance and Sport</td>\n",
       "    </tr>\n",
       "    <tr>\n",
       "        <td>21610</td>\n",
       "        <td>20-OCT-2010</td>\n",
       "        <td>356</td>\n",
       "        <td>Ferguson&#x27;s</td>\n",
       "    </tr>\n",
       "    <tr>\n",
       "        <td>21613</td>\n",
       "        <td>21-OCT-2010</td>\n",
       "        <td>408</td>\n",
       "        <td>The Everything Shop</td>\n",
       "    </tr>\n",
       "    <tr>\n",
       "        <td>21614</td>\n",
       "        <td>21-OCT-2010</td>\n",
       "        <td>282</td>\n",
       "        <td>Brookings Direct</td>\n",
       "    </tr>\n",
       "    <tr>\n",
       "        <td>21617</td>\n",
       "        <td>23-OCT-2010</td>\n",
       "        <td>608</td>\n",
       "        <td>Johnson&#x27;s Department Store</td>\n",
       "    </tr>\n",
       "    <tr>\n",
       "        <td>21619</td>\n",
       "        <td>23-OCT-2010</td>\n",
       "        <td>148</td>\n",
       "        <td>Al&#x27;s Appliance and Sport</td>\n",
       "    </tr>\n",
       "    <tr>\n",
       "        <td>21623</td>\n",
       "        <td>23-OCT-2010</td>\n",
       "        <td>608</td>\n",
       "        <td>Johnson&#x27;s Department Store</td>\n",
       "    </tr>\n",
       "</table>"
      ],
      "text/plain": [
       "[('21608', '20-OCT-2010', '148', \"Al's Appliance and Sport\"),\n",
       " ('21610', '20-OCT-2010', '356', \"Ferguson's\"),\n",
       " ('21613', '21-OCT-2010', '408', 'The Everything Shop'),\n",
       " ('21614', '21-OCT-2010', '282', 'Brookings Direct'),\n",
       " ('21617', '23-OCT-2010', '608', \"Johnson's Department Store\"),\n",
       " ('21619', '23-OCT-2010', '148', \"Al's Appliance and Sport\"),\n",
       " ('21623', '23-OCT-2010', '608', \"Johnson's Department Store\")]"
      ]
     },
     "execution_count": 127,
     "metadata": {},
     "output_type": "execute_result"
    }
   ],
   "source": [
    "%%sql\n",
    "SELECT order_num, order_date, customer.customer_num, customer_name\n",
    "FROM orders\n",
    "LEFT JOIN customer\n",
    "ON orders.customer_num = customer.customer_num;"
   ]
  },
  {
   "attachments": {},
   "cell_type": "markdown",
   "id": "74b33a0a",
   "metadata": {},
   "source": [
    "D.2. For each order placed on October 23, 2010, list the order number along with the number and name of the customer that placed the order"
   ]
  },
  {
   "cell_type": "code",
   "execution_count": 128,
   "id": "0b893013",
   "metadata": {},
   "outputs": [
    {
     "name": "stdout",
     "output_type": "stream",
     "text": [
      " * sqlite://\n",
      "Done.\n"
     ]
    },
    {
     "data": {
      "text/html": [
       "<table>\n",
       "    <tr>\n",
       "        <th>ORDER_NUM</th>\n",
       "        <th>CUSTOMER_NUM</th>\n",
       "        <th>CUSTOMER_NAME</th>\n",
       "    </tr>\n",
       "    <tr>\n",
       "        <td>21617</td>\n",
       "        <td>608</td>\n",
       "        <td>Johnson&#x27;s Department Store</td>\n",
       "    </tr>\n",
       "    <tr>\n",
       "        <td>21619</td>\n",
       "        <td>148</td>\n",
       "        <td>Al&#x27;s Appliance and Sport</td>\n",
       "    </tr>\n",
       "    <tr>\n",
       "        <td>21623</td>\n",
       "        <td>608</td>\n",
       "        <td>Johnson&#x27;s Department Store</td>\n",
       "    </tr>\n",
       "</table>"
      ],
      "text/plain": [
       "[('21617', '608', \"Johnson's Department Store\"),\n",
       " ('21619', '148', \"Al's Appliance and Sport\"),\n",
       " ('21623', '608', \"Johnson's Department Store\")]"
      ]
     },
     "execution_count": 128,
     "metadata": {},
     "output_type": "execute_result"
    }
   ],
   "source": [
    "%%sql\n",
    "SELECT order_num, customer.customer_num, customer_name\n",
    "FROM orders\n",
    "LEFT JOIN customer\n",
    "ON orders.customer_num = customer.customer_num\n",
    "WHERE order_date = '23-OCT-2010';"
   ]
  },
  {
   "cell_type": "markdown",
   "id": "62e993a4",
   "metadata": {},
   "source": [
    "D.3. For each order, list the order number, order date, part number, number of units ordered, and quoted price for each order line that makes up the order."
   ]
  },
  {
   "cell_type": "code",
   "execution_count": 129,
   "id": "ef8922ae",
   "metadata": {},
   "outputs": [
    {
     "name": "stdout",
     "output_type": "stream",
     "text": [
      " * sqlite://\n",
      "Done.\n"
     ]
    },
    {
     "data": {
      "text/html": [
       "<table>\n",
       "    <tr>\n",
       "        <th>ORDER_NUM</th>\n",
       "        <th>ORDER_DATE</th>\n",
       "        <th>PART_NUM</th>\n",
       "        <th>NUM_ORDERED</th>\n",
       "        <th>QUOTED_PRICE</th>\n",
       "    </tr>\n",
       "    <tr>\n",
       "        <td>21608</td>\n",
       "        <td>20-OCT-2010</td>\n",
       "        <td>AT94</td>\n",
       "        <td>11</td>\n",
       "        <td>21.95</td>\n",
       "    </tr>\n",
       "    <tr>\n",
       "        <td>21610</td>\n",
       "        <td>20-OCT-2010</td>\n",
       "        <td>DR93</td>\n",
       "        <td>1</td>\n",
       "        <td>495</td>\n",
       "    </tr>\n",
       "    <tr>\n",
       "        <td>21610</td>\n",
       "        <td>20-OCT-2010</td>\n",
       "        <td>DW11</td>\n",
       "        <td>1</td>\n",
       "        <td>399.99</td>\n",
       "    </tr>\n",
       "    <tr>\n",
       "        <td>21613</td>\n",
       "        <td>21-OCT-2010</td>\n",
       "        <td>KL62</td>\n",
       "        <td>4</td>\n",
       "        <td>329.95</td>\n",
       "    </tr>\n",
       "    <tr>\n",
       "        <td>21614</td>\n",
       "        <td>21-OCT-2010</td>\n",
       "        <td>KT03</td>\n",
       "        <td>2</td>\n",
       "        <td>595</td>\n",
       "    </tr>\n",
       "    <tr>\n",
       "        <td>21617</td>\n",
       "        <td>23-OCT-2010</td>\n",
       "        <td>BV06</td>\n",
       "        <td>2</td>\n",
       "        <td>794.95</td>\n",
       "    </tr>\n",
       "    <tr>\n",
       "        <td>21617</td>\n",
       "        <td>23-OCT-2010</td>\n",
       "        <td>CD52</td>\n",
       "        <td>4</td>\n",
       "        <td>150</td>\n",
       "    </tr>\n",
       "    <tr>\n",
       "        <td>21619</td>\n",
       "        <td>23-OCT-2010</td>\n",
       "        <td>DR93</td>\n",
       "        <td>1</td>\n",
       "        <td>495</td>\n",
       "    </tr>\n",
       "    <tr>\n",
       "        <td>21623</td>\n",
       "        <td>23-OCT-2010</td>\n",
       "        <td>KV29</td>\n",
       "        <td>2</td>\n",
       "        <td>1290</td>\n",
       "    </tr>\n",
       "</table>"
      ],
      "text/plain": [
       "[('21608', '20-OCT-2010', 'AT94', 11, 21.95),\n",
       " ('21610', '20-OCT-2010', 'DR93', 1, 495),\n",
       " ('21610', '20-OCT-2010', 'DW11', 1, 399.99),\n",
       " ('21613', '21-OCT-2010', 'KL62', 4, 329.95),\n",
       " ('21614', '21-OCT-2010', 'KT03', 2, 595),\n",
       " ('21617', '23-OCT-2010', 'BV06', 2, 794.95),\n",
       " ('21617', '23-OCT-2010', 'CD52', 4, 150),\n",
       " ('21619', '23-OCT-2010', 'DR93', 1, 495),\n",
       " ('21623', '23-OCT-2010', 'KV29', 2, 1290)]"
      ]
     },
     "execution_count": 129,
     "metadata": {},
     "output_type": "execute_result"
    }
   ],
   "source": [
    "%%sql\n",
    "SELECT orders.order_num, order_date, part_num, num_ordered, quoted_price\n",
    "FROM orders\n",
    "LEFT JOIN order_line\n",
    "ON orders.order_num = order_line.order_num;"
   ]
  },
  {
   "cell_type": "markdown",
   "id": "0bf20260",
   "metadata": {},
   "source": [
    "D.4. Use the IN operator to find the number and name of each customer that placed an order on October 23, 2010."
   ]
  },
  {
   "cell_type": "code",
   "execution_count": 130,
   "id": "11589be3",
   "metadata": {},
   "outputs": [
    {
     "name": "stdout",
     "output_type": "stream",
     "text": [
      " * sqlite://\n",
      "Done.\n"
     ]
    },
    {
     "data": {
      "text/html": [
       "<table>\n",
       "    <tr>\n",
       "        <th>CUSTOMER_NUM</th>\n",
       "        <th>CUSTOMER_NAME</th>\n",
       "    </tr>\n",
       "    <tr>\n",
       "        <td>148</td>\n",
       "        <td>Al&#x27;s Appliance and Sport</td>\n",
       "    </tr>\n",
       "    <tr>\n",
       "        <td>608</td>\n",
       "        <td>Johnson&#x27;s Department Store</td>\n",
       "    </tr>\n",
       "</table>"
      ],
      "text/plain": [
       "[('148', \"Al's Appliance and Sport\"), ('608', \"Johnson's Department Store\")]"
      ]
     },
     "execution_count": 130,
     "metadata": {},
     "output_type": "execute_result"
    }
   ],
   "source": [
    "%%sql\n",
    "SELECT customer_num, customer_name\n",
    "FROM customer\n",
    "WHERE customer_num IN \n",
    "(SELECT customer_num FROM orders\n",
    "WHERE order_date = '23-OCT-2010');"
   ]
  },
  {
   "cell_type": "markdown",
   "id": "cf01111a",
   "metadata": {},
   "source": [
    "D.5. Repeat Exercise 4, but this time use the EXISTS operator in your answer."
   ]
  },
  {
   "cell_type": "code",
   "execution_count": 131,
   "id": "3154480d",
   "metadata": {},
   "outputs": [
    {
     "name": "stdout",
     "output_type": "stream",
     "text": [
      " * sqlite://\n",
      "Done.\n"
     ]
    },
    {
     "data": {
      "text/html": [
       "<table>\n",
       "    <tr>\n",
       "        <th>CUSTOMER_NUM</th>\n",
       "        <th>CUSTOMER_NAME</th>\n",
       "    </tr>\n",
       "    <tr>\n",
       "        <td>148</td>\n",
       "        <td>Al&#x27;s Appliance and Sport</td>\n",
       "    </tr>\n",
       "    <tr>\n",
       "        <td>608</td>\n",
       "        <td>Johnson&#x27;s Department Store</td>\n",
       "    </tr>\n",
       "</table>"
      ],
      "text/plain": [
       "[('148', \"Al's Appliance and Sport\"), ('608', \"Johnson's Department Store\")]"
      ]
     },
     "execution_count": 131,
     "metadata": {},
     "output_type": "execute_result"
    }
   ],
   "source": [
    "%%sql\n",
    "SELECT customer_num, customer_name\n",
    "FROM customer\n",
    "WHERE EXISTS\n",
    "(SELECT * FROM orders\n",
    "WHERE orders.customer_num = customer.customer_num AND order_date = '23-OCT-2010');"
   ]
  },
  {
   "cell_type": "markdown",
   "id": "d6f7c7c0",
   "metadata": {},
   "source": [
    "D.6. Find the number and name of each customer that did not place an order on October 23, 2010."
   ]
  },
  {
   "cell_type": "code",
   "execution_count": 132,
   "id": "e0aafdfa",
   "metadata": {},
   "outputs": [
    {
     "name": "stdout",
     "output_type": "stream",
     "text": [
      " * sqlite://\n",
      "Done.\n"
     ]
    },
    {
     "data": {
      "text/html": [
       "<table>\n",
       "    <tr>\n",
       "        <th>CUSTOMER_NUM</th>\n",
       "        <th>CUSTOMER_NAME</th>\n",
       "    </tr>\n",
       "    <tr>\n",
       "        <td>282</td>\n",
       "        <td>Brookings Direct</td>\n",
       "    </tr>\n",
       "    <tr>\n",
       "        <td>356</td>\n",
       "        <td>Ferguson&#x27;s</td>\n",
       "    </tr>\n",
       "    <tr>\n",
       "        <td>408</td>\n",
       "        <td>The Everything Shop</td>\n",
       "    </tr>\n",
       "    <tr>\n",
       "        <td>462</td>\n",
       "        <td>Bargains Galore</td>\n",
       "    </tr>\n",
       "    <tr>\n",
       "        <td>524</td>\n",
       "        <td>Kline&#x27;s</td>\n",
       "    </tr>\n",
       "    <tr>\n",
       "        <td>687</td>\n",
       "        <td>Lee&#x27;s Sport and Appliance</td>\n",
       "    </tr>\n",
       "    <tr>\n",
       "        <td>725</td>\n",
       "        <td>Deerfield&#x27;s Four Seasons</td>\n",
       "    </tr>\n",
       "    <tr>\n",
       "        <td>842</td>\n",
       "        <td>All Season</td>\n",
       "    </tr>\n",
       "</table>"
      ],
      "text/plain": [
       "[('282', 'Brookings Direct'),\n",
       " ('356', \"Ferguson's\"),\n",
       " ('408', 'The Everything Shop'),\n",
       " ('462', 'Bargains Galore'),\n",
       " ('524', \"Kline's\"),\n",
       " ('687', \"Lee's Sport and Appliance\"),\n",
       " ('725', \"Deerfield's Four Seasons\"),\n",
       " ('842', 'All Season')]"
      ]
     },
     "execution_count": 132,
     "metadata": {},
     "output_type": "execute_result"
    }
   ],
   "source": [
    "%%sql\n",
    "SELECT customer_num, customer_name\n",
    "FROM customer\n",
    "WHERE customer_num NOT IN \n",
    "(SELECT customer_num FROM orders\n",
    "WHERE order_date = '23-OCT-2010');"
   ]
  },
  {
   "cell_type": "markdown",
   "id": "affef8ca",
   "metadata": {},
   "source": [
    "D.7. For each order, list the order number, order date, part number, part description, and item class for each part that makes up the order."
   ]
  },
  {
   "cell_type": "code",
   "execution_count": 133,
   "id": "1e3397c7",
   "metadata": {},
   "outputs": [
    {
     "name": "stdout",
     "output_type": "stream",
     "text": [
      " * sqlite://\n",
      "Done.\n"
     ]
    },
    {
     "data": {
      "text/html": [
       "<table>\n",
       "    <tr>\n",
       "        <th>ORDER_NUM</th>\n",
       "        <th>ORDER_DATE</th>\n",
       "        <th>PART_NUM</th>\n",
       "        <th>DESCRIPTION</th>\n",
       "        <th>CLASS</th>\n",
       "    </tr>\n",
       "    <tr>\n",
       "        <td>21608</td>\n",
       "        <td>20-OCT-2010</td>\n",
       "        <td>AT94</td>\n",
       "        <td>Iron</td>\n",
       "        <td>HW</td>\n",
       "    </tr>\n",
       "    <tr>\n",
       "        <td>21610</td>\n",
       "        <td>20-OCT-2010</td>\n",
       "        <td>DR93</td>\n",
       "        <td>Gas Range</td>\n",
       "        <td>AP</td>\n",
       "    </tr>\n",
       "    <tr>\n",
       "        <td>21610</td>\n",
       "        <td>20-OCT-2010</td>\n",
       "        <td>DW11</td>\n",
       "        <td>Washer</td>\n",
       "        <td>AP</td>\n",
       "    </tr>\n",
       "    <tr>\n",
       "        <td>21613</td>\n",
       "        <td>21-OCT-2010</td>\n",
       "        <td>KL62</td>\n",
       "        <td>Dryer</td>\n",
       "        <td>AP</td>\n",
       "    </tr>\n",
       "    <tr>\n",
       "        <td>21614</td>\n",
       "        <td>21-OCT-2010</td>\n",
       "        <td>KT03</td>\n",
       "        <td>Dishwasher</td>\n",
       "        <td>AP</td>\n",
       "    </tr>\n",
       "    <tr>\n",
       "        <td>21617</td>\n",
       "        <td>23-OCT-2010</td>\n",
       "        <td>BV06</td>\n",
       "        <td>Home Gym</td>\n",
       "        <td>SG</td>\n",
       "    </tr>\n",
       "    <tr>\n",
       "        <td>21617</td>\n",
       "        <td>23-OCT-2010</td>\n",
       "        <td>CD52</td>\n",
       "        <td>Microwave Oven</td>\n",
       "        <td>AP</td>\n",
       "    </tr>\n",
       "    <tr>\n",
       "        <td>21619</td>\n",
       "        <td>23-OCT-2010</td>\n",
       "        <td>DR93</td>\n",
       "        <td>Gas Range</td>\n",
       "        <td>AP</td>\n",
       "    </tr>\n",
       "    <tr>\n",
       "        <td>21623</td>\n",
       "        <td>23-OCT-2010</td>\n",
       "        <td>KV29</td>\n",
       "        <td>Treadmill</td>\n",
       "        <td>SG</td>\n",
       "    </tr>\n",
       "</table>"
      ],
      "text/plain": [
       "[('21608', '20-OCT-2010', 'AT94', 'Iron', 'HW'),\n",
       " ('21610', '20-OCT-2010', 'DR93', 'Gas Range', 'AP'),\n",
       " ('21610', '20-OCT-2010', 'DW11', 'Washer', 'AP'),\n",
       " ('21613', '21-OCT-2010', 'KL62', 'Dryer', 'AP'),\n",
       " ('21614', '21-OCT-2010', 'KT03', 'Dishwasher', 'AP'),\n",
       " ('21617', '23-OCT-2010', 'BV06', 'Home Gym', 'SG'),\n",
       " ('21617', '23-OCT-2010', 'CD52', 'Microwave Oven', 'AP'),\n",
       " ('21619', '23-OCT-2010', 'DR93', 'Gas Range', 'AP'),\n",
       " ('21623', '23-OCT-2010', 'KV29', 'Treadmill', 'SG')]"
      ]
     },
     "execution_count": 133,
     "metadata": {},
     "output_type": "execute_result"
    }
   ],
   "source": [
    "%%sql\n",
    "SELECT orders.order_num, order_date, order_line.part_num, part.description, part.class\n",
    "FROM orders\n",
    "LEFT JOIN order_line\n",
    "ON orders.order_num = order_line.order_num\n",
    "LEFT JOIN part\n",
    "ON part.part_num = order_line.part_num;"
   ]
  },
  {
   "cell_type": "markdown",
   "id": "2a721fa2",
   "metadata": {},
   "source": [
    "D.8. Repeat Exercise 7, but this time order the rows by item class and then by order number."
   ]
  },
  {
   "cell_type": "code",
   "execution_count": 134,
   "id": "26cd34f4",
   "metadata": {},
   "outputs": [
    {
     "name": "stdout",
     "output_type": "stream",
     "text": [
      " * sqlite://\n",
      "Done.\n"
     ]
    },
    {
     "data": {
      "text/html": [
       "<table>\n",
       "    <tr>\n",
       "        <th>ORDER_NUM</th>\n",
       "        <th>ORDER_DATE</th>\n",
       "        <th>PART_NUM</th>\n",
       "        <th>DESCRIPTION</th>\n",
       "        <th>CLASS</th>\n",
       "    </tr>\n",
       "    <tr>\n",
       "        <td>21610</td>\n",
       "        <td>20-OCT-2010</td>\n",
       "        <td>DR93</td>\n",
       "        <td>Gas Range</td>\n",
       "        <td>AP</td>\n",
       "    </tr>\n",
       "    <tr>\n",
       "        <td>21610</td>\n",
       "        <td>20-OCT-2010</td>\n",
       "        <td>DW11</td>\n",
       "        <td>Washer</td>\n",
       "        <td>AP</td>\n",
       "    </tr>\n",
       "    <tr>\n",
       "        <td>21613</td>\n",
       "        <td>21-OCT-2010</td>\n",
       "        <td>KL62</td>\n",
       "        <td>Dryer</td>\n",
       "        <td>AP</td>\n",
       "    </tr>\n",
       "    <tr>\n",
       "        <td>21614</td>\n",
       "        <td>21-OCT-2010</td>\n",
       "        <td>KT03</td>\n",
       "        <td>Dishwasher</td>\n",
       "        <td>AP</td>\n",
       "    </tr>\n",
       "    <tr>\n",
       "        <td>21617</td>\n",
       "        <td>23-OCT-2010</td>\n",
       "        <td>CD52</td>\n",
       "        <td>Microwave Oven</td>\n",
       "        <td>AP</td>\n",
       "    </tr>\n",
       "    <tr>\n",
       "        <td>21619</td>\n",
       "        <td>23-OCT-2010</td>\n",
       "        <td>DR93</td>\n",
       "        <td>Gas Range</td>\n",
       "        <td>AP</td>\n",
       "    </tr>\n",
       "    <tr>\n",
       "        <td>21608</td>\n",
       "        <td>20-OCT-2010</td>\n",
       "        <td>AT94</td>\n",
       "        <td>Iron</td>\n",
       "        <td>HW</td>\n",
       "    </tr>\n",
       "    <tr>\n",
       "        <td>21617</td>\n",
       "        <td>23-OCT-2010</td>\n",
       "        <td>BV06</td>\n",
       "        <td>Home Gym</td>\n",
       "        <td>SG</td>\n",
       "    </tr>\n",
       "    <tr>\n",
       "        <td>21623</td>\n",
       "        <td>23-OCT-2010</td>\n",
       "        <td>KV29</td>\n",
       "        <td>Treadmill</td>\n",
       "        <td>SG</td>\n",
       "    </tr>\n",
       "</table>"
      ],
      "text/plain": [
       "[('21610', '20-OCT-2010', 'DR93', 'Gas Range', 'AP'),\n",
       " ('21610', '20-OCT-2010', 'DW11', 'Washer', 'AP'),\n",
       " ('21613', '21-OCT-2010', 'KL62', 'Dryer', 'AP'),\n",
       " ('21614', '21-OCT-2010', 'KT03', 'Dishwasher', 'AP'),\n",
       " ('21617', '23-OCT-2010', 'CD52', 'Microwave Oven', 'AP'),\n",
       " ('21619', '23-OCT-2010', 'DR93', 'Gas Range', 'AP'),\n",
       " ('21608', '20-OCT-2010', 'AT94', 'Iron', 'HW'),\n",
       " ('21617', '23-OCT-2010', 'BV06', 'Home Gym', 'SG'),\n",
       " ('21623', '23-OCT-2010', 'KV29', 'Treadmill', 'SG')]"
      ]
     },
     "execution_count": 134,
     "metadata": {},
     "output_type": "execute_result"
    }
   ],
   "source": [
    "%%sql\n",
    "SELECT orders.order_num, order_date, order_line.part_num, part.description, part.class\n",
    "FROM orders\n",
    "LEFT JOIN order_line\n",
    "ON orders.order_num = order_line.order_num\n",
    "LEFT JOIN part\n",
    "ON part.part_num = order_line.part_num\n",
    "ORDER BY part.class, orders.order_num;"
   ]
  },
  {
   "cell_type": "markdown",
   "id": "7868d807",
   "metadata": {},
   "source": [
    "D.9. Use a subquery to find the rep number, last name, and first name of each sales rep who represents at least one customer with a credit limit of $10,000. List each sales rep only once in the results."
   ]
  },
  {
   "cell_type": "code",
   "execution_count": 135,
   "id": "0406e315",
   "metadata": {},
   "outputs": [
    {
     "name": "stdout",
     "output_type": "stream",
     "text": [
      " * sqlite://\n",
      "Done.\n"
     ]
    },
    {
     "data": {
      "text/html": [
       "<table>\n",
       "    <tr>\n",
       "        <th>REP_NUM</th>\n",
       "        <th>LAST_NAME</th>\n",
       "        <th>FIRST_NAME</th>\n",
       "    </tr>\n",
       "    <tr>\n",
       "        <td>35</td>\n",
       "        <td>Hull</td>\n",
       "        <td>Richard</td>\n",
       "    </tr>\n",
       "    <tr>\n",
       "        <td>65</td>\n",
       "        <td>Perez</td>\n",
       "        <td>Juan</td>\n",
       "    </tr>\n",
       "</table>"
      ],
      "text/plain": [
       "[('35', 'Hull', 'Richard'), ('65', 'Perez', 'Juan')]"
      ]
     },
     "execution_count": 135,
     "metadata": {},
     "output_type": "execute_result"
    }
   ],
   "source": [
    "%%sql\n",
    "SELECT rep_num, last_name, first_name\n",
    "FROM rep\n",
    "WHERE rep_num IN\n",
    "(SELECT rep_num FROM customer\n",
    "WHERE credit_limit = 10000);"
   ]
  },
  {
   "cell_type": "markdown",
   "id": "6d282852",
   "metadata": {},
   "source": [
    "D.10. Repeat Exercise 9, but this time do not use a subquery."
   ]
  },
  {
   "cell_type": "code",
   "execution_count": 136,
   "id": "6a67c091",
   "metadata": {},
   "outputs": [
    {
     "name": "stdout",
     "output_type": "stream",
     "text": [
      " * sqlite://\n",
      "Done.\n"
     ]
    },
    {
     "data": {
      "text/html": [
       "<table>\n",
       "    <tr>\n",
       "        <th>REP_NUM</th>\n",
       "        <th>LAST_NAME</th>\n",
       "        <th>FIRST_NAME</th>\n",
       "    </tr>\n",
       "    <tr>\n",
       "        <td>35</td>\n",
       "        <td>Hull</td>\n",
       "        <td>Richard</td>\n",
       "    </tr>\n",
       "    <tr>\n",
       "        <td>65</td>\n",
       "        <td>Perez</td>\n",
       "        <td>Juan</td>\n",
       "    </tr>\n",
       "</table>"
      ],
      "text/plain": [
       "[('35', 'Hull', 'Richard'), ('65', 'Perez', 'Juan')]"
      ]
     },
     "execution_count": 136,
     "metadata": {},
     "output_type": "execute_result"
    }
   ],
   "source": [
    "%%sql\n",
    "SELECT DISTINCT rep.rep_num, last_name, first_name\n",
    "FROM rep\n",
    "LEFT JOIN customer \n",
    "ON rep.rep_num = customer.rep_num\n",
    "WHERE credit_limit = 10000;"
   ]
  },
  {
   "cell_type": "markdown",
   "id": "267f8eaf",
   "metadata": {},
   "source": [
    "D.11. Find the number and name of each customer that currently has an order on file for a\n",
    "Gas Range."
   ]
  },
  {
   "cell_type": "code",
   "execution_count": 137,
   "id": "25ff39d9",
   "metadata": {},
   "outputs": [
    {
     "name": "stdout",
     "output_type": "stream",
     "text": [
      " * sqlite://\n",
      "Done.\n"
     ]
    },
    {
     "data": {
      "text/html": [
       "<table>\n",
       "    <tr>\n",
       "        <th>CUSTOMER_NUM</th>\n",
       "        <th>CUSTOMER_NAME</th>\n",
       "    </tr>\n",
       "    <tr>\n",
       "        <td>356</td>\n",
       "        <td>Ferguson&#x27;s</td>\n",
       "    </tr>\n",
       "    <tr>\n",
       "        <td>148</td>\n",
       "        <td>Al&#x27;s Appliance and Sport</td>\n",
       "    </tr>\n",
       "</table>"
      ],
      "text/plain": [
       "[('356', \"Ferguson's\"), ('148', \"Al's Appliance and Sport\")]"
      ]
     },
     "execution_count": 137,
     "metadata": {},
     "output_type": "execute_result"
    }
   ],
   "source": [
    "%%sql\n",
    "SELECT CUSTOMER_NUM, CUSTOMER_NAME\n",
    "FROM CUSTOMER \n",
    "    NATURAL JOIN ORDERS\n",
    "    NATURAL JOIN ORDER_LINE \n",
    "    NATURAL JOIN PART\n",
    "WHERE DESCRIPTION = 'Gas Range';"
   ]
  },
  {
   "cell_type": "markdown",
   "id": "feb391e5",
   "metadata": {},
   "source": [
    "D.12. List the part number, part description, and item class for each pair of parts that are in the same item class. (For example, one such pair would be part AT94 and part FD21, because the item class for both parts is HW.)"
   ]
  },
  {
   "attachments": {},
   "cell_type": "markdown",
   "id": "5addd230",
   "metadata": {},
   "source": [
    "Assume we want non-duplicate pairs: \n",
    "e.g. (AT94, FD21) and (FD21, AT94) represent same pairs."
   ]
  },
  {
   "cell_type": "code",
   "execution_count": 138,
   "id": "e5b2ff37",
   "metadata": {},
   "outputs": [
    {
     "name": "stdout",
     "output_type": "stream",
     "text": [
      " * sqlite://\n",
      "Done.\n"
     ]
    },
    {
     "data": {
      "text/html": [
       "<table>\n",
       "    <tr>\n",
       "        <th>CLASS</th>\n",
       "        <th>PART_NUM_1</th>\n",
       "        <th>DESCRIPTION_1</th>\n",
       "        <th>PART_NUM_2</th>\n",
       "        <th>DESCRIPTION_2</th>\n",
       "    </tr>\n",
       "    <tr>\n",
       "        <td>HW</td>\n",
       "        <td>AT94</td>\n",
       "        <td>Iron</td>\n",
       "        <td>DL71</td>\n",
       "        <td>Cordless Drill</td>\n",
       "    </tr>\n",
       "    <tr>\n",
       "        <td>HW</td>\n",
       "        <td>AT94</td>\n",
       "        <td>Iron</td>\n",
       "        <td>FD21</td>\n",
       "        <td>Stand Mixer</td>\n",
       "    </tr>\n",
       "    <tr>\n",
       "        <td>SG</td>\n",
       "        <td>BV06</td>\n",
       "        <td>Home Gym</td>\n",
       "        <td>KV29</td>\n",
       "        <td>Treadmill</td>\n",
       "    </tr>\n",
       "    <tr>\n",
       "        <td>AP</td>\n",
       "        <td>CD52</td>\n",
       "        <td>Microwave Oven</td>\n",
       "        <td>DR93</td>\n",
       "        <td>Gas Range</td>\n",
       "    </tr>\n",
       "    <tr>\n",
       "        <td>AP</td>\n",
       "        <td>CD52</td>\n",
       "        <td>Microwave Oven</td>\n",
       "        <td>DW11</td>\n",
       "        <td>Washer</td>\n",
       "    </tr>\n",
       "    <tr>\n",
       "        <td>AP</td>\n",
       "        <td>CD52</td>\n",
       "        <td>Microwave Oven</td>\n",
       "        <td>KL62</td>\n",
       "        <td>Dryer</td>\n",
       "    </tr>\n",
       "    <tr>\n",
       "        <td>AP</td>\n",
       "        <td>CD52</td>\n",
       "        <td>Microwave Oven</td>\n",
       "        <td>KT03</td>\n",
       "        <td>Dishwasher</td>\n",
       "    </tr>\n",
       "    <tr>\n",
       "        <td>HW</td>\n",
       "        <td>DL71</td>\n",
       "        <td>Cordless Drill</td>\n",
       "        <td>FD21</td>\n",
       "        <td>Stand Mixer</td>\n",
       "    </tr>\n",
       "    <tr>\n",
       "        <td>AP</td>\n",
       "        <td>DR93</td>\n",
       "        <td>Gas Range</td>\n",
       "        <td>DW11</td>\n",
       "        <td>Washer</td>\n",
       "    </tr>\n",
       "    <tr>\n",
       "        <td>AP</td>\n",
       "        <td>DR93</td>\n",
       "        <td>Gas Range</td>\n",
       "        <td>KL62</td>\n",
       "        <td>Dryer</td>\n",
       "    </tr>\n",
       "    <tr>\n",
       "        <td>AP</td>\n",
       "        <td>DR93</td>\n",
       "        <td>Gas Range</td>\n",
       "        <td>KT03</td>\n",
       "        <td>Dishwasher</td>\n",
       "    </tr>\n",
       "    <tr>\n",
       "        <td>AP</td>\n",
       "        <td>DW11</td>\n",
       "        <td>Washer</td>\n",
       "        <td>KL62</td>\n",
       "        <td>Dryer</td>\n",
       "    </tr>\n",
       "    <tr>\n",
       "        <td>AP</td>\n",
       "        <td>DW11</td>\n",
       "        <td>Washer</td>\n",
       "        <td>KT03</td>\n",
       "        <td>Dishwasher</td>\n",
       "    </tr>\n",
       "    <tr>\n",
       "        <td>AP</td>\n",
       "        <td>KL62</td>\n",
       "        <td>Dryer</td>\n",
       "        <td>KT03</td>\n",
       "        <td>Dishwasher</td>\n",
       "    </tr>\n",
       "</table>"
      ],
      "text/plain": [
       "[('HW', 'AT94', 'Iron', 'DL71', 'Cordless Drill'),\n",
       " ('HW', 'AT94', 'Iron', 'FD21', 'Stand Mixer'),\n",
       " ('SG', 'BV06', 'Home Gym', 'KV29', 'Treadmill'),\n",
       " ('AP', 'CD52', 'Microwave Oven', 'DR93', 'Gas Range'),\n",
       " ('AP', 'CD52', 'Microwave Oven', 'DW11', 'Washer'),\n",
       " ('AP', 'CD52', 'Microwave Oven', 'KL62', 'Dryer'),\n",
       " ('AP', 'CD52', 'Microwave Oven', 'KT03', 'Dishwasher'),\n",
       " ('HW', 'DL71', 'Cordless Drill', 'FD21', 'Stand Mixer'),\n",
       " ('AP', 'DR93', 'Gas Range', 'DW11', 'Washer'),\n",
       " ('AP', 'DR93', 'Gas Range', 'KL62', 'Dryer'),\n",
       " ('AP', 'DR93', 'Gas Range', 'KT03', 'Dishwasher'),\n",
       " ('AP', 'DW11', 'Washer', 'KL62', 'Dryer'),\n",
       " ('AP', 'DW11', 'Washer', 'KT03', 'Dishwasher'),\n",
       " ('AP', 'KL62', 'Dryer', 'KT03', 'Dishwasher')]"
      ]
     },
     "execution_count": 138,
     "metadata": {},
     "output_type": "execute_result"
    }
   ],
   "source": [
    "%%sql\n",
    "SELECT A.CLASS,\n",
    "       A.PART_NUM AS PART_NUM_1, \n",
    "       A.DESCRIPTION AS DESCRIPTION_1,\n",
    "       B.PART_NUM AS PART_NUM_2, \n",
    "       B.DESCRIPTION AS DESCRIPTION_2\n",
    "FROM PART A, PART B\n",
    "WHERE A.CLASS = B.CLASS \n",
    "    AND A.PART_NUM < B.PART_NUM;"
   ]
  },
  {
   "cell_type": "markdown",
   "id": "f761c0a2",
   "metadata": {},
   "source": [
    "D.13. List the order number and order date for each order placed by the customer named Johnson’s Department Store. (Hint: To enter an apostrophe (single quotation mark) within a string of characters, type two single quotation marks.)"
   ]
  },
  {
   "cell_type": "code",
   "execution_count": 139,
   "id": "6594cd51",
   "metadata": {},
   "outputs": [
    {
     "name": "stdout",
     "output_type": "stream",
     "text": [
      " * sqlite://\n",
      "Done.\n"
     ]
    },
    {
     "data": {
      "text/html": [
       "<table>\n",
       "    <tr>\n",
       "        <th>ORDER_NUM</th>\n",
       "        <th>ORDER_DATE</th>\n",
       "    </tr>\n",
       "    <tr>\n",
       "        <td>21617</td>\n",
       "        <td>23-OCT-2010</td>\n",
       "    </tr>\n",
       "    <tr>\n",
       "        <td>21623</td>\n",
       "        <td>23-OCT-2010</td>\n",
       "    </tr>\n",
       "</table>"
      ],
      "text/plain": [
       "[('21617', '23-OCT-2010'), ('21623', '23-OCT-2010')]"
      ]
     },
     "execution_count": 139,
     "metadata": {},
     "output_type": "execute_result"
    }
   ],
   "source": [
    "%%sql\n",
    "SELECT ORDER_NUM, ORDER_DATE\n",
    "FROM CUSTOMER NATURAL JOIN ORDERS\n",
    "WHERE CUSTOMER_NAME = \"Johnson's Department Store\";"
   ]
  },
  {
   "cell_type": "markdown",
   "id": "589f155b",
   "metadata": {},
   "source": [
    "D.14. List the order number and order date for each order that contains an order line for an Iron."
   ]
  },
  {
   "cell_type": "code",
   "execution_count": 140,
   "id": "0d88b7c0",
   "metadata": {},
   "outputs": [
    {
     "name": "stdout",
     "output_type": "stream",
     "text": [
      " * sqlite://\n",
      "Done.\n"
     ]
    },
    {
     "data": {
      "text/html": [
       "<table>\n",
       "    <tr>\n",
       "        <th>ORDER_NUM</th>\n",
       "        <th>ORDER_DATE</th>\n",
       "    </tr>\n",
       "    <tr>\n",
       "        <td>21608</td>\n",
       "        <td>20-OCT-2010</td>\n",
       "    </tr>\n",
       "</table>"
      ],
      "text/plain": [
       "[('21608', '20-OCT-2010')]"
      ]
     },
     "execution_count": 140,
     "metadata": {},
     "output_type": "execute_result"
    }
   ],
   "source": [
    "%%sql\n",
    "SELECT ORDER_NUM, ORDER_DATE\n",
    "FROM ORDERS \n",
    "    NATURAL JOIN ORDER_LINE \n",
    "    NATURAL JOIN PART\n",
    "WHERE DESCRIPTION = 'Iron';\n"
   ]
  },
  {
   "cell_type": "markdown",
   "id": "8220b37c",
   "metadata": {},
   "source": [
    "D.15. List the order number and order date for each order that either was placed by Johnson’s Department Store or that contains an order line for a Gas Range."
   ]
  },
  {
   "cell_type": "code",
   "execution_count": 141,
   "id": "b4ee4418",
   "metadata": {},
   "outputs": [
    {
     "name": "stdout",
     "output_type": "stream",
     "text": [
      " * sqlite://\n",
      "Done.\n"
     ]
    },
    {
     "data": {
      "text/html": [
       "<table>\n",
       "    <tr>\n",
       "        <th>ORDER_NUM</th>\n",
       "        <th>ORDER_DATE</th>\n",
       "    </tr>\n",
       "    <tr>\n",
       "        <td>21610</td>\n",
       "        <td>20-OCT-2010</td>\n",
       "    </tr>\n",
       "    <tr>\n",
       "        <td>21617</td>\n",
       "        <td>23-OCT-2010</td>\n",
       "    </tr>\n",
       "    <tr>\n",
       "        <td>21617</td>\n",
       "        <td>23-OCT-2010</td>\n",
       "    </tr>\n",
       "    <tr>\n",
       "        <td>21619</td>\n",
       "        <td>23-OCT-2010</td>\n",
       "    </tr>\n",
       "    <tr>\n",
       "        <td>21623</td>\n",
       "        <td>23-OCT-2010</td>\n",
       "    </tr>\n",
       "</table>"
      ],
      "text/plain": [
       "[('21610', '20-OCT-2010'),\n",
       " ('21617', '23-OCT-2010'),\n",
       " ('21617', '23-OCT-2010'),\n",
       " ('21619', '23-OCT-2010'),\n",
       " ('21623', '23-OCT-2010')]"
      ]
     },
     "execution_count": 141,
     "metadata": {},
     "output_type": "execute_result"
    }
   ],
   "source": [
    "%%sql\n",
    "SELECT ORDER_NUM, ORDER_DATE\n",
    "FROM CUSTOMER \n",
    "    NATURAL JOIN ORDERS \n",
    "    NATURAL JOIN ORDER_LINE\n",
    "    NATURAL JOIN PART\n",
    "WHERE CUSTOMER_NAME = \"Johnson's Department Store\"\n",
    "    OR DESCRIPTION = 'Gas Range';"
   ]
  },
  {
   "cell_type": "markdown",
   "id": "f7fe7817",
   "metadata": {},
   "source": [
    "D.16. List the order number and order date for each order that was placed by Johnson’s Department Store and that contains an order line for a Gas Range."
   ]
  },
  {
   "cell_type": "code",
   "execution_count": 142,
   "id": "bf574001",
   "metadata": {},
   "outputs": [
    {
     "name": "stdout",
     "output_type": "stream",
     "text": [
      " * sqlite://\n",
      "Done.\n"
     ]
    },
    {
     "data": {
      "text/html": [
       "<table>\n",
       "    <tr>\n",
       "        <th>ORDER_NUM</th>\n",
       "        <th>ORDER_DATE</th>\n",
       "    </tr>\n",
       "</table>"
      ],
      "text/plain": [
       "[]"
      ]
     },
     "execution_count": 142,
     "metadata": {},
     "output_type": "execute_result"
    }
   ],
   "source": [
    "%%sql\n",
    "select orders.order_num, orders.order_date\n",
    "from order_line\n",
    " left join part\n",
    " on part.part_num = order_line.part_num\n",
    "right join orders\n",
    "on orders.order_num = order_line.order_num\n",
    "left join customer\n",
    "on orders.customer_num=customer.customer_num\n",
    "where description = \"Gas Range\" and customer_name= \"Johnson’s Department Store\""
   ]
  },
  {
   "cell_type": "markdown",
   "id": "8e3afc04",
   "metadata": {},
   "source": [
    "D.17. List the order number and order date for each order that was placed by Johnson’s Department Store but that does not contain an order line for a Gas Range."
   ]
  },
  {
   "cell_type": "code",
   "execution_count": 143,
   "id": "37939819",
   "metadata": {},
   "outputs": [
    {
     "name": "stdout",
     "output_type": "stream",
     "text": [
      " * sqlite://\n",
      "Done.\n"
     ]
    },
    {
     "data": {
      "text/html": [
       "<table>\n",
       "    <tr>\n",
       "        <th>ORDER_NUM</th>\n",
       "        <th>ORDER_DATE</th>\n",
       "        <th>CUSTOMER_NAME</th>\n",
       "    </tr>\n",
       "    <tr>\n",
       "        <td>21617</td>\n",
       "        <td>23-OCT-2010</td>\n",
       "        <td>Johnson&#x27;s Department Store</td>\n",
       "    </tr>\n",
       "    <tr>\n",
       "        <td>21617</td>\n",
       "        <td>23-OCT-2010</td>\n",
       "        <td>Johnson&#x27;s Department Store</td>\n",
       "    </tr>\n",
       "    <tr>\n",
       "        <td>21623</td>\n",
       "        <td>23-OCT-2010</td>\n",
       "        <td>Johnson&#x27;s Department Store</td>\n",
       "    </tr>\n",
       "</table>"
      ],
      "text/plain": [
       "[('21617', '23-OCT-2010', \"Johnson's Department Store\"),\n",
       " ('21617', '23-OCT-2010', \"Johnson's Department Store\"),\n",
       " ('21623', '23-OCT-2010', \"Johnson's Department Store\")]"
      ]
     },
     "execution_count": 143,
     "metadata": {},
     "output_type": "execute_result"
    }
   ],
   "source": [
    "%%sql\n",
    "select orders.order_num, orders.order_date,customer.customer_name\n",
    "from order_line\n",
    " left join part\n",
    " on part.part_num = order_line.part_num\n",
    "right join orders\n",
    "on orders.order_num = order_line.order_num\n",
    "left join customer\n",
    "on orders.customer_num=customer.customer_num\n",
    "where description != \"Gas Range\" and customer_name = \"Johnson's Department Store\""
   ]
  },
  {
   "cell_type": "markdown",
   "id": "a310d136",
   "metadata": {},
   "source": [
    "D.18. For each part, list the part number, description, units on hand, order number, and number of units ordered. All parts should be included in the results. For those parts that are currently not on order, the order number and number of units ordered should be left blank (None/NULL/NA). Order the results by part number."
   ]
  },
  {
   "cell_type": "code",
   "execution_count": 144,
   "id": "4a55d41b",
   "metadata": {},
   "outputs": [
    {
     "name": "stdout",
     "output_type": "stream",
     "text": [
      " * sqlite://\n",
      "Done.\n"
     ]
    },
    {
     "data": {
      "text/html": [
       "<table>\n",
       "    <tr>\n",
       "        <th>PART_NUM</th>\n",
       "        <th>DESCRIPTION</th>\n",
       "        <th>ON_HAND</th>\n",
       "        <th>ORDER_NUM</th>\n",
       "        <th>NUM_ORDERED</th>\n",
       "    </tr>\n",
       "    <tr>\n",
       "        <td>AT94</td>\n",
       "        <td>Iron</td>\n",
       "        <td>50</td>\n",
       "        <td>21608</td>\n",
       "        <td>11</td>\n",
       "    </tr>\n",
       "    <tr>\n",
       "        <td>BV06</td>\n",
       "        <td>Home Gym</td>\n",
       "        <td>45</td>\n",
       "        <td>21617</td>\n",
       "        <td>2</td>\n",
       "    </tr>\n",
       "    <tr>\n",
       "        <td>CD52</td>\n",
       "        <td>Microwave Oven</td>\n",
       "        <td>32</td>\n",
       "        <td>21617</td>\n",
       "        <td>4</td>\n",
       "    </tr>\n",
       "    <tr>\n",
       "        <td>DL71</td>\n",
       "        <td>Cordless Drill</td>\n",
       "        <td>21</td>\n",
       "        <td>None</td>\n",
       "        <td>None</td>\n",
       "    </tr>\n",
       "    <tr>\n",
       "        <td>DR93</td>\n",
       "        <td>Gas Range</td>\n",
       "        <td>8</td>\n",
       "        <td>21610</td>\n",
       "        <td>1</td>\n",
       "    </tr>\n",
       "    <tr>\n",
       "        <td>DR93</td>\n",
       "        <td>Gas Range</td>\n",
       "        <td>8</td>\n",
       "        <td>21619</td>\n",
       "        <td>1</td>\n",
       "    </tr>\n",
       "    <tr>\n",
       "        <td>DW11</td>\n",
       "        <td>Washer</td>\n",
       "        <td>12</td>\n",
       "        <td>21610</td>\n",
       "        <td>1</td>\n",
       "    </tr>\n",
       "    <tr>\n",
       "        <td>FD21</td>\n",
       "        <td>Stand Mixer</td>\n",
       "        <td>22</td>\n",
       "        <td>None</td>\n",
       "        <td>None</td>\n",
       "    </tr>\n",
       "    <tr>\n",
       "        <td>KL62</td>\n",
       "        <td>Dryer</td>\n",
       "        <td>12</td>\n",
       "        <td>21613</td>\n",
       "        <td>4</td>\n",
       "    </tr>\n",
       "    <tr>\n",
       "        <td>KT03</td>\n",
       "        <td>Dishwasher</td>\n",
       "        <td>8</td>\n",
       "        <td>21614</td>\n",
       "        <td>2</td>\n",
       "    </tr>\n",
       "    <tr>\n",
       "        <td>KV29</td>\n",
       "        <td>Treadmill</td>\n",
       "        <td>9</td>\n",
       "        <td>21623</td>\n",
       "        <td>2</td>\n",
       "    </tr>\n",
       "</table>"
      ],
      "text/plain": [
       "[('AT94', 'Iron', 50, '21608', 11),\n",
       " ('BV06', 'Home Gym', 45, '21617', 2),\n",
       " ('CD52', 'Microwave Oven', 32, '21617', 4),\n",
       " ('DL71', 'Cordless Drill', 21, None, None),\n",
       " ('DR93', 'Gas Range', 8, '21610', 1),\n",
       " ('DR93', 'Gas Range', 8, '21619', 1),\n",
       " ('DW11', 'Washer', 12, '21610', 1),\n",
       " ('FD21', 'Stand Mixer', 22, None, None),\n",
       " ('KL62', 'Dryer', 12, '21613', 4),\n",
       " ('KT03', 'Dishwasher', 8, '21614', 2),\n",
       " ('KV29', 'Treadmill', 9, '21623', 2)]"
      ]
     },
     "execution_count": 144,
     "metadata": {},
     "output_type": "execute_result"
    }
   ],
   "source": [
    "%%sql\n",
    "select part.part_num, description, on_hand, order_num, num_ordered\n",
    "from part\n",
    " left join order_line\n",
    " on part.part_num = order_line.part_num\n",
    "order by part.part_num"
   ]
  }
 ],
 "metadata": {
  "kernelspec": {
   "display_name": "base",
   "language": "python",
   "name": "python3"
  },
  "language_info": {
   "codemirror_mode": {
    "name": "ipython",
    "version": 3
   },
   "file_extension": ".py",
   "mimetype": "text/x-python",
   "name": "python",
   "nbconvert_exporter": "python",
   "pygments_lexer": "ipython3",
   "version": "3.9.13"
  },
  "vscode": {
   "interpreter": {
    "hash": "3c6cec38eb5928dfec6c782ad9dcb1feb46f0f13231e943fab2650acfed4d504"
   }
  }
 },
 "nbformat": 4,
 "nbformat_minor": 5
}
